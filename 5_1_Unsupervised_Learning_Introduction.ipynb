{
  "nbformat": 4,
  "nbformat_minor": 0,
  "metadata": {
    "colab": {
      "name": "5.1 - Unsupervised Learning - Introduction.ipynb",
      "provenance": [],
      "authorship_tag": "ABX9TyN4vWHhuHkupy3vIAUXB2b8",
      "include_colab_link": true
    },
    "kernelspec": {
      "name": "python3",
      "display_name": "Python 3"
    }
  },
  "cells": [
    {
      "cell_type": "markdown",
      "metadata": {
        "id": "view-in-github",
        "colab_type": "text"
      },
      "source": [
        "<a href=\"https://colab.research.google.com/github/chaurasiauttkarsh/Machine-Learning/blob/master/5_1_Unsupervised_Learning_Introduction.ipynb\" target=\"_parent\"><img src=\"https://colab.research.google.com/assets/colab-badge.svg\" alt=\"Open In Colab\"/></a>"
      ]
    },
    {
      "cell_type": "markdown",
      "metadata": {
        "id": "ouLUu1P2PqKp",
        "colab_type": "text"
      },
      "source": [
        "**Types of Unsupervised Learning**\n"
      ]
    },
    {
      "cell_type": "markdown",
      "metadata": {
        "id": "eIYHJJhLPxiP",
        "colab_type": "text"
      },
      "source": [
        "**Unsupervised Transformations**"
      ]
    },
    {
      "cell_type": "markdown",
      "metadata": {
        "id": "vaYzTZo1QlAV",
        "colab_type": "text"
      },
      "source": [
        "Unsupervised transformations of a dataset are algorithms that create a new representation of the data which might be easier for humans or other machine learning algorithms to understand compared to the original representation of the data. A common application of unsupervised transformations is dimensionality reduction, which takes a high-dimensional representation of the data, consisting of many features, and finds a new way to represent this data that summarizes the essential characteristics with fewer features. A common application for dimensionality reduction is reduction to two dimensions for visualization purposes."
      ]
    },
    {
      "cell_type": "markdown",
      "metadata": {
        "id": "VXeXaeqVR_OT",
        "colab_type": "text"
      },
      "source": [
        "**Component Analysis**"
      ]
    },
    {
      "cell_type": "markdown",
      "metadata": {
        "id": "QnxI1dAXRwfd",
        "colab_type": "text"
      },
      "source": [
        "Another application for unsupervised transformations is finding the parts or components that “make up” the data. An example of this is topic extraction on collections of text documents. Here, the task is to find the unknown topics that are talked about in each document, and to learn what topics appear in each document. This can be useful for tracking the discussion of themes like elections, gun control, or pop stars on social media."
      ]
    },
    {
      "cell_type": "markdown",
      "metadata": {
        "id": "aOpWPXm7SIxc",
        "colab_type": "text"
      },
      "source": [
        "**Clustering**"
      ]
    },
    {
      "cell_type": "markdown",
      "metadata": {
        "id": "uDKSDw7PR2tD",
        "colab_type": "text"
      },
      "source": [
        "Clustering algorithms, on the other hand, partition data into distinct groups of similar items. Consider the example of uploading photos to a social media site. To allow you to organize your pictures, the site might want to group together pictures that show the same person. However, the site doesn’t know which pictures show whom, and it doesn’t know how many different people appear in your photo collection. A sensible approach would be to extract all the faces and divide them into groups of faces that look similar. Hopefully, these correspond to the same person, and the images can be grouped together for you."
      ]
    }
  ]
}