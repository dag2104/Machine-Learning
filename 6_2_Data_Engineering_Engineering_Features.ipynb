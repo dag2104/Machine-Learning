{
  "nbformat": 4,
  "nbformat_minor": 0,
  "metadata": {
    "colab": {
      "name": "6.2 - Data Engineering - Engineering Features.ipynb",
      "provenance": [],
      "authorship_tag": "ABX9TyM5mI1ms4GpIJLIWQqpHGIb",
      "include_colab_link": true
    },
    "kernelspec": {
      "name": "python3",
      "display_name": "Python 3"
    }
  },
  "cells": [
    {
      "cell_type": "markdown",
      "metadata": {
        "id": "view-in-github",
        "colab_type": "text"
      },
      "source": [
        "<a href=\"https://colab.research.google.com/github/chaurasiauttkarsh/Machine-Learning/blob/master/6_2_Data_Engineering_Engineering_Features.ipynb\" target=\"_parent\"><img src=\"https://colab.research.google.com/assets/colab-badge.svg\" alt=\"Open In Colab\"/></a>"
      ]
    },
    {
      "cell_type": "markdown",
      "metadata": {
        "id": "nslfIzbwsJDY",
        "colab_type": "text"
      },
      "source": [
        "**Binning, Discretization, Linear Models, and Trees**"
      ]
    },
    {
      "cell_type": "markdown",
      "metadata": {
        "id": "oPCDFkYXsVLK",
        "colab_type": "text"
      },
      "source": [
        "Linear models and tree-based models (such as decision trees, gradient boosted trees, and random forests), two large and very commonly used families, have very different properties when it comes to how they work with different feature representations."
      ]
    },
    {
      "cell_type": "code",
      "metadata": {
        "id": "_Pve0akhs6Mr",
        "colab_type": "code",
        "colab": {
          "base_uri": "https://localhost:8080/",
          "height": 513
        },
        "outputId": "70a174cd-e47b-4e5d-d792-245a2b1e822a"
      },
      "source": [
        "!pip install mglearn\n",
        "import mglearn"
      ],
      "execution_count": 1,
      "outputs": [
        {
          "output_type": "stream",
          "text": [
            "Collecting mglearn\n",
            "\u001b[?25l  Downloading https://files.pythonhosted.org/packages/fb/01/8d3630ecc767c9de96a9c46e055f2a3a5f9e14a47d3d0348a36a5005fe67/mglearn-0.1.7.tar.gz (540kB)\n",
            "\r\u001b[K     |▋                               | 10kB 20.1MB/s eta 0:00:01\r\u001b[K     |█▏                              | 20kB 3.2MB/s eta 0:00:01\r\u001b[K     |█▉                              | 30kB 4.6MB/s eta 0:00:01\r\u001b[K     |██▍                             | 40kB 3.0MB/s eta 0:00:01\r\u001b[K     |███                             | 51kB 3.7MB/s eta 0:00:01\r\u001b[K     |███▋                            | 61kB 4.4MB/s eta 0:00:01\r\u001b[K     |████▎                           | 71kB 5.1MB/s eta 0:00:01\r\u001b[K     |████▉                           | 81kB 4.0MB/s eta 0:00:01\r\u001b[K     |█████▌                          | 92kB 4.4MB/s eta 0:00:01\r\u001b[K     |██████                          | 102kB 4.9MB/s eta 0:00:01\r\u001b[K     |██████▋                         | 112kB 4.9MB/s eta 0:00:01\r\u001b[K     |███████▎                        | 122kB 4.9MB/s eta 0:00:01\r\u001b[K     |███████▉                        | 133kB 4.9MB/s eta 0:00:01\r\u001b[K     |████████▌                       | 143kB 4.9MB/s eta 0:00:01\r\u001b[K     |█████████                       | 153kB 4.9MB/s eta 0:00:01\r\u001b[K     |█████████▊                      | 163kB 4.9MB/s eta 0:00:01\r\u001b[K     |██████████▎                     | 174kB 4.9MB/s eta 0:00:01\r\u001b[K     |███████████                     | 184kB 4.9MB/s eta 0:00:01\r\u001b[K     |███████████▌                    | 194kB 4.9MB/s eta 0:00:01\r\u001b[K     |████████████▏                   | 204kB 4.9MB/s eta 0:00:01\r\u001b[K     |████████████▊                   | 215kB 4.9MB/s eta 0:00:01\r\u001b[K     |█████████████▎                  | 225kB 4.9MB/s eta 0:00:01\r\u001b[K     |██████████████                  | 235kB 4.9MB/s eta 0:00:01\r\u001b[K     |██████████████▌                 | 245kB 4.9MB/s eta 0:00:01\r\u001b[K     |███████████████▏                | 256kB 4.9MB/s eta 0:00:01\r\u001b[K     |███████████████▊                | 266kB 4.9MB/s eta 0:00:01\r\u001b[K     |████████████████▍               | 276kB 4.9MB/s eta 0:00:01\r\u001b[K     |█████████████████               | 286kB 4.9MB/s eta 0:00:01\r\u001b[K     |█████████████████▋              | 296kB 4.9MB/s eta 0:00:01\r\u001b[K     |██████████████████▏             | 307kB 4.9MB/s eta 0:00:01\r\u001b[K     |██████████████████▊             | 317kB 4.9MB/s eta 0:00:01\r\u001b[K     |███████████████████▍            | 327kB 4.9MB/s eta 0:00:01\r\u001b[K     |████████████████████            | 337kB 4.9MB/s eta 0:00:01\r\u001b[K     |████████████████████▋           | 348kB 4.9MB/s eta 0:00:01\r\u001b[K     |█████████████████████▏          | 358kB 4.9MB/s eta 0:00:01\r\u001b[K     |█████████████████████▉          | 368kB 4.9MB/s eta 0:00:01\r\u001b[K     |██████████████████████▍         | 378kB 4.9MB/s eta 0:00:01\r\u001b[K     |███████████████████████         | 389kB 4.9MB/s eta 0:00:01\r\u001b[K     |███████████████████████▋        | 399kB 4.9MB/s eta 0:00:01\r\u001b[K     |████████████████████████▎       | 409kB 4.9MB/s eta 0:00:01\r\u001b[K     |████████████████████████▉       | 419kB 4.9MB/s eta 0:00:01\r\u001b[K     |█████████████████████████▍      | 430kB 4.9MB/s eta 0:00:01\r\u001b[K     |██████████████████████████      | 440kB 4.9MB/s eta 0:00:01\r\u001b[K     |██████████████████████████▋     | 450kB 4.9MB/s eta 0:00:01\r\u001b[K     |███████████████████████████▎    | 460kB 4.9MB/s eta 0:00:01\r\u001b[K     |███████████████████████████▉    | 471kB 4.9MB/s eta 0:00:01\r\u001b[K     |████████████████████████████▌   | 481kB 4.9MB/s eta 0:00:01\r\u001b[K     |█████████████████████████████   | 491kB 4.9MB/s eta 0:00:01\r\u001b[K     |█████████████████████████████▊  | 501kB 4.9MB/s eta 0:00:01\r\u001b[K     |██████████████████████████████▎ | 512kB 4.9MB/s eta 0:00:01\r\u001b[K     |███████████████████████████████ | 522kB 4.9MB/s eta 0:00:01\r\u001b[K     |███████████████████████████████▌| 532kB 4.9MB/s eta 0:00:01\r\u001b[K     |████████████████████████████████| 542kB 4.9MB/s \n",
            "\u001b[?25hRequirement already satisfied: numpy in /usr/local/lib/python3.6/dist-packages (from mglearn) (1.18.4)\n",
            "Requirement already satisfied: matplotlib in /usr/local/lib/python3.6/dist-packages (from mglearn) (3.2.1)\n",
            "Requirement already satisfied: scikit-learn in /usr/local/lib/python3.6/dist-packages (from mglearn) (0.22.2.post1)\n",
            "Requirement already satisfied: pandas in /usr/local/lib/python3.6/dist-packages (from mglearn) (1.0.3)\n",
            "Requirement already satisfied: pillow in /usr/local/lib/python3.6/dist-packages (from mglearn) (7.0.0)\n",
            "Requirement already satisfied: cycler in /usr/local/lib/python3.6/dist-packages (from mglearn) (0.10.0)\n",
            "Requirement already satisfied: imageio in /usr/local/lib/python3.6/dist-packages (from mglearn) (2.4.1)\n",
            "Requirement already satisfied: python-dateutil>=2.1 in /usr/local/lib/python3.6/dist-packages (from matplotlib->mglearn) (2.8.1)\n",
            "Requirement already satisfied: kiwisolver>=1.0.1 in /usr/local/lib/python3.6/dist-packages (from matplotlib->mglearn) (1.2.0)\n",
            "Requirement already satisfied: pyparsing!=2.0.4,!=2.1.2,!=2.1.6,>=2.0.1 in /usr/local/lib/python3.6/dist-packages (from matplotlib->mglearn) (2.4.7)\n",
            "Requirement already satisfied: joblib>=0.11 in /usr/local/lib/python3.6/dist-packages (from scikit-learn->mglearn) (0.14.1)\n",
            "Requirement already satisfied: scipy>=0.17.0 in /usr/local/lib/python3.6/dist-packages (from scikit-learn->mglearn) (1.4.1)\n",
            "Requirement already satisfied: pytz>=2017.2 in /usr/local/lib/python3.6/dist-packages (from pandas->mglearn) (2018.9)\n",
            "Requirement already satisfied: six in /usr/local/lib/python3.6/dist-packages (from cycler->mglearn) (1.12.0)\n",
            "Building wheels for collected packages: mglearn\n",
            "  Building wheel for mglearn (setup.py) ... \u001b[?25l\u001b[?25hdone\n",
            "  Created wheel for mglearn: filename=mglearn-0.1.7-py2.py3-none-any.whl size=582705 sha256=166a3a1d274b6f1bf5a49f81438420b0cba19f43ce13387cfd683df9a4a8da53\n",
            "  Stored in directory: /root/.cache/pip/wheels/74/cf/8d/04f4932d15854a36726c6210763c7127e62de28f5c8ddfcf3b\n",
            "Successfully built mglearn\n",
            "Installing collected packages: mglearn\n",
            "Successfully installed mglearn-0.1.7\n"
          ],
          "name": "stdout"
        },
        {
          "output_type": "stream",
          "text": [
            "/usr/local/lib/python3.6/dist-packages/sklearn/externals/six.py:31: FutureWarning: The module is deprecated in version 0.21 and will be removed in version 0.23 since we've dropped support for Python 2.7. Please rely on the official version of six (https://pypi.org/project/six/).\n",
            "  \"(https://pypi.org/project/six/).\", FutureWarning)\n",
            "/usr/local/lib/python3.6/dist-packages/sklearn/externals/joblib/__init__.py:15: FutureWarning: sklearn.externals.joblib is deprecated in 0.21 and will be removed in 0.23. Please import this functionality directly from joblib, which can be installed with: pip install joblib. If this warning is raised when loading pickled models, you may need to re-serialize those models with scikit-learn 0.21+.\n",
            "  warnings.warn(msg, category=FutureWarning)\n"
          ],
          "name": "stderr"
        }
      ]
    },
    {
      "cell_type": "code",
      "metadata": {
        "id": "0RZRMH9bshcL",
        "colab_type": "code",
        "colab": {
          "base_uri": "https://localhost:8080/",
          "height": 296
        },
        "outputId": "8cd36544-1392-4102-df30-82dfa6b19550"
      },
      "source": [
        "from sklearn.linear_model import LinearRegression\n",
        "from sklearn.tree import DecisionTreeRegressor\n",
        "\n",
        "import numpy as np\n",
        "import matplotlib.pyplot as plt\n",
        "\n",
        "X, y = mglearn.datasets.make_wave(n_samples=100)\n",
        "line = np.linspace(-3, 3, 1000, endpoint=False).reshape(-1, 1)\n",
        "\n",
        "reg = DecisionTreeRegressor(min_samples_split=3).fit(X, y) \n",
        "plt.plot(line, reg.predict(line), label=\"decision tree\")\n",
        "\n",
        "reg = LinearRegression().fit(X, y)\n",
        "plt.plot(line, reg.predict(line), label=\"linear regression\")\n",
        "\n",
        "plt.plot(X[:, 0], y, 'o', c='k') \n",
        "plt.ylabel(\"Regression output\") \n",
        "plt.xlabel(\"Input feature\") \n",
        "plt.legend(loc=\"best\")"
      ],
      "execution_count": 2,
      "outputs": [
        {
          "output_type": "execute_result",
          "data": {
            "text/plain": [
              "<matplotlib.legend.Legend at 0x7fb09acd8860>"
            ]
          },
          "metadata": {
            "tags": []
          },
          "execution_count": 2
        },
        {
          "output_type": "display_data",
          "data": {
            "image/png": "[encoded data removed]",
            "text/plain": [
              "<Figure size 432x288 with 1 Axes>"
            ]
          },
          "metadata": {
            "tags": [],
            "needs_background": "light"
          }
        }
      ]
    },
    {
      "cell_type": "markdown",
      "metadata": {
        "id": "7mFdNBucsNzc",
        "colab_type": "text"
      },
      "source": [
        "**Binning(Discretization)**"
      ]
    },
    {
      "cell_type": "markdown",
      "metadata": {
        "id": "XooVmZkpurpX",
        "colab_type": "text"
      },
      "source": [
        "As you know, linear models can only model linear relationships, which are lines in the case of a single feature. The decision tree can build a much more complex model of the data. However, this is strongly dependent on the representation of the data. One way to make linear models more powerful on continuous data is to use binning (also known as discretization) of the feature to split it up into multiple features."
      ]
    },
    {
      "cell_type": "markdown",
      "metadata": {
        "id": "C2A3gx93a6M3",
        "colab_type": "text"
      },
      "source": [
        "We imagine a partition of the input range for the feature (in this case, the numbers from –3 to 3) into a fixed number of bins—say, 10. A data point will then be represented by which bin it falls into. To determine this, we first have to define the bins. In this case, we’ll define 10 bins equally spaced between –3 and 3. We use the np.linspace function for this, creating 11 entries, which will create 10 bins—they are the spaces in between two consecutive boundaries:"
      ]
    },
    {
      "cell_type": "code",
      "metadata": {
        "id": "tlQBsdTPa5uz",
        "colab_type": "code",
        "colab": {
          "base_uri": "https://localhost:8080/",
          "height": 34
        },
        "outputId": "f3a004bf-d1c5-4aa4-9a17-4a983f217ed1"
      },
      "source": [
        "bins = np.linspace(-3, 3, 11)\n",
        "print(\"Bins : {}\".format(bins))"
      ],
      "execution_count": 3,
      "outputs": [
        {
          "output_type": "stream",
          "text": [
            "Bins : [-3.  -2.4 -1.8 -1.2 -0.6  0.   0.6  1.2  1.8  2.4  3. ]\n"
          ],
          "name": "stdout"
        }
      ]
    },
    {
      "cell_type": "markdown",
      "metadata": {
        "id": "sCJ4oAIkbdsW",
        "colab_type": "text"
      },
      "source": [
        "Here, the first bin contains all data points with feature values –3 to –2.4, the second bin contains all points with feature values from –2.4 to –1.8, and so on."
      ]
    },
    {
      "cell_type": "markdown",
      "metadata": {
        "id": "4J8ZTXu0bewS",
        "colab_type": "text"
      },
      "source": [
        "Next, we record for each data point which bin it falls into. This can be easily computed using the np.digitize function:"
      ]
    },
    {
      "cell_type": "code",
      "metadata": {
        "id": "4SykSDJOcani",
        "colab_type": "code",
        "colab": {
          "base_uri": "https://localhost:8080/",
          "height": 187
        },
        "outputId": "c28336bc-2600-45ce-f293-44372a15f764"
      },
      "source": [
        "which_bins = np.digitize(X, bins=bins)\n",
        "print(X[:5])\n",
        "print(which_bins[:5])"
      ],
      "execution_count": 4,
      "outputs": [
        {
          "output_type": "stream",
          "text": [
            "[[-0.75275929]\n",
            " [ 2.70428584]\n",
            " [ 1.39196365]\n",
            " [ 0.59195091]\n",
            " [-2.06388816]]\n",
            "[[ 4]\n",
            " [10]\n",
            " [ 8]\n",
            " [ 6]\n",
            " [ 2]]\n"
          ],
          "name": "stdout"
        }
      ]
    },
    {
      "cell_type": "markdown",
      "metadata": {
        "id": "0G-cjhyQfdx9",
        "colab_type": "text"
      },
      "source": [
        "What we did here is transform the single continuous input feature in the wave dataset into a categorical feature that encodes which bin a data point is in. To use a scikit- learn model on this data, we transform this discrete feature to a one-hot encoding using the OneHotEncoder from the preprocessing module. The OneHotEncoder does the same encoding as pandas.get_dummies, though it currently only works on categorical variables that are integers:"
      ]
    },
    {
      "cell_type": "code",
      "metadata": {
        "id": "PqkrUIaFsDD_",
        "colab_type": "code",
        "colab": {
          "base_uri": "https://localhost:8080/",
          "height": 102
        },
        "outputId": "a8c62c39-aba9-403a-d4a1-145c5434cf1f"
      },
      "source": [
        "from sklearn.preprocessing import OneHotEncoder\n",
        "encoder = OneHotEncoder(sparse=False)\n",
        "encoder.fit(which_bins)\n",
        "X_binned = encoder.transform(which_bins)\n",
        "print(X_binned[:5])"
      ],
      "execution_count": 5,
      "outputs": [
        {
          "output_type": "stream",
          "text": [
            "[[0. 0. 0. 1. 0. 0. 0. 0. 0. 0.]\n",
            " [0. 0. 0. 0. 0. 0. 0. 0. 0. 1.]\n",
            " [0. 0. 0. 0. 0. 0. 0. 1. 0. 0.]\n",
            " [0. 0. 0. 0. 0. 1. 0. 0. 0. 0.]\n",
            " [0. 1. 0. 0. 0. 0. 0. 0. 0. 0.]]\n"
          ],
          "name": "stdout"
        }
      ]
    },
    {
      "cell_type": "code",
      "metadata": {
        "id": "FHJ47U6uiGd9",
        "colab_type": "code",
        "colab": {
          "base_uri": "https://localhost:8080/",
          "height": 51
        },
        "outputId": "8d76c6b4-cbd3-43e2-ad3e-a55e352b237d"
      },
      "source": [
        "print(X.shape)\n",
        "print(X_binned.shape)"
      ],
      "execution_count": 6,
      "outputs": [
        {
          "output_type": "stream",
          "text": [
            "(100, 1)\n",
            "(100, 10)\n"
          ],
          "name": "stdout"
        }
      ]
    },
    {
      "cell_type": "markdown",
      "metadata": {
        "id": "_RG30uq0jXKZ",
        "colab_type": "text"
      },
      "source": [
        "Training both the models on X_binned and testing on line_binned"
      ]
    },
    {
      "cell_type": "code",
      "metadata": {
        "id": "rqYHw4YxjWhg",
        "colab_type": "code",
        "colab": {
          "base_uri": "https://localhost:8080/",
          "height": 296
        },
        "outputId": "a00b1f49-8cfb-4177-dffa-80983b358c1b"
      },
      "source": [
        "line_binned = encoder.transform(np.digitize(line, bins=bins))\n",
        "reg = LinearRegression().fit(X_binned, y)\n",
        "plt.plot(line, reg.predict(line_binned), label='linear regression binned')\n",
        "\n",
        "reg = DecisionTreeRegressor(min_samples_split=3).fit(X_binned, y) \n",
        "plt.plot(line, reg.predict(line_binned), label='decision tree binned') \n",
        "\n",
        "plt.plot(X[:, 0], y, 'o', c='k')\n",
        "plt.vlines(bins, -3, 3, linewidth=1, alpha=.2)\n",
        "plt.legend(loc=\"best\") \n",
        "plt.ylabel(\"Regression output\") \n",
        "plt.xlabel(\"Input feature\")"
      ],
      "execution_count": 7,
      "outputs": [
        {
          "output_type": "execute_result",
          "data": {
            "text/plain": [
              "Text(0.5, 0, 'Input feature')"
            ]
          },
          "metadata": {
            "tags": []
          },
          "execution_count": 7
        },
        {
          "output_type": "display_data",
          "data": {
            "image/png": "[encoded data removed]",
            "text/plain": [
              "<Figure size 432x288 with 1 Axes>"
            ]
          },
          "metadata": {
            "tags": [],
            "needs_background": "light"
          }
        }
      ]
    },
    {
      "cell_type": "markdown",
      "metadata": {
        "id": "RSgBssNskKg6",
        "colab_type": "text"
      },
      "source": [
        "The dashed line and solid line are exactly on top of each other, meaning the linear regression model and the decision tree make exactly the same predictions. For each bin, they predict a constant value. As features are constant within each bin, any model must predict the same value for all points within a bin. Comparing what the models learned before binning the features and after, we see that the linear model became much more flexible, because it now has a different value for each bin, while the decision tree model got much less flexible. Binning features generally has no beneficial effect for tree-based models, as these models can learn to split up the data anywhere. In a sense, that means decision trees can learn whatever binning is most useful for predicting on this data. Additionally, decision trees look at multiple features at once, while binning is usually done on a per-feature basis. However, the linear model benefited greatly in expressiveness from the transformation of the data."
      ]
    },
    {
      "cell_type": "markdown",
      "metadata": {
        "id": "v9O_gMF7klUL",
        "colab_type": "text"
      },
      "source": [
        "**Interactions and Polynomials**"
      ]
    },
    {
      "cell_type": "markdown",
      "metadata": {
        "id": "g0mbUFTi1r4w",
        "colab_type": "text"
      },
      "source": [
        "**Interactions**"
      ]
    },
    {
      "cell_type": "markdown",
      "metadata": {
        "id": "d1ll-u96lk3E",
        "colab_type": "text"
      },
      "source": [
        "Another way to enrich a feature representation, particularly for linear models, is adding interaction features and polynomial features of the original data. This kind of feature engineering is often used in statistical modeling, but it’s also common in many practical machine learning applications."
      ]
    },
    {
      "cell_type": "markdown",
      "metadata": {
        "id": "Tdr-4FjzxeZi",
        "colab_type": "text"
      },
      "source": [
        "One way to add a slope to the linear model on the binned data is to add the original feature (the x-axis in the plot) back in. This leads to an 11- dimensional dataset."
      ]
    },
    {
      "cell_type": "code",
      "metadata": {
        "id": "SGNSLdTfz_uE",
        "colab_type": "code",
        "colab": {
          "base_uri": "https://localhost:8080/",
          "height": 34
        },
        "outputId": "43d28640-3fcd-4f7f-83ed-015b44d560ca"
      },
      "source": [
        "X_combined = np.hstack([X, X_binned])\n",
        "print(X_combined.shape)"
      ],
      "execution_count": 8,
      "outputs": [
        {
          "output_type": "stream",
          "text": [
            "(100, 11)\n"
          ],
          "name": "stdout"
        }
      ]
    },
    {
      "cell_type": "code",
      "metadata": {
        "id": "xcLiRQzT0CHO",
        "colab_type": "code",
        "colab": {
          "base_uri": "https://localhost:8080/",
          "height": 296
        },
        "outputId": "ba145ac3-1b47-498d-d04f-f2edb28a5bbf"
      },
      "source": [
        "reg = LinearRegression().fit(X_combined, y)\n",
        "line_combined = np.hstack([line, line_binned])\n",
        "plt.plot(line, reg.predict(line_combined), label='linear regression combined')\n",
        "for bin in bins:\n",
        "  plt.plot([bin, bin], [-3, 3], ':', c='k', linewidth=1)\n",
        "plt.legend(loc=\"best\") \n",
        "plt.ylabel(\"Regression output\") \n",
        "plt.xlabel(\"Input feature\") \n",
        "plt.plot(X[:, 0], y, 'o', c='k')"
      ],
      "execution_count": 9,
      "outputs": [
        {
          "output_type": "execute_result",
          "data": {
            "text/plain": [
              "[<matplotlib.lines.Line2D at 0x7fb097ef57b8>]"
            ]
          },
          "metadata": {
            "tags": []
          },
          "execution_count": 9
        },
        {
          "output_type": "display_data",
          "data": {
            "image/png": "[encoded data removed]",
            "text/plain": [
              "<Figure size 432x288 with 1 Axes>"
            ]
          },
          "metadata": {
            "tags": [],
            "needs_background": "light"
          }
        }
      ]
    },
    {
      "cell_type": "markdown",
      "metadata": {
        "id": "7Q4Ml1i508A3",
        "colab_type": "text"
      },
      "source": [
        "In this example, the model learned an offset for each bin, together with a slope. The learned slope is downward, and shared across all the bins—there is a single x-axis feature, which has a single slope. Because the slope is shared across all bins, it doesn’t seem to be very helpful. We would rather have a separate slope for each bin! We can achieve this by adding an interaction or product feature that indicates which bin a data point is in and where it lies on the x-axis. This feature is a product of the bin indicator and the original feature."
      ]
    },
    {
      "cell_type": "code",
      "metadata": {
        "id": "N377vTyq1Fqy",
        "colab_type": "code",
        "colab": {
          "base_uri": "https://localhost:8080/",
          "height": 34
        },
        "outputId": "db3c8739-be61-4ff9-f71f-060c83e136e2"
      },
      "source": [
        "X_product = np.hstack([X_binned, X * X_binned]) \n",
        "print(X_product.shape)"
      ],
      "execution_count": 10,
      "outputs": [
        {
          "output_type": "stream",
          "text": [
            "(100, 20)\n"
          ],
          "name": "stdout"
        }
      ]
    },
    {
      "cell_type": "code",
      "metadata": {
        "id": "Tr0lvdyX1Onn",
        "colab_type": "code",
        "colab": {
          "base_uri": "https://localhost:8080/",
          "height": 296
        },
        "outputId": "09fd29c4-a62b-4f69-ed95-cf4e6b4218f0"
      },
      "source": [
        "reg = LinearRegression().fit(X_product, y)\n",
        "line_product = np.hstack([line_binned, line * line_binned])\n",
        "plt.plot(line, reg.predict(line_product), label='linear regression product') \n",
        "for bin in bins:\n",
        "  plt.plot([bin, bin], [-3, 3], ':', c='k', linewidth=1)\n",
        "plt.plot(X[:, 0], y, 'o', c='k') \n",
        "plt.ylabel(\"Regression output\") \n",
        "plt.xlabel(\"Input feature\") \n",
        "plt.legend(loc=\"best\")"
      ],
      "execution_count": 11,
      "outputs": [
        {
          "output_type": "execute_result",
          "data": {
            "text/plain": [
              "<matplotlib.legend.Legend at 0x7fb097f37f60>"
            ]
          },
          "metadata": {
            "tags": []
          },
          "execution_count": 11
        },
        {
          "output_type": "display_data",
          "data": {
            "image/png": "[encoded data removed]",
            "text/plain": [
              "<Figure size 432x288 with 1 Axes>"
            ]
          },
          "metadata": {
            "tags": [],
            "needs_background": "light"
          }
        }
      ]
    },
    {
      "cell_type": "markdown",
      "metadata": {
        "id": "AnxmPhkj1v66",
        "colab_type": "text"
      },
      "source": [
        "**Polynomials**"
      ]
    },
    {
      "cell_type": "markdown",
      "metadata": {
        "id": "8VFq6HKi1zX_",
        "colab_type": "text"
      },
      "source": [
        "Using binning is one way to expand a continuous feature. Another one is to use polynomials of the original features. For a given feature x, we might want to consider x ** 2, x ** 3, x ** 4, and so on. This is implemented in PolynomialFeatures in the preprocessing module:"
      ]
    },
    {
      "cell_type": "code",
      "metadata": {
        "id": "gqX3ObH018DL",
        "colab_type": "code",
        "colab": {}
      },
      "source": [
        "from sklearn.preprocessing import PolynomialFeatures\n",
        "poly = PolynomialFeatures(degree = 10, include_bias = False)\n",
        "poly.fit(X)\n",
        "X_poly = poly.transform(X)"
      ],
      "execution_count": 0,
      "outputs": []
    },
    {
      "cell_type": "code",
      "metadata": {
        "id": "CYSZcTpe4wVx",
        "colab_type": "code",
        "colab": {
          "base_uri": "https://localhost:8080/",
          "height": 34
        },
        "outputId": "f6050704-7aae-4afe-c166-2b1c487adec3"
      },
      "source": [
        "print(X_poly.shape)"
      ],
      "execution_count": 13,
      "outputs": [
        {
          "output_type": "stream",
          "text": [
            "(100, 10)\n"
          ],
          "name": "stdout"
        }
      ]
    },
    {
      "cell_type": "code",
      "metadata": {
        "id": "G_OyBxDt5BY3",
        "colab_type": "code",
        "colab": {
          "base_uri": "https://localhost:8080/",
          "height": 391
        },
        "outputId": "2888d207-fb17-4470-aa9e-dca36cf56df4"
      },
      "source": [
        "print(\"Entries of X:\\n{}\".format(X[:5])) \n",
        "print(\"Entries of X_poly:\\n{}\".format(X_poly[:5]))"
      ],
      "execution_count": 14,
      "outputs": [
        {
          "output_type": "stream",
          "text": [
            "Entries of X:\n",
            "[[-0.75275929]\n",
            " [ 2.70428584]\n",
            " [ 1.39196365]\n",
            " [ 0.59195091]\n",
            " [-2.06388816]]\n",
            "Entries of X_poly:\n",
            "[[-7.52759287e-01  5.66646544e-01 -4.26548448e-01  3.21088306e-01\n",
            "  -2.41702204e-01  1.81943579e-01 -1.36959719e-01  1.03097700e-01\n",
            "  -7.76077513e-02  5.84199555e-02]\n",
            " [ 2.70428584e+00  7.31316190e+00  1.97768801e+01  5.34823369e+01\n",
            "   1.44631526e+02  3.91124988e+02  1.05771377e+03  2.86036036e+03\n",
            "   7.73523202e+03  2.09182784e+04]\n",
            " [ 1.39196365e+00  1.93756281e+00  2.69701700e+00  3.75414962e+00\n",
            "   5.22563982e+00  7.27390068e+00  1.01250053e+01  1.40936394e+01\n",
            "   1.96178338e+01  2.73073115e+01]\n",
            " [ 5.91950905e-01  3.50405874e-01  2.07423074e-01  1.22784277e-01\n",
            "   7.26822637e-02  4.30243318e-02  2.54682921e-02  1.50759786e-02\n",
            "   8.92423917e-03  5.28271146e-03]\n",
            " [-2.06388816e+00  4.25963433e+00 -8.79140884e+00  1.81444846e+01\n",
            "  -3.74481869e+01  7.72888694e+01 -1.59515582e+02  3.29222321e+02\n",
            "  -6.79478050e+02  1.40236670e+03]]\n"
          ],
          "name": "stdout"
        }
      ]
    },
    {
      "cell_type": "code",
      "metadata": {
        "id": "qar6SCZM5GZS",
        "colab_type": "code",
        "colab": {
          "base_uri": "https://localhost:8080/",
          "height": 296
        },
        "outputId": "e88c9081-5ff3-4c4d-e4f2-f09f132ccd04"
      },
      "source": [
        "reg = LinearRegression().fit(X_poly, y)\n",
        "line_poly = poly.transform(line)\n",
        "plt.plot(line, reg.predict(line_poly), label='polynomial linear regression') \n",
        "plt.plot(X[:, 0], y, 'o', c='k')\n",
        "plt.ylabel(\"Regression output\")\n",
        "plt.xlabel(\"Input feature\")\n",
        "plt.legend(loc=\"best\")\n"
      ],
      "execution_count": 15,
      "outputs": [
        {
          "output_type": "execute_result",
          "data": {
            "text/plain": [
              "<matplotlib.legend.Legend at 0x7fb097e052b0>"
            ]
          },
          "metadata": {
            "tags": []
          },
          "execution_count": 15
        },
        {
          "output_type": "display_data",
          "data": {
            "image/png": "[encoded data removed]",
            "text/plain": [
              "<Figure size 432x288 with 1 Axes>"
            ]
          },
          "metadata": {
            "tags": [],
            "needs_background": "light"
          }
        }
      ]
    },
    {
      "cell_type": "markdown",
      "metadata": {
        "id": "ngAR_D1P5QiP",
        "colab_type": "text"
      },
      "source": [
        "As you can see, polynomial features yield a very smooth fit on this one-dimensional data. However, polynomials of high degree tend to behave in extreme ways on the boundaries or in regions with little data."
      ]
    },
    {
      "cell_type": "markdown",
      "metadata": {
        "id": "63whCbMd5TVl",
        "colab_type": "text"
      },
      "source": [
        "As a comparison, here is a kernel SVM model learned on the original data, without any transformation."
      ]
    },
    {
      "cell_type": "code",
      "metadata": {
        "id": "8DSBy_d65V3M",
        "colab_type": "code",
        "colab": {
          "base_uri": "https://localhost:8080/",
          "height": 296
        },
        "outputId": "4ff6e2a6-a2e1-4c0f-999e-603aab83dc54"
      },
      "source": [
        "from sklearn.svm import SVR\n",
        "for gamma in [1, 10]:\n",
        "  svr = SVR(gamma=gamma).fit(X, y)\n",
        "  plt.plot(line, svr.predict(line), label='SVR gamma={}'.format(gamma))\n",
        "plt.plot(X[:, 0], y, 'o', c='k') \n",
        "plt.ylabel(\"Regression output\") \n",
        "plt.xlabel(\"Input feature\") \n",
        "plt.legend(loc=\"best\")\n"
      ],
      "execution_count": 16,
      "outputs": [
        {
          "output_type": "execute_result",
          "data": {
            "text/plain": [
              "<matplotlib.legend.Legend at 0x7fb097dc8358>"
            ]
          },
          "metadata": {
            "tags": []
          },
          "execution_count": 16
        },
        {
          "output_type": "display_data",
          "data": {
            "image/png": "[encoded data removed]",
            "text/plain": [
              "<Figure size 432x288 with 1 Axes>"
            ]
          },
          "metadata": {
            "tags": [],
            "needs_background": "light"
          }
        }
      ]
    },
    {
      "cell_type": "markdown",
      "metadata": {
        "id": "wEBER7fj5okj",
        "colab_type": "text"
      },
      "source": [
        "Using a more complex model, a kernel SVM, we are able to learn a similarly complex prediction to the polynomial regression without an explicit transformation of the features."
      ]
    },
    {
      "cell_type": "markdown",
      "metadata": {
        "id": "oLWLTXY2XnPz",
        "colab_type": "text"
      },
      "source": [
        "As a more realistic application of interactions and polynomials, let’s look again at the Boston Housing dataset."
      ]
    },
    {
      "cell_type": "code",
      "metadata": {
        "id": "CDYN0FnGXjC-",
        "colab_type": "code",
        "colab": {
          "base_uri": "https://localhost:8080/",
          "height": 51
        },
        "outputId": "a5fa0624-4185-4ca7-c839-f88772fba025"
      },
      "source": [
        "from sklearn.datasets import load_boston\n",
        "from sklearn.model_selection import train_test_split \n",
        "from sklearn.preprocessing import MinMaxScaler\n",
        "boston = load_boston()\n",
        "X_train, X_test, y_train, y_test = train_test_split(boston.data, boston.target, random_state=0)\n",
        "# rescale data\n",
        "scaler = MinMaxScaler()\n",
        "X_train_scaled = scaler.fit_transform(X_train) \n",
        "X_test_scaled = scaler.transform(X_test)\n",
        "\n",
        "\n",
        "from sklearn.preprocessing import PolynomialFeatures\n",
        "poly = PolynomialFeatures(degree = 2).fit(X_train_scaled)\n",
        "X_train_poly = poly.transform(X_train_scaled)\n",
        "X_test_poly = poly.transform(X_test_scaled)\n",
        "print(\"X_train.shape: {}\".format(X_train.shape)) \n",
        "print(\"X_train_poly.shape: {}\".format(X_train_poly.shape))"
      ],
      "execution_count": 20,
      "outputs": [
        {
          "output_type": "stream",
          "text": [
            "X_train.shape: (379, 13)\n",
            "X_train_poly.shape: (379, 105)\n"
          ],
          "name": "stdout"
        }
      ]
    },
    {
      "cell_type": "markdown",
      "metadata": {
        "id": "sm-nNg03FDc9",
        "colab_type": "text"
      },
      "source": [
        "The data originally had 13 features, which were expanded into 105 interaction features. These new features represent all possible interactions between two different original features, as well as the square of each original feature. degree=2 here means that we look at all features that are the product of up to two original features."
      ]
    },
    {
      "cell_type": "code",
      "metadata": {
        "id": "okdpIB-pFKMD",
        "colab_type": "code",
        "colab": {
          "base_uri": "https://localhost:8080/",
          "height": 71
        },
        "outputId": "45e21749-30da-45db-f678-6811ee925556"
      },
      "source": [
        "print(\"Polynomial feature names:\\n{}\".format(poly.get_feature_names()))"
      ],
      "execution_count": 21,
      "outputs": [
        {
          "output_type": "stream",
          "text": [
            "Polynomial feature names:\n",
            "['1', 'x0', 'x1', 'x2', 'x3', 'x4', 'x5', 'x6', 'x7', 'x8', 'x9', 'x10', 'x11', 'x12', 'x0^2', 'x0 x1', 'x0 x2', 'x0 x3', 'x0 x4', 'x0 x5', 'x0 x6', 'x0 x7', 'x0 x8', 'x0 x9', 'x0 x10', 'x0 x11', 'x0 x12', 'x1^2', 'x1 x2', 'x1 x3', 'x1 x4', 'x1 x5', 'x1 x6', 'x1 x7', 'x1 x8', 'x1 x9', 'x1 x10', 'x1 x11', 'x1 x12', 'x2^2', 'x2 x3', 'x2 x4', 'x2 x5', 'x2 x6', 'x2 x7', 'x2 x8', 'x2 x9', 'x2 x10', 'x2 x11', 'x2 x12', 'x3^2', 'x3 x4', 'x3 x5', 'x3 x6', 'x3 x7', 'x3 x8', 'x3 x9', 'x3 x10', 'x3 x11', 'x3 x12', 'x4^2', 'x4 x5', 'x4 x6', 'x4 x7', 'x4 x8', 'x4 x9', 'x4 x10', 'x4 x11', 'x4 x12', 'x5^2', 'x5 x6', 'x5 x7', 'x5 x8', 'x5 x9', 'x5 x10', 'x5 x11', 'x5 x12', 'x6^2', 'x6 x7', 'x6 x8', 'x6 x9', 'x6 x10', 'x6 x11', 'x6 x12', 'x7^2', 'x7 x8', 'x7 x9', 'x7 x10', 'x7 x11', 'x7 x12', 'x8^2', 'x8 x9', 'x8 x10', 'x8 x11', 'x8 x12', 'x9^2', 'x9 x10', 'x9 x11', 'x9 x12', 'x10^2', 'x10 x11', 'x10 x12', 'x11^2', 'x11 x12', 'x12^2']\n"
          ],
          "name": "stdout"
        }
      ]
    },
    {
      "cell_type": "markdown",
      "metadata": {
        "id": "rtFgZ_xJFs7S",
        "colab_type": "text"
      },
      "source": [
        "Let’s compare the performance using Ridge on the data with and without interactions:"
      ]
    },
    {
      "cell_type": "code",
      "metadata": {
        "id": "rBznDqYtFuIM",
        "colab_type": "code",
        "colab": {
          "base_uri": "https://localhost:8080/",
          "height": 51
        },
        "outputId": "2020992e-9d0d-44ff-8360-b522a42af0d2"
      },
      "source": [
        "from sklearn.linear_model import Ridge\n",
        "ridge = Ridge().fit(X_train_scaled, y_train) \n",
        "print(\"Score without interactions: {:.3f}\".format(ridge.score(X_test_scaled, y_test)))\n",
        "ridge = Ridge().fit(X_train_poly, y_train) \n",
        "print(\"Score with interactions: {:.3f}\".format(ridge.score(X_test_poly, y_test)))"
      ],
      "execution_count": 24,
      "outputs": [
        {
          "output_type": "stream",
          "text": [
            "Score without interactions: 0.621\n",
            "Score with interactions: 0.753\n"
          ],
          "name": "stdout"
        }
      ]
    },
    {
      "cell_type": "markdown",
      "metadata": {
        "id": "fD52YCfwF5lT",
        "colab_type": "text"
      },
      "source": [
        "Clearly, the interactions and polynomial features gave us a good boost in performance when using Ridge. When using a more complex model like a random forest, the story is a bit different, though:"
      ]
    },
    {
      "cell_type": "code",
      "metadata": {
        "id": "-jGoFsu_F8OM",
        "colab_type": "code",
        "colab": {
          "base_uri": "https://localhost:8080/",
          "height": 51
        },
        "outputId": "0c859cd6-72ee-4704-affd-187c60ddece9"
      },
      "source": [
        "from sklearn.ensemble import RandomForestRegressor\n",
        "rf = RandomForestRegressor(n_estimators=100).fit(X_train_scaled, y_train) \n",
        "print(\"Score without interactions: {:.3f}\".format(rf.score(X_test_scaled, y_test)))\n",
        "rf = RandomForestRegressor(n_estimators=100).fit(X_train_poly, y_train) \n",
        "print(\"Score with interactions: {:.3f}\".format(rf.score(X_test_poly, y_test)))"
      ],
      "execution_count": 25,
      "outputs": [
        {
          "output_type": "stream",
          "text": [
            "Score without interactions: 0.793\n",
            "Score with interactions: 0.768\n"
          ],
          "name": "stdout"
        }
      ]
    },
    {
      "cell_type": "markdown",
      "metadata": {
        "id": "GVDnGe4IGJu0",
        "colab_type": "text"
      },
      "source": [
        "You can see that even without additional features, the random forest beats the performance of Ridge. Adding interactions and polynomials actually decreases performance slightly."
      ]
    }
  ]
}