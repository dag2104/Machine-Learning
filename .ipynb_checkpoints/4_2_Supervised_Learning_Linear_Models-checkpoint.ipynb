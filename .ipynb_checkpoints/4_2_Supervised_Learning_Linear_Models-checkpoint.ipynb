{
 "cells": [
  {
   "cell_type": "markdown",
   "metadata": {
    "colab_type": "text",
    "id": "view-in-github"
   },
   "source": [
    "<a href=\"https://colab.research.google.com/github/chaurasiauttkarsh/Machine-Learning/blob/master/4_2_Supervised_Learning_Linear_Models.ipynb\" target=\"_parent\"><img src=\"https://colab.research.google.com/assets/colab-badge.svg\" alt=\"Open In Colab\"/></a>"
   ]
  },
  {
   "cell_type": "markdown",
   "metadata": {
    "colab_type": "text",
    "id": "7X3JuES_Gt8R"
   },
   "source": [
    "**Linear Models**"
   ]
  },
  {
   "cell_type": "markdown",
   "metadata": {
    "colab_type": "text",
    "id": "XY43Iaf-HEni"
   },
   "source": [
    "**Linear Models for Regression**"
   ]
  },
  {
   "cell_type": "markdown",
   "metadata": {
    "colab_type": "text",
    "id": "XYZYuvkTHJIL"
   },
   "source": [
    "For regression, the general prediction formula for a linear model looks as follows: \n",
    "\n",
    "ŷ = w[0] * x[0] + w[1] * x[1] + ... + w[p] * x[p] + b\n",
    "\n",
    "Here, x[0] to x[p] denotes the features (in this example, the number of features is p+1) of a single data point, w and b are parameters of the model that are learned, and ŷ is the prediction the model makes. \n",
    "\n",
    "For a dataset with a single feature, this is:\n",
    "ŷ = w[0] * x[0] + b\n",
    "which you might remember from high school mathematics as the equation for a line. Here, w[0] is the slope and b is the y-axis offset. For more features, w contains the slopes along each feature axis. Alternatively, you can think of the predicted response as being a weighted sum of the input features, with weights (which can be negative) given by the entries of w."
   ]
  },
  {
   "cell_type": "code",
   "execution_count": 1,
   "metadata": {
    "colab": {
     "base_uri": "https://localhost:8080/",
     "height": 442
    },
    "colab_type": "code",
    "id": "w-T1RYXFHmyi",
    "outputId": "da0bf965-5858-4750-8cc2-78ec3138c806"
   },
   "outputs": [
    {
     "name": "stdout",
     "output_type": "stream",
     "text": [
      "Collecting mglearn\n",
      "\u001b[?25l  Downloading https://files.pythonhosted.org/packages/fb/01/8d3630ecc767c9de96a9c46e055f2a3a5f9e14a47d3d0348a36a5005fe67/mglearn-0.1.7.tar.gz (540kB)\n",
      "\r",
      "\u001b[K     |▋                               | 10kB 26.4MB/s eta 0:00:01\r",
      "\u001b[K     |█▏                              | 20kB 2.9MB/s eta 0:00:01\r",
      "\u001b[K     |█▉                              | 30kB 3.9MB/s eta 0:00:01\r",
      "\u001b[K     |██▍                             | 40kB 2.8MB/s eta 0:00:01\r",
      "\u001b[K     |███                             | 51kB 3.3MB/s eta 0:00:01\r",
      "\u001b[K     |███▋                            | 61kB 3.9MB/s eta 0:00:01\r",
      "\u001b[K     |████▎                           | 71kB 4.2MB/s eta 0:00:01\r",
      "\u001b[K     |████▉                           | 81kB 4.5MB/s eta 0:00:01\r",
      "\u001b[K     |█████▌                          | 92kB 5.0MB/s eta 0:00:01\r",
      "\u001b[K     |██████                          | 102kB 4.7MB/s eta 0:00:01\r",
      "\u001b[K     |██████▋                         | 112kB 4.7MB/s eta 0:00:01\r",
      "\u001b[K     |███████▎                        | 122kB 4.7MB/s eta 0:00:01\r",
      "\u001b[K     |███████▉                        | 133kB 4.7MB/s eta 0:00:01\r",
      "\u001b[K     |████████▌                       | 143kB 4.7MB/s eta 0:00:01\r",
      "\u001b[K     |█████████                       | 153kB 4.7MB/s eta 0:00:01\r",
      "\u001b[K     |█████████▊                      | 163kB 4.7MB/s eta 0:00:01\r",
      "\u001b[K     |██████████▎                     | 174kB 4.7MB/s eta 0:00:01\r",
      "\u001b[K     |███████████                     | 184kB 4.7MB/s eta 0:00:01\r",
      "\u001b[K     |███████████▌                    | 194kB 4.7MB/s eta 0:00:01\r",
      "\u001b[K     |████████████▏                   | 204kB 4.7MB/s eta 0:00:01\r",
      "\u001b[K     |████████████▊                   | 215kB 4.7MB/s eta 0:00:01\r",
      "\u001b[K     |█████████████▎                  | 225kB 4.7MB/s eta 0:00:01\r",
      "\u001b[K     |██████████████                  | 235kB 4.7MB/s eta 0:00:01\r",
      "\u001b[K     |██████████████▌                 | 245kB 4.7MB/s eta 0:00:01\r",
      "\u001b[K     |███████████████▏                | 256kB 4.7MB/s eta 0:00:01\r",
      "\u001b[K     |███████████████▊                | 266kB 4.7MB/s eta 0:00:01\r",
      "\u001b[K     |████████████████▍               | 276kB 4.7MB/s eta 0:00:01\r",
      "\u001b[K     |█████████████████               | 286kB 4.7MB/s eta 0:00:01\r",
      "\u001b[K     |█████████████████▋              | 296kB 4.7MB/s eta 0:00:01\r",
      "\u001b[K     |██████████████████▏             | 307kB 4.7MB/s eta 0:00:01\r",
      "\u001b[K     |██████████████████▊             | 317kB 4.7MB/s eta 0:00:01\r",
      "\u001b[K     |███████████████████▍            | 327kB 4.7MB/s eta 0:00:01\r",
      "\u001b[K     |████████████████████            | 337kB 4.7MB/s eta 0:00:01\r",
      "\u001b[K     |████████████████████▋           | 348kB 4.7MB/s eta 0:00:01\r",
      "\u001b[K     |█████████████████████▏          | 358kB 4.7MB/s eta 0:00:01\r",
      "\u001b[K     |█████████████████████▉          | 368kB 4.7MB/s eta 0:00:01\r",
      "\u001b[K     |██████████████████████▍         | 378kB 4.7MB/s eta 0:00:01\r",
      "\u001b[K     |███████████████████████         | 389kB 4.7MB/s eta 0:00:01\r",
      "\u001b[K     |███████████████████████▋        | 399kB 4.7MB/s eta 0:00:01\r",
      "\u001b[K     |████████████████████████▎       | 409kB 4.7MB/s eta 0:00:01\r",
      "\u001b[K     |████████████████████████▉       | 419kB 4.7MB/s eta 0:00:01\r",
      "\u001b[K     |█████████████████████████▍      | 430kB 4.7MB/s eta 0:00:01\r",
      "\u001b[K     |██████████████████████████      | 440kB 4.7MB/s eta 0:00:01\r",
      "\u001b[K     |██████████████████████████▋     | 450kB 4.7MB/s eta 0:00:01\r",
      "\u001b[K     |███████████████████████████▎    | 460kB 4.7MB/s eta 0:00:01\r",
      "\u001b[K     |███████████████████████████▉    | 471kB 4.7MB/s eta 0:00:01\r",
      "\u001b[K     |████████████████████████████▌   | 481kB 4.7MB/s eta 0:00:01\r",
      "\u001b[K     |█████████████████████████████   | 491kB 4.7MB/s eta 0:00:01\r",
      "\u001b[K     |█████████████████████████████▊  | 501kB 4.7MB/s eta 0:00:01\r",
      "\u001b[K     |██████████████████████████████▎ | 512kB 4.7MB/s eta 0:00:01\r",
      "\u001b[K     |███████████████████████████████ | 522kB 4.7MB/s eta 0:00:01\r",
      "\u001b[K     |███████████████████████████████▌| 532kB 4.7MB/s eta 0:00:01\r",
      "\u001b[K     |████████████████████████████████| 542kB 4.7MB/s \n",
      "\u001b[?25hRequirement already satisfied: numpy in /usr/local/lib/python3.6/dist-packages (from mglearn) (1.18.2)\n",
      "Requirement already satisfied: matplotlib in /usr/local/lib/python3.6/dist-packages (from mglearn) (3.2.1)\n",
      "Requirement already satisfied: scikit-learn in /usr/local/lib/python3.6/dist-packages (from mglearn) (0.22.2.post1)\n",
      "Requirement already satisfied: pandas in /usr/local/lib/python3.6/dist-packages (from mglearn) (0.25.3)\n",
      "Requirement already satisfied: pillow in /usr/local/lib/python3.6/dist-packages (from mglearn) (7.0.0)\n",
      "Requirement already satisfied: cycler in /usr/local/lib/python3.6/dist-packages (from mglearn) (0.10.0)\n",
      "Requirement already satisfied: imageio in /usr/local/lib/python3.6/dist-packages (from mglearn) (2.4.1)\n",
      "Requirement already satisfied: kiwisolver>=1.0.1 in /usr/local/lib/python3.6/dist-packages (from matplotlib->mglearn) (1.1.0)\n",
      "Requirement already satisfied: pyparsing!=2.0.4,!=2.1.2,!=2.1.6,>=2.0.1 in /usr/local/lib/python3.6/dist-packages (from matplotlib->mglearn) (2.4.6)\n",
      "Requirement already satisfied: python-dateutil>=2.1 in /usr/local/lib/python3.6/dist-packages (from matplotlib->mglearn) (2.8.1)\n",
      "Requirement already satisfied: scipy>=0.17.0 in /usr/local/lib/python3.6/dist-packages (from scikit-learn->mglearn) (1.4.1)\n",
      "Requirement already satisfied: joblib>=0.11 in /usr/local/lib/python3.6/dist-packages (from scikit-learn->mglearn) (0.14.1)\n",
      "Requirement already satisfied: pytz>=2017.2 in /usr/local/lib/python3.6/dist-packages (from pandas->mglearn) (2018.9)\n",
      "Requirement already satisfied: six in /usr/local/lib/python3.6/dist-packages (from cycler->mglearn) (1.12.0)\n",
      "Requirement already satisfied: setuptools in /usr/local/lib/python3.6/dist-packages (from kiwisolver>=1.0.1->matplotlib->mglearn) (46.0.0)\n",
      "Building wheels for collected packages: mglearn\n",
      "  Building wheel for mglearn (setup.py) ... \u001b[?25l\u001b[?25hdone\n",
      "  Created wheel for mglearn: filename=mglearn-0.1.7-py2.py3-none-any.whl size=582705 sha256=2ee4842f86e368ac894d154ca397f41f62781751d3cb9d948aa4d3a2f9121e90\n",
      "  Stored in directory: /root/.cache/pip/wheels/74/cf/8d/04f4932d15854a36726c6210763c7127e62de28f5c8ddfcf3b\n",
      "Successfully built mglearn\n",
      "Installing collected packages: mglearn\n",
      "Successfully installed mglearn-0.1.7\n"
     ]
    }
   ],
   "source": [
    "!pip install mglearn"
   ]
  },
  {
   "cell_type": "code",
   "execution_count": 2,
   "metadata": {
    "colab": {
     "base_uri": "https://localhost:8080/",
     "height": 552
    },
    "colab_type": "code",
    "id": "gkDDOML2Hlkz",
    "outputId": "6eee80fd-0b92-40e0-ee0d-d05bb416601c"
   },
   "outputs": [
    {
     "name": "stderr",
     "output_type": "stream",
     "text": [
      "/usr/local/lib/python3.6/dist-packages/sklearn/externals/six.py:31: FutureWarning: The module is deprecated in version 0.21 and will be removed in version 0.23 since we've dropped support for Python 2.7. Please rely on the official version of six (https://pypi.org/project/six/).\n",
      "  \"(https://pypi.org/project/six/).\", FutureWarning)\n",
      "/usr/local/lib/python3.6/dist-packages/sklearn/externals/joblib/__init__.py:15: FutureWarning: sklearn.externals.joblib is deprecated in 0.21 and will be removed in 0.23. Please import this functionality directly from joblib, which can be installed with: pip install joblib. If this warning is raised when loading pickled models, you may need to re-serialize those models with scikit-learn 0.21+.\n",
      "  warnings.warn(msg, category=FutureWarning)\n"
     ]
    },
    {
     "name": "stdout",
     "output_type": "stream",
     "text": [
      "w[0]: 0.393906  b: -0.031804\n"
     ]
    },
    {
     "data": {
      "image/png": "[encoded data removed]",
      "text/plain": [
       "<Figure size 576x576 with 1 Axes>"
      ]
     },
     "metadata": {
      "tags": []
     },
     "output_type": "display_data"
    }
   ],
   "source": [
    "import mglearn\n",
    "mglearn.plots.plot_linear_regression_wave()"
   ]
  },
  {
   "cell_type": "markdown",
   "metadata": {
    "colab_type": "text",
    "id": "It9Zbd3PHjLS"
   },
   "source": [
    "Looking at w[0] we see that the slope should be around 0.4, which we can confirm visually in the plot. The intercept is where the prediction line should cross the y-axis: this is slightly below zero, which you can also confirm in the image."
   ]
  },
  {
   "cell_type": "markdown",
   "metadata": {
    "colab_type": "text",
    "id": "zw2_K1RVIBuu"
   },
   "source": [
    "Linear models for regression can be characterized as regression models for which the prediction is a line for a single feature, a plane when using two features, or a hyper‐ plane in higher dimensions (that is, when using more features)."
   ]
  },
  {
   "cell_type": "markdown",
   "metadata": {
    "colab_type": "text",
    "id": "19d0cRQOIF4l"
   },
   "source": [
    "If you compare the predictions made by the straight line with those made by the KNeighborsRegressor, using a straight line to make predictions seems very restrictive. It looks like all the fine details of the data are lost. In a sense, this is true. It is a strong (and somewhat unrealistic) assumption that our target y is a linear combination of the features. But looking at one-dimensional data gives a somewhat skewed perspective. For datasets with many features, linear models can be very powerful. In particular, if you have more features than training data points, any target y can be perfectly modeled (on the training set) as a linear function."
   ]
  },
  {
   "cell_type": "markdown",
   "metadata": {
    "colab_type": "text",
    "id": "pgBCH9ZUITxl"
   },
   "source": [
    "There are many different linear models for regression."
   ]
  },
  {
   "cell_type": "markdown",
   "metadata": {
    "colab_type": "text",
    "id": "DSbpC583IYtq"
   },
   "source": [
    "**Linear regression (aka ordinary least squares)**"
   ]
  },
  {
   "cell_type": "markdown",
   "metadata": {
    "colab_type": "text",
    "id": "KtO_ozB-Iiod"
   },
   "source": [
    "Linear regression, or ordinary least squares (OLS), is the simplest and most classic linear method for regression. Linear regression finds the parameters w and b that minimize the mean squared error between predictions and the true regression targets, y, on the training set. The mean squared error is the sum of the squared differences between the predictions and the true values, divided by the number of samples. Linear regression has no parameters, which is a benefit, but it also has no way to control model complexity."
   ]
  },
  {
   "cell_type": "markdown",
   "metadata": {
    "colab_type": "text",
    "id": "ppGev5GGAA0V"
   },
   "source": [
    "**Step 1 - Loading the data**"
   ]
  },
  {
   "cell_type": "code",
   "execution_count": 0,
   "metadata": {
    "colab": {},
    "colab_type": "code",
    "id": "eabgGp-ZAGAe"
   },
   "outputs": [],
   "source": [
    "import mglearn\n",
    "X, y = mglearn.datasets.make_wave(n_samples=40)"
   ]
  },
  {
   "cell_type": "markdown",
   "metadata": {
    "colab_type": "text",
    "id": "Cg-REQbhARYo"
   },
   "source": [
    "**Step 2 - Train-Test Split**"
   ]
  },
  {
   "cell_type": "code",
   "execution_count": 0,
   "metadata": {
    "colab": {},
    "colab_type": "code",
    "id": "mq-foOmYAe0R"
   },
   "outputs": [],
   "source": [
    "from sklearn.model_selection import train_test_split\n",
    "X_train, X_test, y_train, y_test = train_test_split(X, y, random_state=60)"
   ]
  },
  {
   "cell_type": "markdown",
   "metadata": {
    "colab_type": "text",
    "id": "XsHsn3gQAzHU"
   },
   "source": [
    "**Step 3 - Building the Model**"
   ]
  },
  {
   "cell_type": "code",
   "execution_count": 0,
   "metadata": {
    "colab": {},
    "colab_type": "code",
    "id": "AkCQzWW2A9gr"
   },
   "outputs": [],
   "source": [
    "from sklearn.linear_model import LinearRegression\n",
    "lr = LinearRegression()"
   ]
  },
  {
   "cell_type": "markdown",
   "metadata": {
    "colab_type": "text",
    "id": "1jUdyKbDBRPM"
   },
   "source": [
    "**Step 4 - Training the Model**"
   ]
  },
  {
   "cell_type": "code",
   "execution_count": 6,
   "metadata": {
    "colab": {
     "base_uri": "https://localhost:8080/",
     "height": 34
    },
    "colab_type": "code",
    "id": "5S_guMsFBZhe",
    "outputId": "36680d12-5da5-42ef-aad4-2614fdf3be46"
   },
   "outputs": [
    {
     "data": {
      "text/plain": [
       "LinearRegression(copy_X=True, fit_intercept=True, n_jobs=None, normalize=False)"
      ]
     },
     "execution_count": 6,
     "metadata": {
      "tags": []
     },
     "output_type": "execute_result"
    }
   ],
   "source": [
    "lr.fit(X_train, y_train)"
   ]
  },
  {
   "cell_type": "markdown",
   "metadata": {
    "colab_type": "text",
    "id": "qoZKoLMhBeX-"
   },
   "source": [
    "**Step 5 - Making the Predictions**"
   ]
  },
  {
   "cell_type": "code",
   "execution_count": 7,
   "metadata": {
    "colab": {
     "base_uri": "https://localhost:8080/",
     "height": 51
    },
    "colab_type": "code",
    "id": "7CbTF4D_Bmdg",
    "outputId": "e3e6fefc-1ba8-44a2-ac07-151af61caf6e"
   },
   "outputs": [
    {
     "name": "stdout",
     "output_type": "stream",
     "text": [
      "Test set prediction [ 0.90558131 -0.90145215  0.42515939 -0.57820859 -0.85432225 -0.61256977\n",
      " -0.02372291  0.69169983 -0.9696576   0.48810788]\n"
     ]
    }
   ],
   "source": [
    "print(\"Test set prediction {}\".format(lr.predict(X_test)))"
   ]
  },
  {
   "cell_type": "markdown",
   "metadata": {
    "colab_type": "text",
    "id": "PBqk0T4tByBd"
   },
   "source": [
    "**Step 6 - Evaluating the Model**"
   ]
  },
  {
   "cell_type": "code",
   "execution_count": 8,
   "metadata": {
    "colab": {
     "base_uri": "https://localhost:8080/",
     "height": 51
    },
    "colab_type": "code",
    "id": "A74k1yVXB12s",
    "outputId": "1de47e9c-4cff-4e8f-822b-4d1abb9d8afb"
   },
   "outputs": [
    {
     "name": "stdout",
     "output_type": "stream",
     "text": [
      "Train score : 0.6835587020533835\n",
      "Test score : 0.6735973782183866\n"
     ]
    }
   ],
   "source": [
    "print(\"Train score : {}\".format(lr.score(X_train, y_train)))\n",
    "print(\"Test score : {}\".format(lr.score(X_test, y_test)))"
   ]
  },
  {
   "cell_type": "markdown",
   "metadata": {
    "colab_type": "text",
    "id": "hC5EHnCf3IZm"
   },
   "source": [
    "The “slope” parameters (w), also called weights or coefficients, are stored in the coef_ attribute, while the offset or intercept (b) is stored in the intercept_ attribute:"
   ]
  },
  {
   "cell_type": "code",
   "execution_count": 9,
   "metadata": {
    "colab": {
     "base_uri": "https://localhost:8080/",
     "height": 51
    },
    "colab_type": "code",
    "id": "NgSl-mMKGjkj",
    "outputId": "4b87600b-eabf-4846-892c-3dc14a6a1c09"
   },
   "outputs": [
    {
     "name": "stdout",
     "output_type": "stream",
     "text": [
      "lr.coef_: [0.44008435]\n",
      "lr.intercept_: -0.061309036231210756\n"
     ]
    }
   ],
   "source": [
    "print(\"lr.coef_: {}\".format(lr.coef_)) \n",
    "print(\"lr.intercept_: {}\".format(lr.intercept_))"
   ]
  },
  {
   "cell_type": "markdown",
   "metadata": {
    "colab_type": "text",
    "id": "KvJnSGIl3SQB"
   },
   "source": [
    "The intercept_ attribute is always a single float number, while the coef_ attribute is a NumPy array with one entry per input feature. As we only have a single input feature in the wave dataset, lr.coef_ only has a single entry."
   ]
  },
  {
   "cell_type": "markdown",
   "metadata": {
    "colab_type": "text",
    "id": "ei3Rffvr3ep4"
   },
   "source": [
    "An R2 of around 0.66 is not very good, but we can see that the scores on the training and test sets are very close together. This means we are likely underfitting, not over‐ fitting. For this one-dimensional dataset, there is little danger of overfitting, as the model is very simple (or restricted). However, with higher-dimensional datasets (meaning datasets with a large number of features), linear models become more pow‐ erful, and there is a higher chance of overfitting."
   ]
  },
  {
   "cell_type": "markdown",
   "metadata": {
    "colab_type": "text",
    "id": "NJAZUzKa3xaS"
   },
   "source": [
    "Let’s take a look at how LinearRe gression performs on a more complex dataset, like the Boston Housing dataset. Remember that this dataset has 506 samples and 105 derived features."
   ]
  },
  {
   "cell_type": "markdown",
   "metadata": {
    "colab_type": "text",
    "id": "hsddi7lL33AB"
   },
   "source": [
    "**Step 1 - Loading the data**"
   ]
  },
  {
   "cell_type": "code",
   "execution_count": 0,
   "metadata": {
    "colab": {},
    "colab_type": "code",
    "id": "e_o7_1q233AC"
   },
   "outputs": [],
   "source": [
    "X, y = mglearn.datasets.load_extended_boston()"
   ]
  },
  {
   "cell_type": "markdown",
   "metadata": {
    "colab_type": "text",
    "id": "kuuOhl8J33AG"
   },
   "source": [
    "**Step 2 - Train-Test Split**"
   ]
  },
  {
   "cell_type": "code",
   "execution_count": 0,
   "metadata": {
    "colab": {},
    "colab_type": "code",
    "id": "VQRQj-W_33AG"
   },
   "outputs": [],
   "source": [
    "from sklearn.model_selection import train_test_split\n",
    "X_train, X_test, y_train, y_test = train_test_split(X, y, random_state=60)"
   ]
  },
  {
   "cell_type": "markdown",
   "metadata": {
    "colab_type": "text",
    "id": "_2Oa6O4h33AI"
   },
   "source": [
    "**Step 3 - Building the Model**"
   ]
  },
  {
   "cell_type": "code",
   "execution_count": 0,
   "metadata": {
    "colab": {},
    "colab_type": "code",
    "id": "PaBWS9o033AJ"
   },
   "outputs": [],
   "source": [
    "from sklearn.linear_model import LinearRegression\n",
    "lr = LinearRegression()"
   ]
  },
  {
   "cell_type": "markdown",
   "metadata": {
    "colab_type": "text",
    "id": "Si0XD9iK33AM"
   },
   "source": [
    "**Step 4 - Training the Model**"
   ]
  },
  {
   "cell_type": "code",
   "execution_count": 13,
   "metadata": {
    "colab": {
     "base_uri": "https://localhost:8080/",
     "height": 34
    },
    "colab_type": "code",
    "id": "bh4HiKJL33AM",
    "outputId": "c65866cb-7172-4ba3-c821-2167def7d536"
   },
   "outputs": [
    {
     "data": {
      "text/plain": [
       "LinearRegression(copy_X=True, fit_intercept=True, n_jobs=None, normalize=False)"
      ]
     },
     "execution_count": 13,
     "metadata": {
      "tags": []
     },
     "output_type": "execute_result"
    }
   ],
   "source": [
    "lr.fit(X_train, y_train)"
   ]
  },
  {
   "cell_type": "markdown",
   "metadata": {
    "colab_type": "text",
    "id": "k37SzsGz33AQ"
   },
   "source": [
    "**Step 5 - Making the Predictions**"
   ]
  },
  {
   "cell_type": "code",
   "execution_count": 14,
   "metadata": {
    "colab": {
     "base_uri": "https://localhost:8080/",
     "height": 391
    },
    "colab_type": "code",
    "id": "QAaW4Wv033AQ",
    "outputId": "fc0d6985-3de4-43c0-99f4-20c913e88d9b"
   },
   "outputs": [
    {
     "name": "stdout",
     "output_type": "stream",
     "text": [
      "Test set prediction [35.06075777 28.2850042  15.74845734 19.94739473 29.31631447 21.57313573\n",
      " 10.11801712 27.59595764  9.91424403 19.25144551 14.11155554 30.50772545\n",
      " 24.28645053 26.24571566 26.50153028 22.39225324 19.86782382 19.33841609\n",
      " 30.69733431 19.11376439 19.33482918 21.02962553 22.28862652 29.50375202\n",
      " 13.98831464 17.13713832 33.81952807 13.82356811 11.93883632 30.16597397\n",
      " 10.00388143 17.53333801 25.32258166 14.08387384 16.39915733  9.07018099\n",
      " 22.18182384 15.05448503 22.81873312 20.93037653 20.86347068 25.98566681\n",
      " 28.00864839 17.78440105 28.86873468 12.0920077  24.90943905 26.70576473\n",
      " 27.45022868 18.01136305 22.32596899 50.6105941  16.96016133 30.81363522\n",
      " 22.64340706 27.69853609 20.04060495 37.730318   22.36912721 22.90778216\n",
      " 21.82838472 32.82448867 17.81895862 28.63093207 17.15211876 23.14234388\n",
      " 22.08329924 47.80433056 15.60381899 43.58787223 11.51954806 25.26250017\n",
      " 25.37238039 26.1643649  20.04492219 21.88490677 32.48230413 13.57783419\n",
      " 21.82217083 36.86389265 12.09923491 14.61334593 37.09308451 12.87945901\n",
      " 10.9704965  24.53920056 20.70764375 27.10059729 18.78181987 26.78982462\n",
      " 21.17505903 10.36272613 33.47099463 31.79758052 26.12775283 17.80663587\n",
      "  8.62936357 22.1112692  34.56341676 30.64757704 11.99047065 19.59565695\n",
      " 22.85795185 27.86121362 27.82300391 35.02644815  8.10484912 13.66058804\n",
      " 21.51082444 26.95558262 16.32761326 25.85946868 20.05981151 16.59731832\n",
      " 18.65081764 18.4541825  15.26125997 22.54664177 14.17445878 26.41032649\n",
      " 24.4019352  54.33951509 22.7794216  14.00360363 40.14059806  9.38972183\n",
      " 19.92460841]\n"
     ]
    }
   ],
   "source": [
    "print(\"Test set prediction {}\".format(lr.predict(X_test)))"
   ]
  },
  {
   "cell_type": "markdown",
   "metadata": {
    "colab_type": "text",
    "id": "lwGlS3wu33AS"
   },
   "source": [
    "**Step 6 - Evaluating the Model**"
   ]
  },
  {
   "cell_type": "code",
   "execution_count": 15,
   "metadata": {
    "colab": {
     "base_uri": "https://localhost:8080/",
     "height": 51
    },
    "colab_type": "code",
    "id": "TSdpEma433AT",
    "outputId": "232730ba-94ed-4c48-ade7-28c4234ea6b6"
   },
   "outputs": [
    {
     "name": "stdout",
     "output_type": "stream",
     "text": [
      "Train score : 0.9401075353420744\n",
      "Test score : 0.8265447762385938\n"
     ]
    }
   ],
   "source": [
    "print(\"Train score : {}\".format(lr.score(X_train, y_train)))\n",
    "print(\"Test score : {}\".format(lr.score(X_test, y_test)))"
   ]
  },
  {
   "cell_type": "code",
   "execution_count": 16,
   "metadata": {
    "colab": {
     "base_uri": "https://localhost:8080/",
     "height": 476
    },
    "colab_type": "code",
    "id": "taLjf0zA4YoO",
    "outputId": "16285fe4-dbb1-4e9f-9c95-78d31ad8f0ef"
   },
   "outputs": [
    {
     "name": "stdout",
     "output_type": "stream",
     "text": [
      "lr.coef_: [-9.19500541e+01 -5.89257362e+01 -8.40026931e+01  1.60601619e+01\n",
      "  3.47371350e+00  5.99559108e+01  3.06309005e+01 -4.29717244e+01\n",
      "  2.38087216e+01  3.95228912e+01 -5.72584467e+00  1.29093933e+01\n",
      " -1.03376013e+01  1.83691073e+01  2.82256207e+03 -3.49340090e+02\n",
      "  1.53579900e+02  3.12256695e+01  4.43550155e+01 -3.13210808e+01\n",
      " -2.14808661e+02 -8.22066926e+02  1.05246795e+03  1.53504853e+02\n",
      " -1.84769074e+01  7.00499751e+01 -7.35978093e+00 -1.61323818e+01\n",
      " -6.15717754e+00 -5.36813863e+01  1.95753621e+01 -4.41888330e-01\n",
      " -1.54533234e+01 -1.21259744e+01  4.17399283e+01 -7.62141561e+00\n",
      "  6.47027962e+01 -1.68760892e+00  2.54294054e+01 -2.60336696e+00\n",
      " -2.61991530e+00  2.69325006e+01  1.03950782e+01  6.49236382e+00\n",
      " -1.65526304e+01  9.11349541e+00 -7.16689792e+00  5.73458770e+01\n",
      " -1.16349554e+01  1.60601619e+01 -2.53767285e+01 -2.41284354e+01\n",
      "  7.72059658e-01  7.80267307e+00 -8.80643325e+00  2.16485457e+01\n",
      " -1.31109725e+01 -7.76930335e+00  1.02121043e-02  1.22345240e+00\n",
      " -3.24861922e+00 -1.63662375e+01  1.30119727e+02 -2.83715972e+01\n",
      "  5.31386899e+01 -5.35016037e+01 -8.12993465e+00  3.04723709e+01\n",
      "  1.77374836e+01 -1.69968930e+01 -1.29037141e+01 -1.33433657e+01\n",
      " -4.36230692e+01 -1.54483668e+01 -1.14734639e+01 -2.11184936e+01\n",
      " -1.52663953e+00 -7.67072814e+00  3.84900748e+01 -3.00450379e+01\n",
      " -2.82808133e+00 -1.72114076e+01 -2.31477395e+01  6.19159988e+01\n",
      " -2.75811000e+01 -2.90594940e+01 -2.46017085e+01 -2.16422696e+00\n",
      "  4.03726588e+01 -8.34704612e+01  1.13436266e+02 -8.33787635e+00\n",
      "  4.80793313e+00 -3.37575816e+01 -2.47162761e+01  3.22085687e+01\n",
      " -3.88421235e+01 -1.02530608e+01  1.80010707e+00  2.43638785e+01\n",
      "  1.40446729e+01 -6.98341978e+00 -3.22237752e+00  2.23439566e+01]\n",
      "lr.intercept_: 0.5698153375802306\n"
     ]
    }
   ],
   "source": [
    "print(\"lr.coef_: {}\".format(lr.coef_)) \n",
    "print(\"lr.intercept_: {}\".format(lr.intercept_))"
   ]
  },
  {
   "cell_type": "markdown",
   "metadata": {
    "colab_type": "text",
    "id": "jOIepP3w4eP0"
   },
   "source": [
    "This discrepancy between performance on the training set and the test set is a clear sign of overfitting, and therefore we should try to find a model that allows us to control complexity. One of the most commonly used alternatives to standard linear regression is ridge regression, which we will look into next."
   ]
  },
  {
   "cell_type": "markdown",
   "metadata": {
    "colab_type": "text",
    "id": "Gd1eSbem4iPT"
   },
   "source": [
    "**Ridge Regression**"
   ]
  },
  {
   "cell_type": "markdown",
   "metadata": {
    "colab_type": "text",
    "id": "4aWLvGPM4sb2"
   },
   "source": [
    "Ridge regression is also a linear model for regression, so the formula it uses to make predictions is the same one used for ordinary least squares. In ridge regression, though, the coefficients (w) are chosen not only so that they predict well on the training data, but also to fit an additional constraint. We also want the magnitude of coefficients to be as small as possible; in other words, all entries of w should be close to zero. Intuitively, this means each feature should have as little effect on the outcome as possible (which translates to having a small slope), while still predicting well. This constraint is an example of what is called regularization. Regularization means explicitly restricting a model to avoid overfitting. The particular kind used by ridge regression is known as L2 regularization. (**Regularisations will be taught later in detail**)"
   ]
  },
  {
   "cell_type": "markdown",
   "metadata": {
    "colab_type": "text",
    "id": "WyVd2yJN5LXC"
   },
   "source": [
    "**Step 1 - Loading the data**"
   ]
  },
  {
   "cell_type": "code",
   "execution_count": 0,
   "metadata": {
    "colab": {},
    "colab_type": "code",
    "id": "2jj37h_95KYn"
   },
   "outputs": [],
   "source": [
    "X, y = mglearn.datasets.load_extended_boston()"
   ]
  },
  {
   "cell_type": "markdown",
   "metadata": {
    "colab_type": "text",
    "id": "5oJaoVsA5kT1"
   },
   "source": [
    "**Step 2 - Train-Test Split**"
   ]
  },
  {
   "cell_type": "code",
   "execution_count": 0,
   "metadata": {
    "colab": {},
    "colab_type": "code",
    "id": "Y0YruEKX5q55"
   },
   "outputs": [],
   "source": [
    "from sklearn.model_selection import train_test_split\n",
    "X_train, X_test, y_train, y_test = train_test_split(X, y, random_state=0)"
   ]
  },
  {
   "cell_type": "markdown",
   "metadata": {
    "colab_type": "text",
    "id": "m8NGj7N-5-jg"
   },
   "source": [
    "**Step 3 - Building the Model**"
   ]
  },
  {
   "cell_type": "code",
   "execution_count": 0,
   "metadata": {
    "colab": {},
    "colab_type": "code",
    "id": "qYKUSJUS6Gui"
   },
   "outputs": [],
   "source": [
    "from sklearn.linear_model import Ridge\n",
    "ridge = Ridge()"
   ]
  },
  {
   "cell_type": "markdown",
   "metadata": {
    "colab_type": "text",
    "id": "ohUdbave6fJe"
   },
   "source": [
    "**Step 4 - Training the model**"
   ]
  },
  {
   "cell_type": "markdown",
   "metadata": {
    "colab_type": "text",
    "id": "gQSZRjws6mm6"
   },
   "source": [
    "Now, we fit the classifier using the training set. For KNeighborsClassifier this means storing the dataset, so we can compute neighbors during prediction:"
   ]
  },
  {
   "cell_type": "code",
   "execution_count": 28,
   "metadata": {
    "colab": {
     "base_uri": "https://localhost:8080/",
     "height": 51
    },
    "colab_type": "code",
    "id": "2xnyzGFv6nPq",
    "outputId": "443552c0-9977-42e9-b63b-a5cce2d10f96"
   },
   "outputs": [
    {
     "data": {
      "text/plain": [
       "Ridge(alpha=1.0, copy_X=True, fit_intercept=True, max_iter=None,\n",
       "      normalize=False, random_state=None, solver='auto', tol=0.001)"
      ]
     },
     "execution_count": 28,
     "metadata": {
      "tags": []
     },
     "output_type": "execute_result"
    }
   ],
   "source": [
    "ridge.fit(X_train, y_train)"
   ]
  },
  {
   "cell_type": "markdown",
   "metadata": {
    "colab_type": "text",
    "id": "SVKEHoID60B9"
   },
   "source": [
    "**Step 5 - Making the predictions**"
   ]
  },
  {
   "cell_type": "code",
   "execution_count": 30,
   "metadata": {
    "colab": {
     "base_uri": "https://localhost:8080/",
     "height": 391
    },
    "colab_type": "code",
    "id": "ugyVaYoi7AlJ",
    "outputId": "f9f482c9-f043-4669-9355-ae32a290db3f"
   },
   "outputs": [
    {
     "name": "stdout",
     "output_type": "stream",
     "text": [
      "Test set prediction [24.96023269 24.68410887 27.69034825 13.09647783 20.42271463 19.54452905\n",
      " 21.85185003 21.67758776 18.61930946 18.7698162   5.9910075  13.42951791\n",
      " 14.66614326  9.02691443 42.88221287 32.89450939 23.42605877 37.96847269\n",
      " 30.29274568 22.71582566 24.77686476 23.24369021 19.49808856 28.04403682\n",
      " 21.88748427 22.16537667 17.3015203  17.67597787 39.54895931 18.89422661\n",
      " 17.20846873 17.32720023 18.92102512 21.4189529  27.56139907 21.42300993\n",
      "  8.79836059 30.04808353 16.22439954 13.83421703 24.84427251 21.12209877\n",
      " 22.23274182 17.24619793 23.65077455 24.77788692 18.99260533 18.7943427\n",
      " 12.60993012 23.64953703 14.9134075  17.87448733 22.85120994 36.71731924\n",
      " 13.94303365 20.52162984 19.0460956  16.88323697 16.9731729  21.2860116\n",
      " 18.20055782 21.00357373 31.99360089 30.34341872 18.95764069 29.95011463\n",
      " 15.76894096 18.64714816 15.34925449 22.42479586 21.35745971 22.90448275\n",
      " 28.06285277 28.55357057 26.96015304  7.17470169 39.87438804 23.22106924\n",
      " 26.7182502  18.28289288 27.18226109 18.41664917 20.79443995 40.72179584\n",
      " 43.66373474 24.40526933 24.14889777 17.0910078  26.24390255 15.43190326\n",
      " 13.83956552  9.06840165 22.75894837 29.94944916 21.45780324 20.15750542\n",
      "  8.02595391 25.15756441 12.72716596 16.87863486 24.87306595 21.12712716\n",
      " 31.8125174  21.65966173 26.62504971 21.60738256  9.47581534 18.69203618\n",
      " 21.59896802 26.98206248 33.30051593 13.24956353 18.54682946 18.93915612\n",
      " 12.9923625  22.02392514  5.46299278 19.34974811 11.07789697 47.43854047\n",
      " 29.41200956 12.15273432 17.93238614 20.24548073 22.23931948 20.36813143\n",
      " 34.96551214]\n"
     ]
    }
   ],
   "source": [
    "print(\"Test set prediction {}\".format(ridge.predict(X_test)))"
   ]
  },
  {
   "cell_type": "markdown",
   "metadata": {
    "colab_type": "text",
    "id": "9hlsziIz7Nuh"
   },
   "source": [
    "**Step 6 - Evaluating the model**"
   ]
  },
  {
   "cell_type": "code",
   "execution_count": 31,
   "metadata": {
    "colab": {
     "base_uri": "https://localhost:8080/",
     "height": 51
    },
    "colab_type": "code",
    "id": "uVVNVmHb7SHr",
    "outputId": "895d8c11-99f9-4439-ca24-6fa147cb0d9e"
   },
   "outputs": [
    {
     "name": "stdout",
     "output_type": "stream",
     "text": [
      "Train score : 0.8857966585170941\n",
      "Test score : 0.7527683481744751\n"
     ]
    }
   ],
   "source": [
    "print(\"Train score : {}\".format(ridge.score(X_train, y_train)))\n",
    "print(\"Test score : {}\".format(ridge.score(X_test, y_test)))"
   ]
  },
  {
   "cell_type": "code",
   "execution_count": 32,
   "metadata": {
    "colab": {
     "base_uri": "https://localhost:8080/",
     "height": 476
    },
    "colab_type": "code",
    "id": "o-khlXdL5yS1",
    "outputId": "f8c7ff57-0c3d-4732-d4d0-6173dcc1cefb"
   },
   "outputs": [
    {
     "name": "stdout",
     "output_type": "stream",
     "text": [
      "lr.coef_: [-1.41368408e+00 -1.55661895e+00 -1.46543409e+00 -1.26616071e-01\n",
      " -7.91193605e-02  8.33161023e+00  2.54975060e-01 -4.94145701e+00\n",
      "  3.89862268e+00 -1.05866058e+00 -1.58433734e+00  1.05103856e+00\n",
      " -4.01220799e+00  3.33720475e-01  3.64725471e-03 -8.49295793e-01\n",
      "  7.44989267e-01 -1.43106836e+00 -1.62981017e+00 -1.40486294e+00\n",
      " -4.47314366e-02 -1.74619880e+00 -1.46715888e+00 -1.33237111e+00\n",
      " -1.69154625e+00 -5.06179637e-01  2.62197591e+00 -2.09210002e+00\n",
      "  1.95074661e-01 -2.75469422e-01  5.11308202e+00 -1.67083739e+00\n",
      " -9.81863179e-02  6.34477127e-01 -6.10008281e-01  4.01805897e-02\n",
      " -1.27661999e+00 -2.91349679e+00  3.39544035e+00  7.91904036e-01\n",
      "  1.35260232e+00 -4.03661265e+00  2.32361734e+00 -3.36712926e+00\n",
      "  1.81279204e+00  3.01566897e+00 -1.89452070e+00 -2.50844073e-01\n",
      " -2.89543735e+00 -1.26616071e-01 -5.00217192e+00 -2.43951806e+00\n",
      "  2.85071846e+00 -8.57081177e-01  2.99141960e+00  2.34589755e+00\n",
      "  1.31207081e+00  1.71845119e+00 -2.59766697e+00 -1.32370675e+00\n",
      " -2.81242223e+00 -2.09117058e+00 -1.08428335e+00 -2.73843625e+00\n",
      " -1.61989753e+00 -2.80493280e+00  9.44641482e-01 -1.65363374e+00\n",
      "  1.66553558e+01 -1.10980551e+00  2.14188605e+00 -8.03855387e+00\n",
      " -8.59149928e+00 -7.54161099e+00  1.02924022e+01 -7.96425897e+00\n",
      "  7.68540742e-01 -1.85213002e+00  2.51497387e+00 -3.42074257e-01\n",
      " -1.79604278e+00 -2.93048162e-01 -4.78242379e+00  8.63283317e-01\n",
      "  4.22361423e-01 -1.41656695e+00 -2.12023113e-01 -5.08121369e+00\n",
      " -5.47247509e-01  1.53835390e+00  1.81348033e+00  1.97252021e+00\n",
      "  1.81849652e+00 -7.14338697e+00  1.10472533e+00  1.42242216e+00\n",
      " -1.31494020e+00 -6.77170441e+00  1.82204476e+00 -2.36112444e+00\n",
      "  4.34670572e-02  1.20886000e+00 -6.32599163e+00  1.03600231e+01]\n",
      "lr.intercept_: 21.390525958609967\n"
     ]
    }
   ],
   "source": [
    "print(\"lr.coef_: {}\".format(ridge.coef_)) \n",
    "print(\"lr.intercept_: {}\".format(ridge.intercept_))"
   ]
  },
  {
   "cell_type": "markdown",
   "metadata": {
    "colab_type": "text",
    "id": "_nCsgJ9E63e6"
   },
   "source": [
    "As you can see, the training set score of Ridge is lower than for LinearRegression, while the test set score is higher. This is consistent with our expectation. With linear regression, we were overfitting our data. Ridge is a more restricted model, so we are less likely to overfit. A less complex model means worse performance on the training set, but better generalization. As we are only interested in generalization performance, we should choose the Ridge model over the LinearRegression model."
   ]
  },
  {
   "cell_type": "markdown",
   "metadata": {
    "colab_type": "text",
    "id": "Z1w_goJiVnlU"
   },
   "source": [
    "The Ridge model makes a trade-off between the simplicity of the model (near-zero coefficients) and its performance on the training set. How much importance the model places on simplicity versus training set performance can be specified by the user, using the alpha parameter. In the previous example, we used the default parameter alpha=1.0. There is no reason why this will give us the best trade-off, though. The optimum setting of alpha depends on the particular dataset we are using. Increasing alpha forces coefficients to move more toward zero, which decreases training set performance but might help generalization. For example:"
   ]
  },
  {
   "cell_type": "code",
   "execution_count": 24,
   "metadata": {
    "colab": {
     "base_uri": "https://localhost:8080/",
     "height": 51
    },
    "colab_type": "code",
    "id": "hGkPaQBN67f9",
    "outputId": "1eaae568-fdf8-4c90-ba1a-a2a3a3da3500"
   },
   "outputs": [
    {
     "name": "stdout",
     "output_type": "stream",
     "text": [
      "Training set score: 0.79\n",
      "Test set score: 0.64\n"
     ]
    }
   ],
   "source": [
    "ridge10 = Ridge(alpha=10).fit(X_train, y_train)\n",
    "print(\"Training set score: {:.2f}\".format(ridge10.score(X_train, y_train)))\n",
    "print(\"Test set score: {:.2f}\".format(ridge10.score(X_test, y_test)))"
   ]
  },
  {
   "cell_type": "markdown",
   "metadata": {
    "colab_type": "text",
    "id": "CqZDrQdCVvzb"
   },
   "source": [
    "Decreasing alpha allows the coefficients to be less restricted, meaning we move right. For very small values of alpha, coefficients are barely restricted at all, and we end up with a model that resembles LinearRegression:"
   ]
  },
  {
   "cell_type": "code",
   "execution_count": 25,
   "metadata": {
    "colab": {
     "base_uri": "https://localhost:8080/",
     "height": 51
    },
    "colab_type": "code",
    "id": "3Q6g27wVVzoA",
    "outputId": "ffdd55bd-7dfe-4bf9-e93c-7be5852f2a26"
   },
   "outputs": [
    {
     "name": "stdout",
     "output_type": "stream",
     "text": [
      "Training set score: 0.93\n",
      "Test set score: 0.77\n"
     ]
    }
   ],
   "source": [
    "ridge01 = Ridge(alpha=0.1).fit(X_train, y_train)\n",
    "print(\"Training set score: {:.2f}\".format(ridge01.score(X_train, y_train)))\n",
    "print(\"Test set score: {:.2f}\".format(ridge01.score(X_test, y_test)))"
   ]
  },
  {
   "cell_type": "markdown",
   "metadata": {
    "colab_type": "text",
    "id": "B6AYQHYWV-lv"
   },
   "source": [
    "We can also get a more qualitative insight into how the alpha parameter changes the model by inspecting the coef_ attribute of models with different values of alpha. A higher alpha means a more restricted model, so we expect the entries of coef_ to have smaller magnitude for a high value of alpha than for a low value of alpha."
   ]
  },
  {
   "cell_type": "code",
   "execution_count": 33,
   "metadata": {
    "colab": {
     "base_uri": "https://localhost:8080/",
     "height": 296
    },
    "colab_type": "code",
    "id": "8NQQKvLsWDOo",
    "outputId": "ba1c315e-2510-4443-fd73-829afd26763b"
   },
   "outputs": [
    {
     "data": {
      "text/plain": [
       "<matplotlib.legend.Legend at 0x7f5fd54ff550>"
      ]
     },
     "execution_count": 33,
     "metadata": {
      "tags": []
     },
     "output_type": "execute_result"
    },
    {
     "data": {
      "image/png": "[encoded data removed]",
      "text/plain": [
       "<Figure size 432x288 with 1 Axes>"
      ]
     },
     "metadata": {
      "tags": []
     },
     "output_type": "display_data"
    }
   ],
   "source": [
    "import matplotlib.pyplot as plt\n",
    "\n",
    "plt.plot(ridge.coef_, 's', label=\"Ridge alpha=1\") \n",
    "plt.plot(ridge10.coef_, '^', label=\"Ridge alpha=10\") \n",
    "plt.plot(ridge01.coef_, 'v', label=\"Ridge alpha=0.1\")\n",
    "plt.plot(lr.coef_, 'o', label=\"LinearRegression\") \n",
    "plt.xlabel(\"Coefficient index\") \n",
    "plt.ylabel(\"Coefficient magnitude\") \n",
    "plt.hlines(0, 0, len(lr.coef_))\n",
    "plt.ylim(-25, 25) \n",
    "plt.legend()"
   ]
  },
  {
   "cell_type": "markdown",
   "metadata": {
    "colab_type": "text",
    "id": "dg2tbfIGWrR3"
   },
   "source": [
    "Here, the x-axis enumerates the entries of coef_: x=0 shows the coefficient associated with the first feature, x=1 the coefficient associated with the second feature, and so on up to x=100. The y-axis shows the numeric values of the corresponding values of the coefficients. The main takeaway here is that for alpha=10, the coefficients are mostly between around –3 and 3. The coefficients for the Ridge model with alpha=1 are somewhat larger. The dots corresponding to alpha=0.1 have larger magnitude still, and many of the dots corresponding to linear regression without any regularization (which would be alpha=0) are so large they are outside of the chart."
   ]
  },
  {
   "cell_type": "markdown",
   "metadata": {
    "colab_type": "text",
    "id": "34l9CMrnWx0C"
   },
   "source": [
    "Another way to understand the influence of regularization is to fix a value of alpha but vary the amount of training data available. We subsampled the Boston Housing dataset and evaluated LinearRegression and Ridge(alpha=1) on subsets of increasing size (plots that show model performance as a function of dataset size are called learning curves):"
   ]
  },
  {
   "cell_type": "code",
   "execution_count": 34,
   "metadata": {
    "colab": {
     "base_uri": "https://localhost:8080/",
     "height": 325
    },
    "colab_type": "code",
    "id": "pTUvdYgTWLNG",
    "outputId": "e738c970-c30d-4d34-da33-9dcd35e82a82"
   },
   "outputs": [
    {
     "data": {
      "image/png": "[encoded data removed]",
      "text/plain": [
       "<Figure size 432x288 with 1 Axes>"
      ]
     },
     "metadata": {
      "tags": []
     },
     "output_type": "display_data"
    }
   ],
   "source": [
    "mglearn.plots.plot_ridge_n_samples()\n"
   ]
  },
  {
   "cell_type": "markdown",
   "metadata": {
    "colab_type": "text",
    "id": "Ecc00nOkXJax"
   },
   "source": [
    "As one would expect, the training score is higher than the test score for all dataset sizes, for both ridge and linear regression. Because ridge is regularized, the training score of ridge is lower than the training score for linear regression across the board. However, the test score for ridge is better, particularly for small subsets of the data. For less than 400 data points, linear regression is not able to learn anything. As more and more data becomes available to the model, both models improve, and linear regression catches up with ridge in the end. \n",
    "\n",
    "The lesson here is that with enough training data, regularization becomes less important, and given enough data, ridge and linear regression will have the same performance (the fact that this happens here when using the full dataset is just by chance). Another interesting aspect of Figure 2-13 is the decrease in training performance for linear regression. If more data is added, it becomes harder for a model to overfit, or memorize the data."
   ]
  },
  {
   "cell_type": "markdown",
   "metadata": {
    "colab_type": "text",
    "id": "1uuTRNIjXVtW"
   },
   "source": [
    "**Lasso Regression**"
   ]
  },
  {
   "cell_type": "markdown",
   "metadata": {
    "colab_type": "text",
    "id": "Dg4nE-dWXaNP"
   },
   "source": [
    "An alternative to Ridge for regularizing linear regression is Lasso. As with ridge regression, using the lasso also restricts coefficients to be close to zero, but in a slightly different way, called L1 regularization. The consequence of L1 regularization is that when using the lasso, some coefficients are exactly zero. This means some features are entirely ignored by the model. This can be seen as a form of automatic feature selection. Having some coefficients be exactly zero often makes a model easier to interpret, and can reveal the most important features of your model."
   ]
  },
  {
   "cell_type": "markdown",
   "metadata": {
    "colab_type": "text",
    "id": "wksrQVZOXzyz"
   },
   "source": [
    "**Step 1 - Loading the data**"
   ]
  },
  {
   "cell_type": "code",
   "execution_count": 0,
   "metadata": {
    "colab": {},
    "colab_type": "code",
    "id": "tTKmfllpXzy1"
   },
   "outputs": [],
   "source": [
    "X, y = mglearn.datasets.load_extended_boston()"
   ]
  },
  {
   "cell_type": "markdown",
   "metadata": {
    "colab_type": "text",
    "id": "yBX7iY1TXzy5"
   },
   "source": [
    "**Step 2 - Train-Test Split**"
   ]
  },
  {
   "cell_type": "code",
   "execution_count": 0,
   "metadata": {
    "colab": {},
    "colab_type": "code",
    "id": "teR0NsaLXzy5"
   },
   "outputs": [],
   "source": [
    "from sklearn.model_selection import train_test_split\n",
    "X_train, X_test, y_train, y_test = train_test_split(X, y, random_state=0)"
   ]
  },
  {
   "cell_type": "markdown",
   "metadata": {
    "colab_type": "text",
    "id": "JplIWvYOXzy8"
   },
   "source": [
    "**Step 3 - Building the Model**"
   ]
  },
  {
   "cell_type": "code",
   "execution_count": 0,
   "metadata": {
    "colab": {},
    "colab_type": "code",
    "id": "3mXZx-pGXzy8"
   },
   "outputs": [],
   "source": [
    "from sklearn.linear_model import Lasso\n",
    "lasso = Lasso()"
   ]
  },
  {
   "cell_type": "markdown",
   "metadata": {
    "colab_type": "text",
    "id": "UBWat3BuXzy-"
   },
   "source": [
    "**Step 4 - Training the model**"
   ]
  },
  {
   "cell_type": "code",
   "execution_count": 57,
   "metadata": {
    "colab": {
     "base_uri": "https://localhost:8080/",
     "height": 68
    },
    "colab_type": "code",
    "id": "VGT2Upc1Xzy-",
    "outputId": "48ad3f97-d67a-4e66-e812-5df98fe96314"
   },
   "outputs": [
    {
     "data": {
      "text/plain": [
       "Lasso(alpha=1.0, copy_X=True, fit_intercept=True, max_iter=1000,\n",
       "      normalize=False, positive=False, precompute=False, random_state=None,\n",
       "      selection='cyclic', tol=0.0001, warm_start=False)"
      ]
     },
     "execution_count": 57,
     "metadata": {
      "tags": []
     },
     "output_type": "execute_result"
    }
   ],
   "source": [
    "lasso.fit(X_train, y_train)"
   ]
  },
  {
   "cell_type": "markdown",
   "metadata": {
    "colab_type": "text",
    "id": "7LfUrf09XzzB"
   },
   "source": [
    "**Step 5 - Making the predictions**"
   ]
  },
  {
   "cell_type": "code",
   "execution_count": 58,
   "metadata": {
    "colab": {
     "base_uri": "https://localhost:8080/",
     "height": 391
    },
    "colab_type": "code",
    "id": "ObQ4WAOBXzzB",
    "outputId": "b3dc19fd-795e-4eaf-8e61-8b2ea51c1475"
   },
   "outputs": [
    {
     "name": "stdout",
     "output_type": "stream",
     "text": [
      "Test set prediction [24.99407961 20.92162651 23.41862808 19.55892672 23.19959921 23.35614736\n",
      " 22.3909419  23.42027922 23.68752807 21.9782926  19.28355398 19.19492968\n",
      " 19.83640475 18.15211705 24.93303827 25.58569149 22.06507679 25.68515252\n",
      " 25.07416322 24.0748331  23.94786196 23.4505878  21.47406003 24.74108091\n",
      " 24.24551405 20.36033926 21.48717006 22.88071679 24.19140641 21.6236861\n",
      " 19.78971841 20.74228482 22.82860461 23.48142634 23.67149172 20.57885237\n",
      " 18.37515488 21.40717243 20.24435154 18.86691709 24.88191045 23.67363404\n",
      " 24.42639058 19.82216265 24.14694507 23.50956923 23.23782347 23.00987236\n",
      " 20.89512367 22.34496001 23.18647089 23.03177293 23.32430324 25.68311272\n",
      " 20.34443325 23.61421095 24.08476619 23.22632358 20.83595635 21.715226\n",
      " 24.82772254 23.18174194 25.4027718  25.41843846 21.77093723 25.33278398\n",
      " 19.77784744 22.25100714 19.40762801 24.30921966 22.70344389 23.9321892\n",
      " 25.44793583 25.13439987 22.12615313 17.99740524 24.41590822 23.58112851\n",
      " 23.77771625 22.37207731 24.61005199 20.74619676 20.53758787 24.2307361\n",
      " 24.06489041 24.74536133 23.27536203 21.52120334 24.10334198 20.21375899\n",
      " 22.55253372 19.09438919 24.93165007 24.95875992 22.70448905 24.15001342\n",
      " 16.72083456 24.88254784 20.15699287 22.64254872 24.29310453 21.33624952\n",
      " 23.20515915 24.52861213 23.8139703  23.76775409 18.80262077 20.58349198\n",
      " 22.65943212 24.82906903 24.54832149 18.50846289 22.42144365 22.41113503\n",
      " 20.78239759 22.88019782 17.75748834 21.27691749 18.64852192 25.82890517\n",
      " 25.2901443  18.70158773 22.79188396 22.69556686 23.16962251 21.59056018\n",
      " 23.89487581]\n"
     ]
    }
   ],
   "source": [
    "print(\"Test set prediction {}\".format(lasso.predict(X_test)))"
   ]
  },
  {
   "cell_type": "markdown",
   "metadata": {
    "colab_type": "text",
    "id": "xompq0TxXzzE"
   },
   "source": [
    "**Step 6 - Evaluating the model**"
   ]
  },
  {
   "cell_type": "code",
   "execution_count": 59,
   "metadata": {
    "colab": {
     "base_uri": "https://localhost:8080/",
     "height": 51
    },
    "colab_type": "code",
    "id": "Z-DHUzX6XzzF",
    "outputId": "45b99a09-4f01-4200-fedc-2709492b55d5"
   },
   "outputs": [
    {
     "name": "stdout",
     "output_type": "stream",
     "text": [
      "Train set score : 0.29323768991114607\n",
      "Test set score : 0.20937503255272294\n"
     ]
    }
   ],
   "source": [
    "print(\"Train set score : {}\".format(lasso.score(X_train, y_train)))\n",
    "print(\"Test set score : {}\".format(lasso.score(X_test, y_test)))"
   ]
  },
  {
   "cell_type": "markdown",
   "metadata": {
    "colab_type": "text",
    "id": "SxqVpI_PYvMt"
   },
   "source": [
    "As you can see, Lasso does quite badly, both on the training and the test set. This indicates that we are underfitting, and we find that it used only 4 of the 105 features. Similarly to Ridge, the Lasso also has a regularization parameter, alpha, that controls how strongly coefficients are pushed toward zero. In the previous example, we used the default of alpha=1.0. To reduce underfitting, let’s try decreasing alpha. "
   ]
  },
  {
   "cell_type": "code",
   "execution_count": 60,
   "metadata": {
    "colab": {
     "base_uri": "https://localhost:8080/",
     "height": 68
    },
    "colab_type": "code",
    "id": "nmNFtqRbY9ez",
    "outputId": "2a531320-07fc-4887-8a34-a5d44ad2df1d"
   },
   "outputs": [
    {
     "name": "stdout",
     "output_type": "stream",
     "text": [
      "Training set score: 0.90\n",
      "Test set score: 0.77\n",
      "Number of features used: 33\n"
     ]
    }
   ],
   "source": [
    "import numpy as np\n",
    "\n",
    "# we increase the default setting of \"max_iter\",\n",
    "# otherwise the model would warn us that we should increase max_iter. \n",
    "lasso001 = Lasso(alpha=0.01, max_iter=100000).fit(X_train, y_train) \n",
    "print(\"Training set score: {:.2f}\".format(lasso001.score(X_train, y_train))) \n",
    "print(\"Test set score: {:.2f}\".format(lasso001.score(X_test, y_test))) \n",
    "print(\"Number of features used: {}\".format(np.sum(lasso001.coef_ != 0)))\n"
   ]
  },
  {
   "cell_type": "markdown",
   "metadata": {
    "colab_type": "text",
    "id": "fRIwEXc8ZOD5"
   },
   "source": [
    "If we set alpha too low, however, we again remove the effect of regularization and end up overfitting, with a result similar to LinearRegression:"
   ]
  },
  {
   "cell_type": "code",
   "execution_count": 62,
   "metadata": {
    "colab": {
     "base_uri": "https://localhost:8080/",
     "height": 68
    },
    "colab_type": "code",
    "id": "-XrgXuRlZPHC",
    "outputId": "59bf52d0-956b-4965-be20-3a08a1935ebf"
   },
   "outputs": [
    {
     "name": "stdout",
     "output_type": "stream",
     "text": [
      "Training set score: 0.95\n",
      "Test set score: 0.64\n",
      "Number of features used: 96\n"
     ]
    }
   ],
   "source": [
    "lasso00001 = Lasso(alpha=0.0001, max_iter=100000).fit(X_train, y_train) \n",
    "print(\"Training set score: {:.2f}\".format(lasso00001.score(X_train, y_train))) \n",
    "print(\"Test set score: {:.2f}\".format(lasso00001.score(X_test, y_test))) \n",
    "print(\"Number of features used: {}\".format(np.sum(lasso00001.coef_ != 0)))"
   ]
  },
  {
   "cell_type": "markdown",
   "metadata": {
    "colab_type": "text",
    "id": "KqXn7jsqZ1WB"
   },
   "source": [
    "Again, we can plot the coefficients of the different models."
   ]
  },
  {
   "cell_type": "code",
   "execution_count": 63,
   "metadata": {
    "colab": {
     "base_uri": "https://localhost:8080/",
     "height": 340
    },
    "colab_type": "code",
    "id": "VYgSK3LfZ2cm",
    "outputId": "1fe0b409-4489-406f-bf71-78a62069b7a0"
   },
   "outputs": [
    {
     "data": {
      "text/plain": [
       "Text(0, 0.5, 'Coefficient magnitude')"
      ]
     },
     "execution_count": 63,
     "metadata": {
      "tags": []
     },
     "output_type": "execute_result"
    },
    {
     "data": {
      "image/png": "[encoded data removed]",
      "text/plain": [
       "<Figure size 432x288 with 1 Axes>"
      ]
     },
     "metadata": {
      "tags": []
     },
     "output_type": "display_data"
    }
   ],
   "source": [
    "plt.plot(lasso.coef_, 's', label=\"Lasso alpha=1\") \n",
    "plt.plot(lasso001.coef_, '^', label=\"Lasso alpha=0.01\") \n",
    "plt.plot(lasso00001.coef_, 'v', label=\"Lasso alpha=0.0001\")\n",
    "plt.plot(ridge01.coef_, 'o', label=\"Ridge alpha=0.1\") \n",
    "plt.legend(ncol=2, loc=(0, 1.05))\n",
    "plt.ylim(-25, 25)\n",
    "plt.xlabel(\"Coefficient index\") \n",
    "plt.ylabel(\"Coefficient magnitude\")"
   ]
  },
  {
   "cell_type": "markdown",
   "metadata": {
    "colab_type": "text",
    "id": "CnwINjQ6aEgD"
   },
   "source": [
    "For alpha=1, we not only see that most of the coefficients are zero (which we already knew), but that the remaining coefficients are also small in magnitude. Decreasing alpha to 0.01, we obtain the solution shown as an upward pointing triangle, which causes most features to be exactly zero. Using alpha=0.0001, we get a model that is quite unregularized, with most coefficients nonzero and of large magnitude. For comparison, the best Ridge solution is shown as circles. The Ridge model with alpha=0.1 has similar predictive performance as the lasso model with alpha=0.01, but using Ridge, all coefficients are nonzero."
   ]
  },
  {
   "cell_type": "markdown",
   "metadata": {
    "colab_type": "text",
    "id": "ethbT_Z0afBn"
   },
   "source": [
    "In practice, ridge regression is usually the first choice between these two models. However, if you have a large amount of features and expect only a few of them to be important, Lasso might be a better choice. Similarly, if you would like to have a model that is easy to interpret, Lasso will provide a model that is easier to under‐ stand, as it will select only a subset of the input features. scikit-learn also provides the ElasticNet class, which combines the penalties of Lasso and Ridge. "
   ]
  },
  {
   "cell_type": "markdown",
   "metadata": {
    "colab_type": "text",
    "id": "h3NRcy_6afxq"
   },
   "source": [
    "**Linear Models for classification**"
   ]
  },
  {
   "cell_type": "markdown",
   "metadata": {
    "colab_type": "text",
    "id": "G1MBY0E9cihB"
   },
   "source": [
    "Linear models are also extensively used for classification. Let’s look at binary classification first. In this case, a prediction is made using the following formula:\n",
    "\n",
    "ŷ = w[0] * x[0] + w[1] * x[1] + ... + w[p] * x[p] + b > 0\n",
    "\n",
    "The formula looks very similar to the one for linear regression, but instead of just returning the weighted sum of the features, we threshold the predicted value at zero. If the function is smaller than zero, we predict the class –1; if it is larger than zero, we predict the class +1. This prediction rule is common to all linear models for classification. Again, there are many different ways to find the coefficients (w) and the intercept (b)."
   ]
  },
  {
   "cell_type": "markdown",
   "metadata": {
    "colab_type": "text",
    "id": "4tVe4VqTcxCc"
   },
   "source": [
    "For linear models for regression, the output, ŷ, is a linear function of the features: a line, plane, or hyperplane (in higher dimensions). For linear models for classification, the decision boundary is a linear function of the input. In other words, a (binary) linear classifier is a classifier that separates two classes using a line, a plane, or a hyperplane."
   ]
  },
  {
   "cell_type": "markdown",
   "metadata": {
    "colab_type": "text",
    "id": "n5o8QeEwc59m"
   },
   "source": [
    "The two most common linear classification algorithms are logistic regression, implemented in linear_model.LogisticRegression, and linear support vector machines (linear SVMs), implemented in svm.LinearSVC (SVC stands for support vector classi‐ fier). Despite its name, LogisticRegression is a classification algorithm and not a regression algorithm, and it should not be confused with LinearRegression."
   ]
  },
  {
   "cell_type": "markdown",
   "metadata": {
    "colab_type": "text",
    "id": "XyRV64SEjT5P"
   },
   "source": [
    "**Logistic Regression**"
   ]
  },
  {
   "cell_type": "markdown",
   "metadata": {
    "colab_type": "text",
    "id": "rWF2u82Ujk0f"
   },
   "source": [
    "**Step 1 - Loading the data**"
   ]
  },
  {
   "cell_type": "code",
   "execution_count": 64,
   "metadata": {
    "colab": {
     "base_uri": "https://localhost:8080/",
     "height": 71
    },
    "colab_type": "code",
    "id": "4zbkB30Tjk0g",
    "outputId": "5d41e8ec-ff93-4058-81fe-b2f43a94d87c"
   },
   "outputs": [
    {
     "name": "stderr",
     "output_type": "stream",
     "text": [
      "/usr/local/lib/python3.6/dist-packages/sklearn/utils/deprecation.py:87: FutureWarning: Function make_blobs is deprecated; Please import make_blobs directly from scikit-learn\n",
      "  warnings.warn(msg, category=FutureWarning)\n"
     ]
    }
   ],
   "source": [
    "X, y = mglearn.datasets.make_forge()"
   ]
  },
  {
   "cell_type": "markdown",
   "metadata": {
    "colab_type": "text",
    "id": "1mEQ1UMbjk0k"
   },
   "source": [
    "**Step 2 - Train-Test Split**"
   ]
  },
  {
   "cell_type": "code",
   "execution_count": 0,
   "metadata": {
    "colab": {},
    "colab_type": "code",
    "id": "FEm7tzBNjk0l"
   },
   "outputs": [],
   "source": [
    "from sklearn.model_selection import train_test_split\n",
    "X_train, X_test, y_train, y_test = train_test_split(X, y, random_state=0)"
   ]
  },
  {
   "cell_type": "markdown",
   "metadata": {
    "colab_type": "text",
    "id": "-ocqp7NQjk0n"
   },
   "source": [
    "**Step 3 - Building the Model**"
   ]
  },
  {
   "cell_type": "code",
   "execution_count": 0,
   "metadata": {
    "colab": {},
    "colab_type": "code",
    "id": "ZI0Nq8qejk0o"
   },
   "outputs": [],
   "source": [
    "from sklearn.linear_model import LogisticRegression\n",
    "clf = LogisticRegression()"
   ]
  },
  {
   "cell_type": "markdown",
   "metadata": {
    "colab_type": "text",
    "id": "QW2N7fdCjk0q"
   },
   "source": [
    "**Step 4 - Training the model**"
   ]
  },
  {
   "cell_type": "code",
   "execution_count": 70,
   "metadata": {
    "colab": {
     "base_uri": "https://localhost:8080/",
     "height": 102
    },
    "colab_type": "code",
    "id": "T4Bo95djjk0q",
    "outputId": "9551f368-2539-48af-af5e-9ad809d769b8"
   },
   "outputs": [
    {
     "data": {
      "text/plain": [
       "LogisticRegression(C=1.0, class_weight=None, dual=False, fit_intercept=True,\n",
       "                   intercept_scaling=1, l1_ratio=None, max_iter=100,\n",
       "                   multi_class='auto', n_jobs=None, penalty='l2',\n",
       "                   random_state=None, solver='lbfgs', tol=0.0001, verbose=0,\n",
       "                   warm_start=False)"
      ]
     },
     "execution_count": 70,
     "metadata": {
      "tags": []
     },
     "output_type": "execute_result"
    }
   ],
   "source": [
    "clf.fit(X_train, y_train)"
   ]
  },
  {
   "cell_type": "markdown",
   "metadata": {
    "colab_type": "text",
    "id": "zF1IUOscjk0t"
   },
   "source": [
    "**Step 5 - Making the predictions**"
   ]
  },
  {
   "cell_type": "code",
   "execution_count": 71,
   "metadata": {
    "colab": {
     "base_uri": "https://localhost:8080/",
     "height": 34
    },
    "colab_type": "code",
    "id": "ASuWQXTtjk0u",
    "outputId": "5df73e53-e4e0-408a-d346-12afa1133293"
   },
   "outputs": [
    {
     "name": "stdout",
     "output_type": "stream",
     "text": [
      "Test set prediction [1 0 1 0 1 0 0]\n"
     ]
    }
   ],
   "source": [
    "print(\"Test set prediction {}\".format(clf.predict(X_test)))"
   ]
  },
  {
   "cell_type": "markdown",
   "metadata": {
    "colab_type": "text",
    "id": "toAgjbpIjk0w"
   },
   "source": [
    "**Step 6 - Evaluating the model**"
   ]
  },
  {
   "cell_type": "code",
   "execution_count": 72,
   "metadata": {
    "colab": {
     "base_uri": "https://localhost:8080/",
     "height": 51
    },
    "colab_type": "code",
    "id": "eQoqHpkdjk0w",
    "outputId": "6a9a2598-d9d4-4e20-a3cb-31420c8c0090"
   },
   "outputs": [
    {
     "name": "stdout",
     "output_type": "stream",
     "text": [
      "Train set accuracy : 0.9473684210526315\n",
      "Test set accuracy : 0.8571428571428571\n"
     ]
    }
   ],
   "source": [
    "print(\"Train set accuracy : {}\".format(clf.score(X_train, y_train)))\n",
    "print(\"Test set accuracy : {}\".format(clf.score(X_test, y_test)))"
   ]
  },
  {
   "cell_type": "markdown",
   "metadata": {
    "colab_type": "text",
    "id": "00iKU4gdkCJG"
   },
   "source": [
    "**Linear Support Vector Classifier**"
   ]
  },
  {
   "cell_type": "markdown",
   "metadata": {
    "colab_type": "text",
    "id": "beMTbhCukKlj"
   },
   "source": [
    "**Step 1 - Loading the data**"
   ]
  },
  {
   "cell_type": "code",
   "execution_count": 73,
   "metadata": {
    "colab": {
     "base_uri": "https://localhost:8080/",
     "height": 71
    },
    "colab_type": "code",
    "id": "fYNIA6ENkKlk",
    "outputId": "8c3ddc43-e76d-4b88-a7f1-0dbd380f4ea7"
   },
   "outputs": [
    {
     "name": "stderr",
     "output_type": "stream",
     "text": [
      "/usr/local/lib/python3.6/dist-packages/sklearn/utils/deprecation.py:87: FutureWarning: Function make_blobs is deprecated; Please import make_blobs directly from scikit-learn\n",
      "  warnings.warn(msg, category=FutureWarning)\n"
     ]
    }
   ],
   "source": [
    "X, y = mglearn.datasets.make_forge()"
   ]
  },
  {
   "cell_type": "markdown",
   "metadata": {
    "colab_type": "text",
    "id": "gsDwR7KqkKlo"
   },
   "source": [
    "**Step 2 - Train-Test Split**"
   ]
  },
  {
   "cell_type": "code",
   "execution_count": 0,
   "metadata": {
    "colab": {},
    "colab_type": "code",
    "id": "gOSt5WMdkKlo"
   },
   "outputs": [],
   "source": [
    "from sklearn.model_selection import train_test_split\n",
    "X_train, X_test, y_train, y_test = train_test_split(X, y, random_state=0)"
   ]
  },
  {
   "cell_type": "markdown",
   "metadata": {
    "colab_type": "text",
    "id": "u7fH8LmbkKls"
   },
   "source": [
    "**Step 3 - Building the Model**"
   ]
  },
  {
   "cell_type": "code",
   "execution_count": 0,
   "metadata": {
    "colab": {},
    "colab_type": "code",
    "id": "viY5LpuBkKls"
   },
   "outputs": [],
   "source": [
    "from sklearn.svm import LinearSVC\n",
    "clf = LinearSVC()"
   ]
  },
  {
   "cell_type": "markdown",
   "metadata": {
    "colab_type": "text",
    "id": "1VEjEe90kKlu"
   },
   "source": [
    "**Step 4 - Training the model**"
   ]
  },
  {
   "cell_type": "code",
   "execution_count": 76,
   "metadata": {
    "colab": {
     "base_uri": "https://localhost:8080/",
     "height": 119
    },
    "colab_type": "code",
    "id": "XL4XqAKNkKlv",
    "outputId": "6a758ace-4e34-402d-cb0d-728fdb31ffb4"
   },
   "outputs": [
    {
     "name": "stderr",
     "output_type": "stream",
     "text": [
      "/usr/local/lib/python3.6/dist-packages/sklearn/svm/_base.py:947: ConvergenceWarning: Liblinear failed to converge, increase the number of iterations.\n",
      "  \"the number of iterations.\", ConvergenceWarning)\n"
     ]
    },
    {
     "data": {
      "text/plain": [
       "LinearSVC(C=1.0, class_weight=None, dual=True, fit_intercept=True,\n",
       "          intercept_scaling=1, loss='squared_hinge', max_iter=1000,\n",
       "          multi_class='ovr', penalty='l2', random_state=None, tol=0.0001,\n",
       "          verbose=0)"
      ]
     },
     "execution_count": 76,
     "metadata": {
      "tags": []
     },
     "output_type": "execute_result"
    }
   ],
   "source": [
    "clf.fit(X_train, y_train)"
   ]
  },
  {
   "cell_type": "markdown",
   "metadata": {
    "colab_type": "text",
    "id": "Asu-kr42kKlw"
   },
   "source": [
    "**Step 5 - Making the predictions**"
   ]
  },
  {
   "cell_type": "code",
   "execution_count": 77,
   "metadata": {
    "colab": {
     "base_uri": "https://localhost:8080/",
     "height": 34
    },
    "colab_type": "code",
    "id": "cb0MJ9uukKlx",
    "outputId": "80d59f53-8b24-4bb0-a73f-508cde31e8a3"
   },
   "outputs": [
    {
     "name": "stdout",
     "output_type": "stream",
     "text": [
      "Test set prediction [1 0 1 0 1 0 0]\n"
     ]
    }
   ],
   "source": [
    "print(\"Test set prediction {}\".format(clf.predict(X_test)))"
   ]
  },
  {
   "cell_type": "markdown",
   "metadata": {
    "colab_type": "text",
    "id": "-ueBE1JZkKlz"
   },
   "source": [
    "**Step 6 - Evaluating the model**"
   ]
  },
  {
   "cell_type": "code",
   "execution_count": 79,
   "metadata": {
    "colab": {
     "base_uri": "https://localhost:8080/",
     "height": 51
    },
    "colab_type": "code",
    "id": "mZPDv4ggkKlz",
    "outputId": "aaa0f698-b3b9-4c3e-a83f-1f6ade71db01"
   },
   "outputs": [
    {
     "name": "stdout",
     "output_type": "stream",
     "text": [
      "Train set accuracy : 0.9473684210526315\n",
      "Test set accuracy : 0.8571428571428571\n"
     ]
    }
   ],
   "source": [
    "print(\"Train set accuracy : {}\".format(clf.score(X_train, y_train)))\n",
    "print(\"Test set accuracy : {}\".format(clf.score(X_test, y_test)))"
   ]
  },
  {
   "cell_type": "markdown",
   "metadata": {
    "colab_type": "text",
    "id": "faOTe5bMkuA3"
   },
   "source": [
    "For LogisticRegression and LinearSVC the trade-off parameter that determines the strength of the regularization is called C, and higher values of C correspond to less regularization. In other words, when you use a high value for the parameter C, Logis ticRegression and LinearSVC try to fit the training set as best as possible, while with low values of the parameter C, the models put more emphasis on finding a coefficient vector (w) that is close to zero."
   ]
  },
  {
   "cell_type": "markdown",
   "metadata": {
    "colab_type": "text",
    "id": "gkqwGjfqlKfk"
   },
   "source": [
    "There is another interesting aspect of how the parameter C acts. Using low values of C will cause the algorithms to try to adjust to the “majority” of data points, while using a higher value of C stresses the importance that each individual data point be classi‐ fied correctly."
   ]
  },
  {
   "cell_type": "code",
   "execution_count": 80,
   "metadata": {
    "colab": {
     "base_uri": "https://localhost:8080/",
     "height": 268
    },
    "colab_type": "code",
    "id": "KomQ_ItFlLsx",
    "outputId": "98da9b10-fd00-414a-8718-b4f58d99dd44"
   },
   "outputs": [
    {
     "data": {
      "image/png": "[encoded data removed]",
      "text/plain": [
       "<Figure size 864x288 with 3 Axes>"
      ]
     },
     "metadata": {
      "tags": []
     },
     "output_type": "display_data"
    }
   ],
   "source": [
    "mglearn.plots.plot_linear_svc_regularization()"
   ]
  },
  {
   "cell_type": "markdown",
   "metadata": {
    "colab_type": "text",
    "id": "Yp7Ntdhhl0em"
   },
   "source": [
    "LogisticRegression applies an L2 regularization by default"
   ]
  },
  {
   "cell_type": "markdown",
   "metadata": {
    "colab_type": "text",
    "id": "EWdSkx6YmP5H"
   },
   "source": [
    "**Linear models for multiclass classification**"
   ]
  },
  {
   "cell_type": "markdown",
   "metadata": {
    "colab_type": "text",
    "id": "M7Ph7Y2AmUIV"
   },
   "source": [
    "Many linear classification models are for binary classification only, and don’t extend naturally to the multiclass case (with the exception of logistic regression). A common technique to extend a binary classification algorithm to a multiclass classification algorithm is the one-vs.-rest approach. In the one-vs.-rest approach, a binary model is learned for each class that tries to separate that class from all of the other classes, resulting in as many binary models as there are classes. To make a prediction, all binary classifiers are run on a test point. The classifier that has the highest score on its single class “wins,” and this class label is returned as the prediction."
   ]
  },
  {
   "cell_type": "code",
   "execution_count": 81,
   "metadata": {
    "colab": {
     "base_uri": "https://localhost:8080/",
     "height": 313
    },
    "colab_type": "code",
    "id": "JiVtkjYNmeEM",
    "outputId": "ab6d0502-1d97-4cb8-afce-2849e7a5c0d8"
   },
   "outputs": [
    {
     "name": "stdout",
     "output_type": "stream",
     "text": [
      "ERROR! Session/line number was not unique in database. History logging moved to new session 61\n"
     ]
    },
    {
     "data": {
      "text/plain": [
       "<matplotlib.legend.Legend at 0x7f5fd516c2b0>"
      ]
     },
     "execution_count": 81,
     "metadata": {
      "tags": []
     },
     "output_type": "execute_result"
    },
    {
     "data": {
      "image/png": "[encoded data removed]",
      "text/plain": [
       "<Figure size 432x288 with 1 Axes>"
      ]
     },
     "metadata": {
      "tags": []
     },
     "output_type": "display_data"
    }
   ],
   "source": [
    "from sklearn.datasets import make_blobs\n",
    "X, y = make_blobs(random_state=42) \n",
    "mglearn.discrete_scatter(X[:, 0], X[:, 1], y) \n",
    "plt.xlabel(\"Feature 0\")\n",
    "plt.ylabel(\"Feature 1\")\n",
    "plt.legend([\"Class 0\", \"Class 1\", \"Class 2\"])"
   ]
  },
  {
   "cell_type": "code",
   "execution_count": 82,
   "metadata": {
    "colab": {
     "base_uri": "https://localhost:8080/",
     "height": 51
    },
    "colab_type": "code",
    "id": "7fKZX1zDmxNY",
    "outputId": "dad892aa-232c-4f4a-883c-66dbc283d70f"
   },
   "outputs": [
    {
     "name": "stdout",
     "output_type": "stream",
     "text": [
      "Coefficient shape:  (3, 2)\n",
      "Intercept shape:  (3,)\n"
     ]
    }
   ],
   "source": [
    "linear_svm = LinearSVC().fit(X, y)\n",
    "print(\"Coefficient shape: \", linear_svm.coef_.shape) \n",
    "print(\"Intercept shape: \", linear_svm.intercept_.shape)"
   ]
  },
  {
   "cell_type": "markdown",
   "metadata": {
    "colab_type": "text",
    "id": "8bXlLtkEm6Am"
   },
   "source": [
    "We see that the shape of the coef_ is (3, 2), meaning that each row of coef_ contains the coefficient vector for one of the three classes and each column holds the coefficient value for a specific feature (there are two in this dataset). The intercept_ is now a one-dimensional array, storing the intercepts for each class."
   ]
  },
  {
   "cell_type": "code",
   "execution_count": 83,
   "metadata": {
    "colab": {
     "base_uri": "https://localhost:8080/",
     "height": 300
    },
    "colab_type": "code",
    "id": "VoZcoNUom8gD",
    "outputId": "d8b293cf-4efb-470a-8ecd-7399998dc177"
   },
   "outputs": [
    {
     "data": {
      "text/plain": [
       "<matplotlib.legend.Legend at 0x7f5fd5166cc0>"
      ]
     },
     "execution_count": 83,
     "metadata": {
      "tags": []
     },
     "output_type": "execute_result"
    },
    {
     "data": {
      "image/png": "[encoded data removed]",
      "text/plain": [
       "<Figure size 432x288 with 1 Axes>"
      ]
     },
     "metadata": {
      "tags": []
     },
     "output_type": "display_data"
    }
   ],
   "source": [
    "mglearn.discrete_scatter(X[:, 0], X[:, 1], y)\n",
    "line = np.linspace(-15, 15)\n",
    "for coef, intercept, color in zip(linear_svm.coef_, linear_svm.intercept_,mglearn.cm3.colors): \n",
    "  plt.plot(line, -(line * coef[0] + intercept) / coef[1], c=color)\n",
    "plt.ylim(-10, 15)\n",
    "plt.xlim(-10, 8)\n",
    "plt.xlabel(\"Feature 0\")\n",
    "plt.ylabel(\"Feature 1\")\n",
    "plt.legend(['Class 0', 'Class 1', 'Class 2', 'Line class 0', 'Line class 1','Line class 2'], loc=(1.01, 0.3))"
   ]
  },
  {
   "cell_type": "markdown",
   "metadata": {
    "colab_type": "text",
    "id": "6_evJhgunPFI"
   },
   "source": [
    "You can see that all the points belonging to class 0 in the training data are above the line corresponding to class 0, which means they are on the “class 0” side of this binary classifier. The points in class 0 are above the line corresponding to class 2, which means they are classified as “rest” by the binary classifier for class 2. The points belonging to class 0 are to the left of the line corresponding to class 1, which means the binary classifier for class 1 also classifies them as “rest.” Therefore, any point in this area will be classified as class 0 by the final classifier (the result of the classification confidence formula for classifier 0 is greater than zero, while it is smaller than zero for the other two classes).\n",
    "\n",
    "But what about the triangle in the middle of the plot? All three binary classifiers classify points there as “rest.” Which class would a point there be assigned to? The answer is the one with the highest value for the classification formula: the class of the closest line."
   ]
  },
  {
   "cell_type": "code",
   "execution_count": 84,
   "metadata": {
    "colab": {
     "base_uri": "https://localhost:8080/",
     "height": 296
    },
    "colab_type": "code",
    "id": "RIdEKZE2neDo",
    "outputId": "ce17bdd2-4bec-45f6-e97f-37d7c7246cb1"
   },
   "outputs": [
    {
     "name": "stdout",
     "output_type": "stream",
     "text": [
      "ERROR! Session/line number was not unique in database. History logging moved to new session 62\n"
     ]
    },
    {
     "data": {
      "text/plain": [
       "Text(0, 0.5, 'Feature 1')"
      ]
     },
     "execution_count": 84,
     "metadata": {
      "tags": []
     },
     "output_type": "execute_result"
    },
    {
     "data": {
      "image/png": "[encoded data removed]",
      "text/plain": [
       "<Figure size 432x288 with 1 Axes>"
      ]
     },
     "metadata": {
      "tags": []
     },
     "output_type": "display_data"
    }
   ],
   "source": [
    "mglearn.plots.plot_2d_classification(linear_svm, X, fill=True, alpha=.7) \n",
    "mglearn.discrete_scatter(X[:, 0], X[:, 1], y)\n",
    "line = np.linspace(-15, 15)\n",
    "for coef, intercept, color in zip(linear_svm.coef_, linear_svm.intercept_,mglearn.cm3.colors): \n",
    "  plt.plot(line, -(line * coef[0] + intercept) / coef[1], c=color)\n",
    "plt.legend(['Class 0', 'Class 1', 'Class 2', 'Line class 0', 'Line class 1', 'Line class 2'], loc=(1.01, 0.3))\n",
    "plt.xlabel(\"Feature 0\") \n",
    "plt.ylabel(\"Feature 1\")"
   ]
  },
  {
   "cell_type": "markdown",
   "metadata": {
    "colab_type": "text",
    "id": "UH9hn9Nxno16"
   },
   "source": [
    "**Strengths, weakness and parameters Linear models(Classifier and Regressor)**"
   ]
  },
  {
   "cell_type": "markdown",
   "metadata": {
    "colab_type": "text",
    "id": "gNT0MBGwnwuU"
   },
   "source": [
    "The main parameter of linear models is the regularization parameter, called alpha in the regression models and C in LinearSVC and LogisticRegression. Large values for alpha or small values for C mean simple models. In particular for the regression mod‐ els, tuning these parameters is quite important. Usually C and alpha are searched for on a logarithmic scale. The other decision you have to make is whether you want to use L1 regularization or L2 regularization. If you assume that only a few of your fea‐ tures are actually important, you should use L1. Otherwise, you should default to L2. L1 can also be useful if interpretability of the model is important. As L1 will use only a few features, it is easier to explain which features are important to the model, and what the effects of these features are."
   ]
  },
  {
   "cell_type": "markdown",
   "metadata": {
    "colab_type": "text",
    "id": "9zjuMuqen5mt"
   },
   "source": [
    "Linear models are very fast to train, and also fast to predict. They scale to very large datasets and work well with sparse data. If your data consists of hundreds of thou‐ sands or millions of samples, you might want to investigate using the solver='sag' option in LogisticRegression and Ridge, which can be faster than the default on large datasets. Other options are the SGDClassifier class and the SGDRegressor class, which implement even more scalable versions of the linear models described here."
   ]
  },
  {
   "cell_type": "markdown",
   "metadata": {
    "colab_type": "text",
    "id": "JtEu3DZ5oBsS"
   },
   "source": [
    "Linear models often perform well when the number of features is large compared to the number of samples. They are also often used on very large datasets, simply because it’s not feasible to train other models. However, in lowerdimensional spaces, other models might yield better generalization performance."
   ]
  }
 ],
 "metadata": {
  "accelerator": "GPU",
  "colab": {
   "authorship_tag": "ABX9TyObRW+Gvs/qbfYOMBpM4S5N",
   "include_colab_link": true,
   "name": "4.2 - Supervised Learning - Linear Models.ipynb",
   "provenance": []
  },
  "kernelspec": {
   "display_name": "Python 3",
   "language": "python",
   "name": "python3"
  },
  "language_info": {
   "codemirror_mode": {
    "name": "ipython",
    "version": 3
   },
   "file_extension": ".py",
   "mimetype": "text/x-python",
   "name": "python",
   "nbconvert_exporter": "python",
   "pygments_lexer": "ipython3",
   "version": "3.7.4"
  }
 },
 "nbformat": 4,
 "nbformat_minor": 1
}
