{
  "nbformat": 4,
  "nbformat_minor": 0,
  "metadata": {
    "colab": {
      "name": "8 - Algorithm Chains and Pipelines.ipynb",
      "provenance": [],
      "authorship_tag": "ABX9TyNDdI7cfiWXZB0svxcHRoJi",
      "include_colab_link": true
    },
    "kernelspec": {
      "name": "python3",
      "display_name": "Python 3"
    }
  },
  "cells": [
    {
      "cell_type": "markdown",
      "metadata": {
        "id": "view-in-github",
        "colab_type": "text"
      },
      "source": [
        "<a href=\"https://colab.research.google.com/github/chaurasiauttkarsh/Machine-Learning/blob/master/8_Algorithm_Chains_and_Pipelines.ipynb\" target=\"_parent\"><img src=\"https://colab.research.google.com/assets/colab-badge.svg\" alt=\"Open In Colab\"/></a>"
      ]
    },
    {
      "cell_type": "markdown",
      "metadata": {
        "id": "AM3MQnDqEHKI",
        "colab_type": "text"
      },
      "source": [
        "Most machine learning applications require not only the application of a single algorithm, but the chaining together of many different processing steps and machine learning models. We will cover how to use the Pipeline class to simplify the process of building chains of transformations and models. In particular, we will see how we can combine Pipeline and GridSearchCV to search over parameters for all processing steps at once."
      ]
    },
    {
      "cell_type": "markdown",
      "metadata": {
        "id": "pgtnsN0hEh8X",
        "colab_type": "text"
      },
      "source": [
        "As an example of the importance of chaining models, we noticed that we can greatly improve the performance of a kernel SVM on the cancer dataset by using the Min MaxScaler for preprocessing. Here’s code for splitting the data, computing the minimum and maximum, scaling the data, and training the SVM:"
      ]
    },
    {
      "cell_type": "code",
      "metadata": {
        "id": "XcoZp5-hDUsR",
        "colab_type": "code",
        "outputId": "aea764d9-0920-4858-839d-1a76a6e7a165",
        "colab": {
          "base_uri": "https://localhost:8080/",
          "height": 34
        }
      },
      "source": [
        "from sklearn.svm import SVC\n",
        "from sklearn.datasets import load_breast_cancer \n",
        "from sklearn.model_selection import train_test_split \n",
        "from sklearn.preprocessing import MinMaxScaler\n",
        "# load and split the data\n",
        "cancer = load_breast_cancer()\n",
        "X_train, X_test, y_train, y_test = train_test_split(cancer.data, cancer.target, random_state=0)\n",
        "# compute minimum and maximum on the training data\n",
        "scaler = MinMaxScaler().fit(X_train)\n",
        "# rescale the training data\n",
        "X_train_scaled = scaler.transform(X_train)\n",
        "svm = SVC()\n",
        "# learn an SVM on the scaled training data\n",
        "svm.fit(X_train_scaled, y_train)\n",
        "# scale the test data and score the scaled data\n",
        "X_test_scaled = scaler.transform(X_test)\n",
        "print(\"Test score: {:.2f}\".format(svm.score(X_test_scaled, y_test)))"
      ],
      "execution_count": 24,
      "outputs": [
        {
          "output_type": "stream",
          "text": [
            "Test score: 0.97\n"
          ],
          "name": "stdout"
        }
      ]
    },
    {
      "cell_type": "markdown",
      "metadata": {
        "id": "AOi0C8wREGT5",
        "colab_type": "text"
      },
      "source": [
        "**Parameter Selection with Preprocessing**"
      ]
    },
    {
      "cell_type": "code",
      "metadata": {
        "id": "5oUrRlNiF-Ft",
        "colab_type": "code",
        "outputId": "7a63bc77-ef57-48e1-91f5-1aa02f08aa3c",
        "colab": {
          "base_uri": "https://localhost:8080/",
          "height": 68
        }
      },
      "source": [
        "from sklearn.model_selection import GridSearchCV\n",
        "# for illustration purposes only, don't use this code!\n",
        "param_grid = {'C': [0.001, 0.01, 0.1, 1, 10, 100],\n",
        "              'gamma': [0.001, 0.01, 0.1, 1, 10, 100]} \n",
        "grid = GridSearchCV(SVC(), param_grid=param_grid, cv=5)\n",
        "grid.fit(X_train_scaled, y_train)\n",
        "print(\"Best cross-validation accuracy: {:.2f}\".format(grid.best_score_)) \n",
        "print(\"Best parameters: \", grid.best_params_)\n",
        "print(\"Test set accuracy: {:.2f}\".format(grid.score(X_test_scaled, y_test)))"
      ],
      "execution_count": 25,
      "outputs": [
        {
          "output_type": "stream",
          "text": [
            "Best cross-validation accuracy: 0.98\n",
            "Best parameters:  {'C': 1, 'gamma': 1}\n",
            "Test set accuracy: 0.97\n"
          ],
          "name": "stdout"
        }
      ]
    },
    {
      "cell_type": "markdown",
      "metadata": {
        "id": "jYe-VpTSFv1w",
        "colab_type": "text"
      },
      "source": [
        "Here, we ran the grid search over the parameters of SVC using the scaled data. However, there is a subtle catch in what we just did. When scaling the data, we used all the data in the training set to compute the minimum and maximum of the data. We then use the scaled training data to run our grid search using cross-validation. For each split in the cross-validation, some part of the original training set will be declared the training part of the split, and some the test part of the split. The test part is used to measure the performance of a model trained on the training part when applied to new data. However, we already used the information contained in the test part of the split, when scaling the data. Remember that the test part in each split in the cross- validation is part of the training set, and we used the information from the entire training set to find the right scaling of the data. This is fundamentally different from how new data looks to the model. If we observe new data (say, in form of our test set), this data will not have been used to scale the training data, and it might have a different minimum and maximum than the training data."
      ]
    },
    {
      "cell_type": "code",
      "metadata": {
        "id": "faxphS9aVQu5",
        "colab_type": "code",
        "outputId": "6cc28a09-5d50-4920-fc6c-f91d22b8d063",
        "colab": {
          "base_uri": "https://localhost:8080/",
          "height": 292
        }
      },
      "source": [
        "!pip install mglearn\n",
        "import mglearn"
      ],
      "execution_count": 26,
      "outputs": [
        {
          "output_type": "stream",
          "text": [
            "Requirement already satisfied: mglearn in /usr/local/lib/python3.6/dist-packages (0.1.8)\n",
            "Requirement already satisfied: numpy in /usr/local/lib/python3.6/dist-packages (from mglearn) (1.18.4)\n",
            "Requirement already satisfied: matplotlib in /usr/local/lib/python3.6/dist-packages (from mglearn) (3.2.1)\n",
            "Requirement already satisfied: scikit-learn in /usr/local/lib/python3.6/dist-packages (from mglearn) (0.22.2.post1)\n",
            "Requirement already satisfied: imageio in /usr/local/lib/python3.6/dist-packages (from mglearn) (2.4.1)\n",
            "Requirement already satisfied: pandas in /usr/local/lib/python3.6/dist-packages (from mglearn) (1.0.3)\n",
            "Requirement already satisfied: cycler in /usr/local/lib/python3.6/dist-packages (from mglearn) (0.10.0)\n",
            "Requirement already satisfied: pillow in /usr/local/lib/python3.6/dist-packages (from mglearn) (7.0.0)\n",
            "Requirement already satisfied: kiwisolver>=1.0.1 in /usr/local/lib/python3.6/dist-packages (from matplotlib->mglearn) (1.2.0)\n",
            "Requirement already satisfied: python-dateutil>=2.1 in /usr/local/lib/python3.6/dist-packages (from matplotlib->mglearn) (2.8.1)\n",
            "Requirement already satisfied: pyparsing!=2.0.4,!=2.1.2,!=2.1.6,>=2.0.1 in /usr/local/lib/python3.6/dist-packages (from matplotlib->mglearn) (2.4.7)\n",
            "Requirement already satisfied: scipy>=0.17.0 in /usr/local/lib/python3.6/dist-packages (from scikit-learn->mglearn) (1.4.1)\n",
            "Requirement already satisfied: joblib>=0.11 in /usr/local/lib/python3.6/dist-packages (from scikit-learn->mglearn) (0.15.1)\n",
            "Requirement already satisfied: pytz>=2017.2 in /usr/local/lib/python3.6/dist-packages (from pandas->mglearn) (2018.9)\n",
            "Requirement already satisfied: six in /usr/local/lib/python3.6/dist-packages (from cycler->mglearn) (1.12.0)\n"
          ],
          "name": "stdout"
        }
      ]
    },
    {
      "cell_type": "code",
      "metadata": {
        "id": "e50G3VKVWUXZ",
        "colab_type": "code",
        "outputId": "9af9537f-fb17-436d-b138-d99e0e4a825f",
        "colab": {
          "base_uri": "https://localhost:8080/",
          "height": 602
        }
      },
      "source": [
        "mglearn.plots.plot_improper_processing()"
      ],
      "execution_count": 27,
      "outputs": [
        {
          "output_type": "display_data",
          "data": {
            "image/png": "[encoded data removed]",
            "text/plain": [
              "<Figure size 1080x720 with 2 Axes>"
            ]
          },
          "metadata": {
            "tags": []
          }
        }
      ]
    },
    {
      "cell_type": "markdown",
      "metadata": {
        "id": "580RMj3dX6D4",
        "colab_type": "text"
      },
      "source": [
        "So, the splits in the cross-validation no longer correctly mirror how new data will look to the modeling process. We already leaked information from these parts of the data into our modeling process. This will lead to overly optimistic results during cross-validation, and possibly the selection of suboptimal parameters."
      ]
    },
    {
      "cell_type": "markdown",
      "metadata": {
        "id": "7ax_QKkoYFSS",
        "colab_type": "text"
      },
      "source": [
        "To get around this problem, the splitting of the dataset during cross-validation should be done before doing any preprocessing. Any process that extracts knowledge from the dataset should only ever be learned from the training portion of the dataset, and therefore be contained inside the cross-validation loop."
      ]
    },
    {
      "cell_type": "markdown",
      "metadata": {
        "id": "DTHQW3xPYp6Z",
        "colab_type": "text"
      },
      "source": [
        "To achieve this in scikit-learn with the cross_val_score function and the Grid SearchCV function, we can use the Pipeline class. The Pipeline class is a class that allows “gluing” together multiple processing steps into a single scikit-learn estimator. The Pipeline class itself has fit, predict, and score methods and behaves just like any other model in scikit-learn."
      ]
    },
    {
      "cell_type": "markdown",
      "metadata": {
        "id": "duWAG-BoYuBL",
        "colab_type": "text"
      },
      "source": [
        "**Building Pipelines**"
      ]
    },
    {
      "cell_type": "markdown",
      "metadata": {
        "id": "c1rdLvnXYyUA",
        "colab_type": "text"
      },
      "source": [
        "Let’s look at how we can use the Pipeline class to express the workflow for training an SVM after scaling the data with MinMaxScaler (for now without the grid search). First, we build a pipeline object by providing it with a list of steps. Each step is a tuple containing a name (any string of your choosing) and an instance of an estimator:"
      ]
    },
    {
      "cell_type": "code",
      "metadata": {
        "id": "MSvdk9d1fTBA",
        "colab_type": "code",
        "colab": {}
      },
      "source": [
        "from sklearn.pipeline import Pipeline\n",
        "pipe = Pipeline([(\"scaler\", MinMaxScaler()), (\"svm\", SVC())])"
      ],
      "execution_count": 0,
      "outputs": []
    },
    {
      "cell_type": "markdown",
      "metadata": {
        "id": "1ZDMog7Vfkab",
        "colab_type": "text"
      },
      "source": [
        "Here, we created two steps: the first, called \"scaler\", is an instance of MinMaxScaler, and the second, called \"svm\", is an instance of SVC. Now, we can fit the pipeline, like any other scikit-learn estimator:"
      ]
    },
    {
      "cell_type": "code",
      "metadata": {
        "id": "qvXXEetsfmqB",
        "colab_type": "code",
        "outputId": "0eaba87d-1351-46a6-f68e-5615ce40421d",
        "colab": {
          "base_uri": "https://localhost:8080/",
          "height": 170
        }
      },
      "source": [
        "pipe.fit(X_train, y_train)"
      ],
      "execution_count": 29,
      "outputs": [
        {
          "output_type": "execute_result",
          "data": {
            "text/plain": [
              "Pipeline(memory=None,\n",
              "         steps=[('scaler', MinMaxScaler(copy=True, feature_range=(0, 1))),\n",
              "                ('svm',\n",
              "                 SVC(C=1.0, break_ties=False, cache_size=200, class_weight=None,\n",
              "                     coef0=0.0, decision_function_shape='ovr', degree=3,\n",
              "                     gamma='scale', kernel='rbf', max_iter=-1,\n",
              "                     probability=False, random_state=None, shrinking=True,\n",
              "                     tol=0.001, verbose=False))],\n",
              "         verbose=False)"
            ]
          },
          "metadata": {
            "tags": []
          },
          "execution_count": 29
        }
      ]
    },
    {
      "cell_type": "markdown",
      "metadata": {
        "id": "lvaa3vapfuvF",
        "colab_type": "text"
      },
      "source": [
        "Here, pipe.fit first calls fit on the first step (the scaler), then transforms the training data using the scaler, and finally fits the SVM with the scaled data. To evaluate on the test data, we simply call pipe.score:"
      ]
    },
    {
      "cell_type": "code",
      "metadata": {
        "id": "ytTTp1HzfwW3",
        "colab_type": "code",
        "outputId": "c97fd649-e753-45eb-d619-879753fb634b",
        "colab": {
          "base_uri": "https://localhost:8080/",
          "height": 34
        }
      },
      "source": [
        "print(\"Test score: {:.2f}\".format(pipe.score(X_test, y_test)))"
      ],
      "execution_count": 30,
      "outputs": [
        {
          "output_type": "stream",
          "text": [
            "Test score: 0.97\n"
          ],
          "name": "stdout"
        }
      ]
    },
    {
      "cell_type": "markdown",
      "metadata": {
        "id": "younj8COf6ry",
        "colab_type": "text"
      },
      "source": [
        "Calling the score method on the pipeline first transforms the test data using the scaler, and then calls the score method on the SVM using the scaled test data. As you can see, the result is identical to the one we got from the code at the beginning of the chapter, when doing the transformations by hand. Using the pipeline, we reduced the code needed for our “preprocessing + classification” process. The main benefit of using the pipeline, however, is that we can now use this single estimator in cross_val_score or GridSearchCV."
      ]
    },
    {
      "cell_type": "markdown",
      "metadata": {
        "id": "L85XtbclgCD2",
        "colab_type": "text"
      },
      "source": [
        "**Using Pipelines in Grid Searches**"
      ]
    },
    {
      "cell_type": "markdown",
      "metadata": {
        "id": "NORtZDq5gEzE",
        "colab_type": "text"
      },
      "source": [
        "Using a pipeline in a grid search works the same way as using any other estimator. We define a parameter grid to search over, and construct a GridSearchCV from the pipeline and the parameter grid. When specifying the parameter grid, there is a slight change, though. We need to specify for each parameter which step of the pipeline it belongs to. Both parameters that we want to adjust, C and gamma, are parameters of SVC, the second step. We gave this step the name \"svm\". The syntax to define a parameter grid for a pipeline is to specify for each parameter the step name, followed by __ (a double underscore), followed by the parameter name. To search over the C parameter of SVC we therefore have to use \"svm__C\" as the key in the parameter grid dictio‐ nary, and similarly for gamma:"
      ]
    },
    {
      "cell_type": "code",
      "metadata": {
        "id": "eP6-ObbeibnM",
        "colab_type": "code",
        "colab": {}
      },
      "source": [
        "param_grid = {'svm__C': [0.001, 0.01, 0.1, 1, 10, 100],\n",
        "              'svm__gamma': [0.001, 0.01, 0.1, 1, 10, 100]}"
      ],
      "execution_count": 0,
      "outputs": []
    },
    {
      "cell_type": "markdown",
      "metadata": {
        "id": "kdgbrNd-ifk2",
        "colab_type": "text"
      },
      "source": [
        "With this parameter grid we can use GridSearchCV as usual:"
      ]
    },
    {
      "cell_type": "code",
      "metadata": {
        "id": "KiMgq_y_igjE",
        "colab_type": "code",
        "outputId": "1014c9ee-f207-44fd-ce10-95f7bf18d437",
        "colab": {
          "base_uri": "https://localhost:8080/",
          "height": 68
        }
      },
      "source": [
        "grid = GridSearchCV(pipe, param_grid=param_grid, cv=5) \n",
        "grid.fit(X_train, y_train)\n",
        "print(\"Best cross-validation accuracy: {:.2f}\".format(grid.best_score_)) \n",
        "print(\"Test set score: {:.2f}\".format(grid.score(X_test, y_test))) \n",
        "print(\"Best parameters: {}\".format(grid.best_params_))"
      ],
      "execution_count": 32,
      "outputs": [
        {
          "output_type": "stream",
          "text": [
            "Best cross-validation accuracy: 0.98\n",
            "Test set score: 0.97\n",
            "Best parameters: {'svm__C': 1, 'svm__gamma': 1}\n"
          ],
          "name": "stdout"
        }
      ]
    },
    {
      "cell_type": "markdown",
      "metadata": {
        "id": "xiceL2nEiutf",
        "colab_type": "text"
      },
      "source": [
        "In contrast to the grid search we did before, now for each split in the cross-validation, the MinMaxScaler is refit with only the training splits and no information is leaked from the test split into the parameter search."
      ]
    },
    {
      "cell_type": "code",
      "metadata": {
        "id": "TrwPIf_5i5CG",
        "colab_type": "code",
        "outputId": "a020472e-64f7-4b4b-fa34-7814377a9a08",
        "colab": {
          "base_uri": "https://localhost:8080/",
          "height": 493
        }
      },
      "source": [
        "mglearn.plots.plot_proper_processing()"
      ],
      "execution_count": 33,
      "outputs": [
        {
          "output_type": "display_data",
          "data": {
            "image/png": "[encoded data removed]",
            "text/plain": [
              "<Figure size 1080x576 with 2 Axes>"
            ]
          },
          "metadata": {
            "tags": []
          }
        }
      ]
    },
    {
      "cell_type": "markdown",
      "metadata": {
        "id": "nEaJX1STi-Nn",
        "colab_type": "text"
      },
      "source": [
        "The impact of leaking information in the cross-validation varies depending on the nature of the preprocessing step. Estimating the scale of the data using the test fold usually doesn’t have a terrible impact, while using the test fold in feature extraction and feature selection can lead to substantial differences in outcomes."
      ]
    },
    {
      "cell_type": "markdown",
      "metadata": {
        "id": "gocTA615mNYk",
        "colab_type": "text"
      },
      "source": [
        "**The General Pipeline Interface**"
      ]
    },
    {
      "cell_type": "markdown",
      "metadata": {
        "id": "3AnQqgyt5F83",
        "colab_type": "text"
      },
      "source": [
        "The Pipeline class is not restricted to preprocessing and classification, but can in fact join any number of estimators together. For example, you could build a pipeline containing feature extraction, feature selection, scaling, and classification, for a total of four steps. Similarly, the last step could be regression or clustering instead of classification."
      ]
    },
    {
      "cell_type": "markdown",
      "metadata": {
        "id": "0AwV1ecR5aAN",
        "colab_type": "text"
      },
      "source": [
        "The only requirement for estimators in a pipeline is that all but the last step need to have a transform method, so they can produce a new representation of the data that can be used in the next step."
      ]
    },
    {
      "cell_type": "markdown",
      "metadata": {
        "id": "Bl3vPYx15c9i",
        "colab_type": "text"
      },
      "source": [
        "Internally, during the call to Pipeline.fit, the pipeline calls fit and then transform on each step in turn,2 with the input given by the output of the transform method of the previous step. For the last step in the pipeline, just fit is called."
      ]
    },
    {
      "cell_type": "code",
      "metadata": {
        "id": "SJqxX6MYmM1a",
        "colab_type": "code",
        "colab": {}
      },
      "source": [
        "def fit(self, X, y):\n",
        "  X_transformed = X\n",
        "  for name, estimator in self.steps[:-1]:\n",
        "    # iterate over all but the final step\n",
        "    # fit and transform the data\n",
        "    X_transformed = estimator.fit_transform(X_transformed, y)\n",
        "        # fit the last step\n",
        "  self.steps[-1][1].fit(X_transformed, y) \n",
        "  return self"
      ],
      "execution_count": 0,
      "outputs": []
    },
    {
      "cell_type": "code",
      "metadata": {
        "id": "vLE-IUHm6s9j",
        "colab_type": "code",
        "colab": {}
      },
      "source": [
        "def predict(self, X): \n",
        "  X_transformed = X\n",
        "  for step in self.steps[:-1]:\n",
        "    # iterate over all but the final step\n",
        "    # transform the data\n",
        "    X_transformed = step[1].transform(X_transformed)\n",
        "    # predict using the last step\n",
        "  return self.steps[-1][1].predict(X_transformed)"
      ],
      "execution_count": 0,
      "outputs": []
    },
    {
      "cell_type": "markdown",
      "metadata": {
        "id": "YewPxe3C7FxC",
        "colab_type": "text"
      },
      "source": [
        "The pipeline is actually even more general than this. There is no requirement for the last step in a pipeline to have a predict function, and we could create a pipeline just containing, for example, a scaler and PCA. Then, because the last step (PCA) has a transform method, we could call transform on the pipeline to get the output of PCA.transform applied to the data that was processed by the previous step. The last step of a pipeline is only required to have a fit method.\n"
      ]
    },
    {
      "cell_type": "markdown",
      "metadata": {
        "id": "X70V61Er7Vts",
        "colab_type": "text"
      },
      "source": [
        "**Convenient Pipeline Creation with make_pipeline**"
      ]
    },
    {
      "cell_type": "markdown",
      "metadata": {
        "id": "YrSBxYzs7W89",
        "colab_type": "text"
      },
      "source": [
        "Creating a pipeline using the syntax described earlier is sometimes a bit cumbersome, and we often don’t need user-specified names for each step. There is a convenience function, make_pipeline, that will create a pipeline for us and automatically name each step based on its class. The syntax for make_pipeline is as follows:"
      ]
    },
    {
      "cell_type": "code",
      "metadata": {
        "id": "9Ny7s2ui7cVg",
        "colab_type": "code",
        "colab": {}
      },
      "source": [
        "from sklearn.pipeline import make_pipeline\n",
        "# standard syntax\n",
        "pipe_long = Pipeline([(\"scaler\", MinMaxScaler()), (\"svm\", SVC(C=100))]) # abbreviated syntax\n",
        "pipe_short = make_pipeline(MinMaxScaler(), SVC(C=100))"
      ],
      "execution_count": 0,
      "outputs": []
    },
    {
      "cell_type": "markdown",
      "metadata": {
        "id": "MzknMh0z7hWj",
        "colab_type": "text"
      },
      "source": [
        "The pipeline objects pipe_long and pipe_short do exactly the same thing, but pipe_short has steps that were automatically named. We can see the names of the steps by looking at the steps attribute:"
      ]
    },
    {
      "cell_type": "code",
      "metadata": {
        "id": "RUPfXnpt7iFq",
        "colab_type": "code",
        "outputId": "4f265dbb-c0ca-4c08-8387-7316f655628f",
        "colab": {
          "base_uri": "https://localhost:8080/",
          "height": 122
        }
      },
      "source": [
        "print(\"Pipeline steps:\\n{}\".format(pipe_short.steps)) "
      ],
      "execution_count": 37,
      "outputs": [
        {
          "output_type": "stream",
          "text": [
            "Pipeline steps:\n",
            "[('minmaxscaler', MinMaxScaler(copy=True, feature_range=(0, 1))), ('svc', SVC(C=100, break_ties=False, cache_size=200, class_weight=None, coef0=0.0,\n",
            "    decision_function_shape='ovr', degree=3, gamma='scale', kernel='rbf',\n",
            "    max_iter=-1, probability=False, random_state=None, shrinking=True,\n",
            "    tol=0.001, verbose=False))]\n"
          ],
          "name": "stdout"
        }
      ]
    },
    {
      "cell_type": "markdown",
      "metadata": {
        "id": "0u61Rpr27uAW",
        "colab_type": "text"
      },
      "source": [
        "The steps are named minmaxscaler and svc. In general, the step names are just lowercase versions of the class names. If multiple steps have the same class, a number is appended:"
      ]
    },
    {
      "cell_type": "code",
      "metadata": {
        "id": "BjNJM8AQ7wrt",
        "colab_type": "code",
        "outputId": "205d8dc7-504d-4f7c-f740-78419f666aff",
        "colab": {
          "base_uri": "https://localhost:8080/",
          "height": 88
        }
      },
      "source": [
        "from sklearn.preprocessing import StandardScaler \n",
        "from sklearn.decomposition import PCA\n",
        "pipe = make_pipeline(StandardScaler(), PCA(n_components=2), StandardScaler()) \n",
        "print(\"Pipeline steps:\\n{}\".format(pipe.steps))"
      ],
      "execution_count": 38,
      "outputs": [
        {
          "output_type": "stream",
          "text": [
            "Pipeline steps:\n",
            "[('standardscaler-1', StandardScaler(copy=True, with_mean=True, with_std=True)), ('pca', PCA(copy=True, iterated_power='auto', n_components=2, random_state=None,\n",
            "    svd_solver='auto', tol=0.0, whiten=False)), ('standardscaler-2', StandardScaler(copy=True, with_mean=True, with_std=True))]\n"
          ],
          "name": "stdout"
        }
      ]
    },
    {
      "cell_type": "markdown",
      "metadata": {
        "id": "k9hDa6W_8HjS",
        "colab_type": "text"
      },
      "source": [
        "**Accessing Step Attributes**"
      ]
    },
    {
      "cell_type": "markdown",
      "metadata": {
        "id": "jFbGzhAF8Qnx",
        "colab_type": "text"
      },
      "source": [
        "Often you will want to inspect attributes of one of the steps of the pipeline—say, the coefficients of a linear model or the components extracted by PCA. The easiest way to access the steps in a pipeline is via the named_steps attribute, which is a dictionary from the step names to the estimators:"
      ]
    },
    {
      "cell_type": "code",
      "metadata": {
        "id": "fsgHUVaW8Rk7",
        "colab_type": "code",
        "outputId": "d0255d0e-d28d-42f3-c81e-c21efdf170bb",
        "colab": {
          "base_uri": "https://localhost:8080/",
          "height": 34
        }
      },
      "source": [
        "# fit the pipeline defined before to the cancer dataset\n",
        "pipe.fit(cancer.data)\n",
        "# extract the first two principal components from the \"pca\" step \n",
        "components = pipe.named_steps[\"pca\"].components_ \n",
        "print(\"components.shape: {}\".format(components.shape))"
      ],
      "execution_count": 39,
      "outputs": [
        {
          "output_type": "stream",
          "text": [
            "components.shape: (2, 30)\n"
          ],
          "name": "stdout"
        }
      ]
    },
    {
      "cell_type": "markdown",
      "metadata": {
        "id": "YkSuAi-P8w96",
        "colab_type": "text"
      },
      "source": [
        "**Accessing Attributes in a Pipeline inside GridSearchCV**"
      ]
    },
    {
      "cell_type": "markdown",
      "metadata": {
        "id": "u6izLiMqBsMA",
        "colab_type": "text"
      },
      "source": [
        "Let’s grid search a LogisticRegression classifier on the cancer dataset, using Pipeline and StandardScaler to scale the data before passing it to the Logisti cRegression classifier. First we create a pipeline using the make_pipeline function:"
      ]
    },
    {
      "cell_type": "code",
      "metadata": {
        "id": "X__qcv0vaCWC",
        "colab_type": "code",
        "colab": {}
      },
      "source": [
        "from sklearn.linear_model import LogisticRegression\n",
        "pipe = make_pipeline(StandardScaler(), LogisticRegression())"
      ],
      "execution_count": 0,
      "outputs": []
    },
    {
      "cell_type": "markdown",
      "metadata": {
        "id": "qL6aGHx7aIT1",
        "colab_type": "text"
      },
      "source": [
        "Next, we create a parameter grid. The regularization parameter to tune for LogisticRegression is the parameter C. We use a logarithmic grid for this parameter, searching between 0.01 and 100. Because we used the make_pipeline function, the name of the LogisticRegression step in the pipeline is the lowercased class name, logisticregression. To tune the parameter C, we therefore have to specify a parameter grid for logisticregression__C:"
      ]
    },
    {
      "cell_type": "code",
      "metadata": {
        "id": "p5Z8xoZwaSMe",
        "colab_type": "code",
        "colab": {}
      },
      "source": [
        "param_grid = {'logisticregression__C': [0.01, 0.1, 1, 10, 100]}"
      ],
      "execution_count": 0,
      "outputs": []
    },
    {
      "cell_type": "markdown",
      "metadata": {
        "id": "vkJkEtwdaTIl",
        "colab_type": "text"
      },
      "source": [
        "As usual, we split the cancer dataset into training and test sets, and fit a grid search:"
      ]
    },
    {
      "cell_type": "code",
      "metadata": {
        "id": "GOh9EBe1aVgr",
        "colab_type": "code",
        "colab": {
          "base_uri": "https://localhost:8080/",
          "height": 1000
        },
        "outputId": "6f72674f-b860-4ab4-a67d-f6fbb7b002d9"
      },
      "source": [
        "X_train, X_test, y_train, y_test = train_test_split( cancer.data, cancer.target, random_state=4)\n",
        "grid = GridSearchCV(pipe, param_grid, cv=5) \n",
        "grid.fit(X_train, y_train)"
      ],
      "execution_count": 42,
      "outputs": [
        {
          "output_type": "stream",
          "text": [
            "/usr/local/lib/python3.6/dist-packages/sklearn/linear_model/_logistic.py:940: ConvergenceWarning: lbfgs failed to converge (status=1):\n",
            "STOP: TOTAL NO. of ITERATIONS REACHED LIMIT.\n",
            "\n",
            "Increase the number of iterations (max_iter) or scale the data as shown in:\n",
            "    https://scikit-learn.org/stable/modules/preprocessing.html\n",
            "Please also refer to the documentation for alternative solver options:\n",
            "    https://scikit-learn.org/stable/modules/linear_model.html#logistic-regression\n",
            "  extra_warning_msg=_LOGISTIC_SOLVER_CONVERGENCE_MSG)\n",
            "/usr/local/lib/python3.6/dist-packages/sklearn/linear_model/_logistic.py:940: ConvergenceWarning: lbfgs failed to converge (status=1):\n",
            "STOP: TOTAL NO. of ITERATIONS REACHED LIMIT.\n",
            "\n",
            "Increase the number of iterations (max_iter) or scale the data as shown in:\n",
            "    https://scikit-learn.org/stable/modules/preprocessing.html\n",
            "Please also refer to the documentation for alternative solver options:\n",
            "    https://scikit-learn.org/stable/modules/linear_model.html#logistic-regression\n",
            "  extra_warning_msg=_LOGISTIC_SOLVER_CONVERGENCE_MSG)\n",
            "/usr/local/lib/python3.6/dist-packages/sklearn/linear_model/_logistic.py:940: ConvergenceWarning: lbfgs failed to converge (status=1):\n",
            "STOP: TOTAL NO. of ITERATIONS REACHED LIMIT.\n",
            "\n",
            "Increase the number of iterations (max_iter) or scale the data as shown in:\n",
            "    https://scikit-learn.org/stable/modules/preprocessing.html\n",
            "Please also refer to the documentation for alternative solver options:\n",
            "    https://scikit-learn.org/stable/modules/linear_model.html#logistic-regression\n",
            "  extra_warning_msg=_LOGISTIC_SOLVER_CONVERGENCE_MSG)\n",
            "/usr/local/lib/python3.6/dist-packages/sklearn/linear_model/_logistic.py:940: ConvergenceWarning: lbfgs failed to converge (status=1):\n",
            "STOP: TOTAL NO. of ITERATIONS REACHED LIMIT.\n",
            "\n",
            "Increase the number of iterations (max_iter) or scale the data as shown in:\n",
            "    https://scikit-learn.org/stable/modules/preprocessing.html\n",
            "Please also refer to the documentation for alternative solver options:\n",
            "    https://scikit-learn.org/stable/modules/linear_model.html#logistic-regression\n",
            "  extra_warning_msg=_LOGISTIC_SOLVER_CONVERGENCE_MSG)\n",
            "/usr/local/lib/python3.6/dist-packages/sklearn/linear_model/_logistic.py:940: ConvergenceWarning: lbfgs failed to converge (status=1):\n",
            "STOP: TOTAL NO. of ITERATIONS REACHED LIMIT.\n",
            "\n",
            "Increase the number of iterations (max_iter) or scale the data as shown in:\n",
            "    https://scikit-learn.org/stable/modules/preprocessing.html\n",
            "Please also refer to the documentation for alternative solver options:\n",
            "    https://scikit-learn.org/stable/modules/linear_model.html#logistic-regression\n",
            "  extra_warning_msg=_LOGISTIC_SOLVER_CONVERGENCE_MSG)\n"
          ],
          "name": "stderr"
        },
        {
          "output_type": "execute_result",
          "data": {
            "text/plain": [
              "GridSearchCV(cv=5, error_score=nan,\n",
              "             estimator=Pipeline(memory=None,\n",
              "                                steps=[('standardscaler',\n",
              "                                        StandardScaler(copy=True,\n",
              "                                                       with_mean=True,\n",
              "                                                       with_std=True)),\n",
              "                                       ('logisticregression',\n",
              "                                        LogisticRegression(C=1.0,\n",
              "                                                           class_weight=None,\n",
              "                                                           dual=False,\n",
              "                                                           fit_intercept=True,\n",
              "                                                           intercept_scaling=1,\n",
              "                                                           l1_ratio=None,\n",
              "                                                           max_iter=100,\n",
              "                                                           multi_class='auto',\n",
              "                                                           n_jobs=None,\n",
              "                                                           penalty='l2',\n",
              "                                                           random_state=None,\n",
              "                                                           solver='lbfgs',\n",
              "                                                           tol=0.0001,\n",
              "                                                           verbose=0,\n",
              "                                                           warm_start=False))],\n",
              "                                verbose=False),\n",
              "             iid='deprecated', n_jobs=None,\n",
              "             param_grid={'logisticregression__C': [0.01, 0.1, 1, 10, 100]},\n",
              "             pre_dispatch='2*n_jobs', refit=True, return_train_score=False,\n",
              "             scoring=None, verbose=0)"
            ]
          },
          "metadata": {
            "tags": []
          },
          "execution_count": 42
        }
      ]
    },
    {
      "cell_type": "markdown",
      "metadata": {
        "id": "kt6pOQJsahTv",
        "colab_type": "text"
      },
      "source": [
        "We know that the best model found by GridSearchCV, trained on all the training data, is stored in grid.best_estimator_:"
      ]
    },
    {
      "cell_type": "code",
      "metadata": {
        "id": "kCY0X9KyakMs",
        "colab_type": "code",
        "colab": {
          "base_uri": "https://localhost:8080/",
          "height": 238
        },
        "outputId": "f7db55e8-5af8-4f95-d1b7-a5e30ed505db"
      },
      "source": [
        "print(\"Best estimator:\\n{}\".format(grid.best_estimator_))"
      ],
      "execution_count": 43,
      "outputs": [
        {
          "output_type": "stream",
          "text": [
            "Best estimator:\n",
            "Pipeline(memory=None,\n",
            "         steps=[('standardscaler',\n",
            "                 StandardScaler(copy=True, with_mean=True, with_std=True)),\n",
            "                ('logisticregression',\n",
            "                 LogisticRegression(C=1, class_weight=None, dual=False,\n",
            "                                    fit_intercept=True, intercept_scaling=1,\n",
            "                                    l1_ratio=None, max_iter=100,\n",
            "                                    multi_class='auto', n_jobs=None,\n",
            "                                    penalty='l2', random_state=None,\n",
            "                                    solver='lbfgs', tol=0.0001, verbose=0,\n",
            "                                    warm_start=False))],\n",
            "         verbose=False)\n"
          ],
          "name": "stdout"
        }
      ]
    },
    {
      "cell_type": "markdown",
      "metadata": {
        "id": "SfbvE5N6apZf",
        "colab_type": "text"
      },
      "source": [
        "This best_estimator_ in our case is a pipeline with two steps, standardscaler and logisticregression. To access the logisticregression step, we can use the named_steps attribute of the pipeline, as explained earlier:"
      ]
    },
    {
      "cell_type": "code",
      "metadata": {
        "id": "cTllJZAeaqUj",
        "colab_type": "code",
        "colab": {
          "base_uri": "https://localhost:8080/",
          "height": 119
        },
        "outputId": "299596f5-731d-4559-f053-9fdd60dc0875"
      },
      "source": [
        "print(\"Logistic regression step:\\n{}\".format( grid.best_estimator_.named_steps[\"logisticregression\"]))"
      ],
      "execution_count": 44,
      "outputs": [
        {
          "output_type": "stream",
          "text": [
            "Logistic regression step:\n",
            "LogisticRegression(C=1, class_weight=None, dual=False, fit_intercept=True,\n",
            "                   intercept_scaling=1, l1_ratio=None, max_iter=100,\n",
            "                   multi_class='auto', n_jobs=None, penalty='l2',\n",
            "                   random_state=None, solver='lbfgs', tol=0.0001, verbose=0,\n",
            "                   warm_start=False)\n"
          ],
          "name": "stdout"
        }
      ]
    },
    {
      "cell_type": "markdown",
      "metadata": {
        "id": "AHnPD_i5au6k",
        "colab_type": "text"
      },
      "source": [
        "Now that we have the trained LogisticRegression instance, we can access the coefficients (weights) associated with each input feature:"
      ]
    },
    {
      "cell_type": "code",
      "metadata": {
        "id": "skJPHN9iaycl",
        "colab_type": "code",
        "colab": {
          "base_uri": "https://localhost:8080/",
          "height": 119
        },
        "outputId": "12b3d7bd-8dff-4674-f2f0-a1f240f46bf8"
      },
      "source": [
        "print(\"Logistic regression coefficients:\\n{}\".format( grid.best_estimator_.named_steps[\"logisticregression\"].coef_))"
      ],
      "execution_count": 45,
      "outputs": [
        {
          "output_type": "stream",
          "text": [
            "Logistic regression coefficients:\n",
            "[[-0.43570655 -0.34266946 -0.40809443 -0.5344574  -0.14971847  0.61034122\n",
            "  -0.72634347 -0.78538827  0.03886087  0.27497198 -1.29780109  0.04926005\n",
            "  -0.67336941 -0.93447426 -0.13939555  0.45032641 -0.13009864 -0.10144273\n",
            "   0.43432027  0.71596578 -1.09068862 -1.09463976 -0.85183755 -1.06406198\n",
            "  -0.74316099  0.07252425 -0.82323903 -0.65321239 -0.64379499 -0.42026013]]\n"
          ],
          "name": "stdout"
        }
      ]
    },
    {
      "cell_type": "markdown",
      "metadata": {
        "id": "2Kwei_3lfAIG",
        "colab_type": "text"
      },
      "source": [
        "**Grid-Searching Preprocessing Steps and Model\n",
        "Parameters**"
      ]
    },
    {
      "cell_type": "markdown",
      "metadata": {
        "id": "MPkBv6Eefd19",
        "colab_type": "text"
      },
      "source": [
        "We used polynomial features on the boston dataset before applying the ridge regressor. Let’s model that using a pipeline instead. The pipeline contains three steps—scaling the data, computing polynomial features, and ridge regression:"
      ]
    },
    {
      "cell_type": "code",
      "metadata": {
        "id": "JpcfrnrwfvX_",
        "colab_type": "code",
        "colab": {}
      },
      "source": [
        "from sklearn.datasets import load_boston\n",
        "boston = load_boston()\n",
        "X_train, X_test, y_train, y_test = train_test_split(boston.data, boston.target, random_state=0)"
      ],
      "execution_count": 0,
      "outputs": []
    },
    {
      "cell_type": "code",
      "metadata": {
        "id": "YnVlJyR4f1pp",
        "colab_type": "code",
        "colab": {}
      },
      "source": [
        "from sklearn.preprocessing import PolynomialFeatures \n",
        "from sklearn.linear_model import Ridge\n",
        "pipe = make_pipeline(\n",
        "        StandardScaler(),\n",
        "        PolynomialFeatures(),\n",
        "        Ridge())"
      ],
      "execution_count": 0,
      "outputs": []
    },
    {
      "cell_type": "markdown",
      "metadata": {
        "id": "n94TGDpBfu6c",
        "colab_type": "text"
      },
      "source": [
        "Using our pipeline, we can search over the degree parameter together with the parameter alpha of Ridge. To do this, we define a param_grid that contains both, appropriately prefixed by the step names:"
      ]
    },
    {
      "cell_type": "code",
      "metadata": {
        "id": "1klvZZ6lgT8j",
        "colab_type": "code",
        "colab": {}
      },
      "source": [
        "param_grid = {'polynomialfeatures__degree': [1, 2, 3],\n",
        "              'ridge__alpha': [0.001, 0.01, 0.1, 1, 10, 100]}"
      ],
      "execution_count": 0,
      "outputs": []
    },
    {
      "cell_type": "markdown",
      "metadata": {
        "id": "5DAwiKV-gXlf",
        "colab_type": "text"
      },
      "source": [
        "Now we can run our grid search again:"
      ]
    },
    {
      "cell_type": "code",
      "metadata": {
        "id": "emfY2qyngYA6",
        "colab_type": "code",
        "colab": {
          "base_uri": "https://localhost:8080/",
          "height": 408
        },
        "outputId": "9f8c0050-f8e2-4ce2-9c8e-f19b16c68a92"
      },
      "source": [
        "grid = GridSearchCV(pipe, param_grid=param_grid, cv=5, n_jobs=-1) \n",
        "grid.fit(X_train, y_train)"
      ],
      "execution_count": 51,
      "outputs": [
        {
          "output_type": "execute_result",
          "data": {
            "text/plain": [
              "GridSearchCV(cv=5, error_score=nan,\n",
              "             estimator=Pipeline(memory=None,\n",
              "                                steps=[('standardscaler',\n",
              "                                        StandardScaler(copy=True,\n",
              "                                                       with_mean=True,\n",
              "                                                       with_std=True)),\n",
              "                                       ('polynomialfeatures',\n",
              "                                        PolynomialFeatures(degree=2,\n",
              "                                                           include_bias=True,\n",
              "                                                           interaction_only=False,\n",
              "                                                           order='C')),\n",
              "                                       ('ridge',\n",
              "                                        Ridge(alpha=1.0, copy_X=True,\n",
              "                                              fit_intercept=True, max_iter=None,\n",
              "                                              normalize=False,\n",
              "                                              random_state=None, solver='auto',\n",
              "                                              tol=0.001))],\n",
              "                                verbose=False),\n",
              "             iid='deprecated', n_jobs=-1,\n",
              "             param_grid={'polynomialfeatures__degree': [1, 2, 3],\n",
              "                         'ridge__alpha': [0.001, 0.01, 0.1, 1, 10, 100]},\n",
              "             pre_dispatch='2*n_jobs', refit=True, return_train_score=False,\n",
              "             scoring=None, verbose=0)"
            ]
          },
          "metadata": {
            "tags": []
          },
          "execution_count": 51
        }
      ]
    },
    {
      "cell_type": "markdown",
      "metadata": {
        "id": "GZ5N5i87ghve",
        "colab_type": "text"
      },
      "source": [
        "We can visualize the outcome of the cross-validation using a heat map."
      ]
    },
    {
      "cell_type": "code",
      "metadata": {
        "id": "GDUoalO9giuC",
        "colab_type": "code",
        "colab": {
          "base_uri": "https://localhost:8080/",
          "height": 277
        },
        "outputId": "fd3fa749-9866-40f4-ddc7-dc032bfa8d66"
      },
      "source": [
        "import matplotlib.pyplot as plt\n",
        "\n",
        "plt.matshow(grid.cv_results_['mean_test_score'].reshape(3, -1), vmin=0, cmap=\"viridis\")\n",
        "plt.xlabel(\"ridge__alpha\") \n",
        "plt.ylabel(\"polynomialfeatures__degree\")\n",
        "plt.xticks(range(len(param_grid['ridge__alpha'])), param_grid['ridge__alpha']) \n",
        "plt.yticks(range(len(param_grid['polynomialfeatures__degree'])),\n",
        "param_grid['polynomialfeatures__degree']) \n",
        "plt.colorbar()"
      ],
      "execution_count": 53,
      "outputs": [
        {
          "output_type": "execute_result",
          "data": {
            "text/plain": [
              "<matplotlib.colorbar.Colorbar at 0x7f7f93d3e470>"
            ]
          },
          "metadata": {
            "tags": []
          },
          "execution_count": 53
        },
        {
          "output_type": "display_data",
          "data": {
            "image/png": "[encoded data removed]",
            "text/plain": [
              "<Figure size 576x288 with 2 Axes>"
            ]
          },
          "metadata": {
            "tags": [],
            "needs_background": "light"
          }
        }
      ]
    },
    {
      "cell_type": "markdown",
      "metadata": {
        "id": "PUOVpl_KgzQk",
        "colab_type": "text"
      },
      "source": [
        "Looking at the results produced by the cross-validation, we can see that using polyno‐ mials of degree two helps, but that degree-three polynomials are much worse than either degree one or two. This is reflected in the best parameters that were found:"
      ]
    },
    {
      "cell_type": "code",
      "metadata": {
        "id": "5ZWUbDCKgz3m",
        "colab_type": "code",
        "colab": {
          "base_uri": "https://localhost:8080/",
          "height": 34
        },
        "outputId": "750e80d4-67a4-4f49-dc82-320187914f01"
      },
      "source": [
        "print(\"Best parameters: {}\".format(grid.best_params_))"
      ],
      "execution_count": 54,
      "outputs": [
        {
          "output_type": "stream",
          "text": [
            "Best parameters: {'polynomialfeatures__degree': 2, 'ridge__alpha': 10}\n"
          ],
          "name": "stdout"
        }
      ]
    },
    {
      "cell_type": "markdown",
      "metadata": {
        "id": "FjcjexXWg3Rl",
        "colab_type": "text"
      },
      "source": [
        "Which lead to the following score:"
      ]
    },
    {
      "cell_type": "code",
      "metadata": {
        "id": "swH5UJsBg32g",
        "colab_type": "code",
        "colab": {
          "base_uri": "https://localhost:8080/",
          "height": 34
        },
        "outputId": "7332db64-4dc6-44b2-ed8b-b827cb498dfb"
      },
      "source": [
        "print(\"Test-set score: {:.2f}\".format(grid.score(X_test, y_test)))"
      ],
      "execution_count": 55,
      "outputs": [
        {
          "output_type": "stream",
          "text": [
            "Test-set score: 0.77\n"
          ],
          "name": "stdout"
        }
      ]
    },
    {
      "cell_type": "markdown",
      "metadata": {
        "id": "-bFRNjKeg7sL",
        "colab_type": "text"
      },
      "source": [
        "Let’s run a grid search without polynomial features for comparison:"
      ]
    },
    {
      "cell_type": "code",
      "metadata": {
        "id": "5hk8M_T2g9y5",
        "colab_type": "code",
        "colab": {
          "base_uri": "https://localhost:8080/",
          "height": 34
        },
        "outputId": "9f764929-1739-4848-e791-790cb843c159"
      },
      "source": [
        "param_grid = {'ridge__alpha': [0.001, 0.01, 0.1, 1, 10, 100]} \n",
        "pipe = make_pipeline(StandardScaler(), Ridge())\n",
        "grid = GridSearchCV(pipe, param_grid, cv=5) \n",
        "grid.fit(X_train, y_train)\n",
        "print(\"Score without poly features: {:.2f}\".format(grid.score(X_test, y_test)))"
      ],
      "execution_count": 56,
      "outputs": [
        {
          "output_type": "stream",
          "text": [
            "Score without poly features: 0.63\n"
          ],
          "name": "stdout"
        }
      ]
    }
  ]
}