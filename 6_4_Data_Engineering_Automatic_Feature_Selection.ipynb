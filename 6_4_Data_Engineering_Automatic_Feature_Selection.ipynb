{
  "nbformat": 4,
  "nbformat_minor": 0,
  "metadata": {
    "colab": {
      "name": "6.4 - Data Engineering - Automatic Feature Selection.ipynb",
      "provenance": [],
      "authorship_tag": "ABX9TyPdK6Yv57Wdtl63YXKS4VGz",
      "include_colab_link": true
    },
    "kernelspec": {
      "name": "python3",
      "display_name": "Python 3"
    }
  },
  "cells": [
    {
      "cell_type": "markdown",
      "metadata": {
        "id": "view-in-github",
        "colab_type": "text"
      },
      "source": [
        "<a href=\"https://colab.research.google.com/github/chaurasiauttkarsh/Machine-Learning/blob/master/6_4_Data_Engineering_Automatic_Feature_Selection.ipynb\" target=\"_parent\"><img src=\"https://colab.research.google.com/assets/colab-badge.svg\" alt=\"Open In Colab\"/></a>"
      ]
    },
    {
      "cell_type": "markdown",
      "metadata": {
        "id": "b8UdFRHSHvYo",
        "colab_type": "text"
      },
      "source": [
        "With so many ways to create new features, you might get tempted to increase the dimensionality of the data way beyond the number of original features. However, adding more features makes all models more complex, and so increases the chance of overfitting. When adding new features, or with high-dimensional datasets in general, it can be a good idea to reduce the number of features to only the most useful ones, and discard the rest. This can lead to simpler models that generalize better. But how can you know how good each feature is? There are three basic strategies: univariate statistics, model-based selection, and iterative selection. We will discuss all three of them in detail. All of these methods are supervised methods, meaning they need the target for fitting the model. This means we need to split the data into training and test sets, and fit the feature selection only on the training part of the data."
      ]
    },
    {
      "cell_type": "markdown",
      "metadata": {
        "id": "Azi5EKoxH9mw",
        "colab_type": "text"
      },
      "source": [
        "**Univariate Statistics**"
      ]
    },
    {
      "cell_type": "markdown",
      "metadata": {
        "id": "Dm7-waP2IAyZ",
        "colab_type": "text"
      },
      "source": [
        "In univariate statistics, we compute whether there is a statistically significant relationship between each feature and the target. In the case of classification, this is also known as analysis of variance (ANOVA). A key property of these tests is that they are univariate, meaning that they only consider each feature individually. Consequently, a feature will be discarded if it is only informative when combined with another feature. Univariate tests are often very fast to compute, and don’t require building a model. On the other hand, they are completely independent of the model that you might want to apply after the feature selection."
      ]
    },
    {
      "cell_type": "markdown",
      "metadata": {
        "id": "QQaUYvS9KY9r",
        "colab_type": "text"
      },
      "source": [
        "To use univariate feature selection in scikit-learn, you need to choose a test, usually either f_classif (the default) for classification or f_regression for regression, and a method to discard features based on the p-values determined in the test. "
      ]
    },
    {
      "cell_type": "markdown",
      "metadata": {
        "id": "u7jBcwi3K1cE",
        "colab_type": "text"
      },
      "source": [
        "All methods for discarding parameters use a threshold to discard all features with too high a p-value (which means they are unlikely to be related to the target). The methods differ in how they compute this threshold, with the simplest ones being SelectKBest, which selects a fixed number k of features, and SelectPercentile, which selects a fixed percentage of features."
      ]
    },
    {
      "cell_type": "markdown",
      "metadata": {
        "id": "8gCy_dD6K_q7",
        "colab_type": "text"
      },
      "source": [
        "Let’s apply the feature selection for classification on the cancer dataset. To make the task a bit harder, we’ll add some noninformative noise features to the data. We expect the feature selection to be able to identify the features that are noninformative and remove them:"
      ]
    },
    {
      "cell_type": "code",
      "metadata": {
        "id": "1ag3oTxwFJm1",
        "colab_type": "code",
        "colab": {
          "base_uri": "https://localhost:8080/",
          "height": 51
        },
        "outputId": "d2c08db4-92c3-443e-b9f9-f2b0bbeb4c6b"
      },
      "source": [
        "import numpy as np\n",
        "\n",
        "from sklearn.datasets import load_breast_cancer\n",
        "from sklearn.feature_selection import SelectPercentile \n",
        "from sklearn.model_selection import train_test_split\n",
        "\n",
        "cancer = load_breast_cancer()\n",
        "\n",
        "# get deterministic random numbers\n",
        "rng = np.random.RandomState(42)\n",
        "noise = rng.normal(size=(len(cancer.data), 50))\n",
        "# add noise features to the data\n",
        "# the first 30 features are from the dataset, the next 50 are noise \n",
        "X_w_noise = np.hstack([cancer.data, noise])\n",
        "X_train, X_test, y_train, y_test = train_test_split( X_w_noise, cancer.target, random_state=0, test_size=.5)\n",
        "# use f_classif (the default) and SelectPercentile to select 50% of features\n",
        "select = SelectPercentile(percentile=50) \n",
        "select.fit(X_train, y_train)\n",
        "# transform training set\n",
        "X_train_selected = select.transform(X_train)\n",
        "print(\"X_train.shape: {}\".format(X_train.shape)) \n",
        "print(\"X_train_selected.shape: {}\".format(X_train_selected.shape))\n"
      ],
      "execution_count": 2,
      "outputs": [
        {
          "output_type": "stream",
          "text": [
            "X_train.shape: (284, 80)\n",
            "X_train_selected.shape: (284, 40)\n"
          ],
          "name": "stdout"
        }
      ]
    },
    {
      "cell_type": "markdown",
      "metadata": {
        "id": "PA1aU8_PL3-g",
        "colab_type": "text"
      },
      "source": [
        "As you can see, the number of features was reduced from 80 to 40 (50 percent of the original number of features). We can find out which features have been selected using the get_support method, which returns a Boolean mask of the selected features."
      ]
    },
    {
      "cell_type": "code",
      "metadata": {
        "id": "waTavLIaL6sp",
        "colab_type": "code",
        "colab": {
          "base_uri": "https://localhost:8080/",
          "height": 209
        },
        "outputId": "4dbae066-7293-4e73-e11a-6ce1f98773de"
      },
      "source": [
        "import matplotlib.pyplot as plt\n",
        "mask = select.get_support()\n",
        "print(mask)\n",
        "# visualize the mask -- black is True, white is False \n",
        "plt.matshow(mask.reshape(1, -1), cmap='gray_r') \n",
        "plt.xlabel(\"Sample index\")\n",
        "plt.yticks(())"
      ],
      "execution_count": 4,
      "outputs": [
        {
          "output_type": "stream",
          "text": [
            "[ True  True  True  True  True  True  True  True  True False  True False\n",
            "  True  True  True  True  True  True False False  True  True  True  True\n",
            "  True  True  True  True  True  True False False False  True False  True\n",
            " False False  True False False False False  True False False  True False\n",
            " False  True False  True False False False False False False  True False\n",
            "  True False False False False  True False  True False False False False\n",
            "  True  True False  True False False False False]\n"
          ],
          "name": "stdout"
        },
        {
          "output_type": "execute_result",
          "data": {
            "text/plain": [
              "([], <a list of 0 Text major ticklabel objects>)"
            ]
          },
          "metadata": {
            "tags": []
          },
          "execution_count": 4
        },
        {
          "output_type": "display_data",
          "data": {
            "image/png": "[encoded data removed]",
            "text/plain": [
              "<Figure size 1152x144 with 1 Axes>"
            ]
          },
          "metadata": {
            "tags": [],
            "needs_background": "light"
          }
        }
      ]
    },
    {
      "cell_type": "markdown",
      "metadata": {
        "id": "45FIn_sCMPrT",
        "colab_type": "text"
      },
      "source": [
        "As you can see from the visualization of the mask, most of the selected features are the original features, and most of the noise features were removed. However, the recovery of the original features is not perfect. Let’s compare the performance of logistic regression on all features against the performance using only the selected features:"
      ]
    },
    {
      "cell_type": "code",
      "metadata": {
        "id": "hKWoEBu1MSNU",
        "colab_type": "code",
        "colab": {
          "base_uri": "https://localhost:8080/",
          "height": 323
        },
        "outputId": "47fb1a18-610b-4637-812b-3b9a6a138070"
      },
      "source": [
        "from sklearn.linear_model import LogisticRegression \n",
        "# transform test data\n",
        "X_test_selected = select.transform(X_test)\n",
        "lr = LogisticRegression()\n",
        "lr.fit(X_train, y_train)\n",
        "print(\"Score with all features: {:.3f}\".format(lr.score(X_test, y_test))) \n",
        "lr.fit(X_train_selected, y_train)\n",
        "print(\"Score with only selected features: {:.3f}\".format(lr.score(X_test_selected, y_test)))"
      ],
      "execution_count": 5,
      "outputs": [
        {
          "output_type": "stream",
          "text": [
            "Score with all features: 0.916\n",
            "Score with only selected features: 0.919\n"
          ],
          "name": "stdout"
        },
        {
          "output_type": "stream",
          "text": [
            "/usr/local/lib/python3.6/dist-packages/sklearn/linear_model/_logistic.py:940: ConvergenceWarning: lbfgs failed to converge (status=1):\n",
            "STOP: TOTAL NO. of ITERATIONS REACHED LIMIT.\n",
            "\n",
            "Increase the number of iterations (max_iter) or scale the data as shown in:\n",
            "    https://scikit-learn.org/stable/modules/preprocessing.html\n",
            "Please also refer to the documentation for alternative solver options:\n",
            "    https://scikit-learn.org/stable/modules/linear_model.html#logistic-regression\n",
            "  extra_warning_msg=_LOGISTIC_SOLVER_CONVERGENCE_MSG)\n",
            "/usr/local/lib/python3.6/dist-packages/sklearn/linear_model/_logistic.py:940: ConvergenceWarning: lbfgs failed to converge (status=1):\n",
            "STOP: TOTAL NO. of ITERATIONS REACHED LIMIT.\n",
            "\n",
            "Increase the number of iterations (max_iter) or scale the data as shown in:\n",
            "    https://scikit-learn.org/stable/modules/preprocessing.html\n",
            "Please also refer to the documentation for alternative solver options:\n",
            "    https://scikit-learn.org/stable/modules/linear_model.html#logistic-regression\n",
            "  extra_warning_msg=_LOGISTIC_SOLVER_CONVERGENCE_MSG)\n"
          ],
          "name": "stderr"
        }
      ]
    },
    {
      "cell_type": "markdown",
      "metadata": {
        "id": "5Dx_NCaQMheU",
        "colab_type": "text"
      },
      "source": [
        "Univariate feature selection can still be very helpful, though, if there is such a large number of features that building a model on them is infeasible, or if you suspect that many features are completely uninformative."
      ]
    },
    {
      "cell_type": "markdown",
      "metadata": {
        "id": "NVDEPLMDMk1S",
        "colab_type": "text"
      },
      "source": [
        "**Model Based Feature selection**"
      ]
    },
    {
      "cell_type": "markdown",
      "metadata": {
        "id": "UoOuCl3gOg2b",
        "colab_type": "text"
      },
      "source": [
        "Model-based feature selection uses a supervised machine learning model to judge the importance of each feature, and keeps only the most important ones. The supervised model that is used for feature selection doesn’t need to be the same model that is used for the final supervised modeling. The feature selection model needs to provide some measure of importance for each feature, so that they can be ranked by this measure. Decision trees and decision tree–based models provide a feature_importance_ attribute, which directly encodes the importance of each feature. "
      ]
    },
    {
      "cell_type": "markdown",
      "metadata": {
        "id": "W8eLzfhXQE4T",
        "colab_type": "text"
      },
      "source": [
        "Linear models have coefficients, which can also be used to capture feature importances by considering the absolute values. As we saw in linear models with L1 penalty learn sparse coefficients, which only use a small subset of features. This can be viewed as a form of feature selection for the model itself, but can also be used as a preprocessing step to select features for another model. In contrast to univariate selection, model-based selection considers all features at once, and so can capture interactions (if the model can capture them). To use model-based feature selection, we need to use the SelectFromModel transformer:"
      ]
    },
    {
      "cell_type": "code",
      "metadata": {
        "id": "IXZmVEQSQNkL",
        "colab_type": "code",
        "colab": {}
      },
      "source": [
        "from sklearn.feature_selection import SelectFromModel \n",
        "from sklearn.ensemble import RandomForestClassifier \n",
        "select = SelectFromModel(RandomForestClassifier(n_estimators=100, random_state=42), threshold=\"median\")"
      ],
      "execution_count": 0,
      "outputs": []
    },
    {
      "cell_type": "markdown",
      "metadata": {
        "id": "jFdsML04Qa6S",
        "colab_type": "text"
      },
      "source": [
        "The SelectFromModel class selects all features that have an importance measure of the feature (as provided by the supervised model) greater than the provided threshold. To get a comparable result to what we got with univariate feature selection, we used the median as a threshold, so that half of the features will be selected. We use a random forest classifier with 100 trees to compute the feature importances. This is a quite complex model and much more powerful than using univariate tests. Now let’s actually fit the model:\n"
      ]
    },
    {
      "cell_type": "code",
      "metadata": {
        "id": "y9cjkihjQhgL",
        "colab_type": "code",
        "colab": {
          "base_uri": "https://localhost:8080/",
          "height": 51
        },
        "outputId": "2db35230-cffb-4819-e961-ac50eb3082fe"
      },
      "source": [
        "select.fit(X_train, y_train)\n",
        "X_train_l1 = select.transform(X_train) \n",
        "print(\"X_train.shape: {}\".format(X_train.shape)) \n",
        "print(\"X_train_l1.shape: {}\".format(X_train_l1.shape))"
      ],
      "execution_count": 7,
      "outputs": [
        {
          "output_type": "stream",
          "text": [
            "X_train.shape: (284, 80)\n",
            "X_train_l1.shape: (284, 40)\n"
          ],
          "name": "stdout"
        }
      ]
    },
    {
      "cell_type": "markdown",
      "metadata": {
        "id": "JDGlZ98uQo4d",
        "colab_type": "text"
      },
      "source": [
        "Again, we can have a look at the features that were selected."
      ]
    },
    {
      "cell_type": "code",
      "metadata": {
        "id": "T-IJRQq1Qq9R",
        "colab_type": "code",
        "colab": {
          "base_uri": "https://localhost:8080/",
          "height": 90
        },
        "outputId": "56c1112d-7083-4a3d-e91a-bfddcc54a0b6"
      },
      "source": [
        "mask = select.get_support()\n",
        "# visualize the mask -- black is True, white is False \n",
        "plt.matshow(mask.reshape(1, -1), cmap='gray_r') \n",
        "plt.xlabel(\"Sample index\")\n",
        "plt.yticks(())"
      ],
      "execution_count": 8,
      "outputs": [
        {
          "output_type": "execute_result",
          "data": {
            "text/plain": [
              "([], <a list of 0 Text major ticklabel objects>)"
            ]
          },
          "metadata": {
            "tags": []
          },
          "execution_count": 8
        },
        {
          "output_type": "display_data",
          "data": {
            "image/png": "[encoded data removed]",
            "text/plain": [
              "<Figure size 1152x144 with 1 Axes>"
            ]
          },
          "metadata": {
            "tags": [],
            "needs_background": "light"
          }
        }
      ]
    },
    {
      "cell_type": "markdown",
      "metadata": {
        "id": "S44L-kIRQ2i7",
        "colab_type": "text"
      },
      "source": [
        "This time, all but two of the original features were selected. Because we specified to select 40 features, some of the noise features are also selected. Let’s take a look at the performance:"
      ]
    },
    {
      "cell_type": "code",
      "metadata": {
        "id": "q5bDL3MuQ4Wv",
        "colab_type": "code",
        "colab": {
          "base_uri": "https://localhost:8080/",
          "height": 170
        },
        "outputId": "86cea501-5895-42e4-c1ff-35bca87b47f1"
      },
      "source": [
        "X_test_l1 = select.transform(X_test)\n",
        "score = LogisticRegression().fit(X_train_l1, y_train).score(X_test_l1, y_test) \n",
        "print(\"Test score: {:.3f}\".format(score))"
      ],
      "execution_count": 9,
      "outputs": [
        {
          "output_type": "stream",
          "text": [
            "Test score: 0.930\n"
          ],
          "name": "stdout"
        },
        {
          "output_type": "stream",
          "text": [
            "/usr/local/lib/python3.6/dist-packages/sklearn/linear_model/_logistic.py:940: ConvergenceWarning: lbfgs failed to converge (status=1):\n",
            "STOP: TOTAL NO. of ITERATIONS REACHED LIMIT.\n",
            "\n",
            "Increase the number of iterations (max_iter) or scale the data as shown in:\n",
            "    https://scikit-learn.org/stable/modules/preprocessing.html\n",
            "Please also refer to the documentation for alternative solver options:\n",
            "    https://scikit-learn.org/stable/modules/linear_model.html#logistic-regression\n",
            "  extra_warning_msg=_LOGISTIC_SOLVER_CONVERGENCE_MSG)\n"
          ],
          "name": "stderr"
        }
      ]
    },
    {
      "cell_type": "markdown",
      "metadata": {
        "id": "DNYebbkoQ9bO",
        "colab_type": "text"
      },
      "source": [
        "**Iterative Feature Selection**"
      ]
    },
    {
      "cell_type": "markdown",
      "metadata": {
        "id": "O3xe_5nlRBvg",
        "colab_type": "text"
      },
      "source": [
        "In iterative feature selection, a series of models are built, with varying numbers of features. There are two basic methods: starting with no features and adding features one by one until some stopping criterion is reached, or starting with all features and removing features one by one until some stopping criterion is reached. Because a series of models are built, these methods are much more computationally expensive than the methods we discussed previously. "
      ]
    },
    {
      "cell_type": "markdown",
      "metadata": {
        "id": "J5O2h0A3Rs7A",
        "colab_type": "text"
      },
      "source": [
        "One particular method of this kind is recursive feature elimination (RFE), which starts with all features, builds a model, and discards the least important feature according to the model. Then a new model is built using all but the discarded feature, and so on until only a prespecified number of features are left. For this to work, the model used for selection needs to provide some way to determine feature importance, as was the case for the model-based selection. Here, we use the same random forest model that we used earlier,"
      ]
    },
    {
      "cell_type": "code",
      "metadata": {
        "id": "ChMzNhpRSKv6",
        "colab_type": "code",
        "colab": {
          "base_uri": "https://localhost:8080/",
          "height": 90
        },
        "outputId": "cee95b6a-9d6a-46a2-85af-168db06abcd4"
      },
      "source": [
        "from sklearn.feature_selection import RFE\n",
        "select = RFE(RandomForestClassifier(n_estimators=100, random_state=42),n_features_to_select=40)\n",
        "select.fit(X_train, y_train)\n",
        "# visualize the selected features:\n",
        "mask = select.get_support() \n",
        "plt.matshow(mask.reshape(1, -1), cmap='gray_r') \n",
        "plt.xlabel(\"Sample index\")\n",
        "plt.yticks(())"
      ],
      "execution_count": 10,
      "outputs": [
        {
          "output_type": "execute_result",
          "data": {
            "text/plain": [
              "([], <a list of 0 Text major ticklabel objects>)"
            ]
          },
          "metadata": {
            "tags": []
          },
          "execution_count": 10
        },
        {
          "output_type": "display_data",
          "data": {
            "image/png": "[encoded data removed]",
            "text/plain": [
              "<Figure size 1152x144 with 1 Axes>"
            ]
          },
          "metadata": {
            "tags": [],
            "needs_background": "light"
          }
        }
      ]
    },
    {
      "cell_type": "markdown",
      "metadata": {
        "id": "OlUimsQ7SZ3g",
        "colab_type": "text"
      },
      "source": [
        "The feature selection got better compared to the univariate and model-based selection, but one feature was still missed. Running this code also takes significantly longer than that for the model-based selection, because a random forest model is trained 40 times, once for each feature that is dropped. Let’s test the accuracy of the logistic regression model when using RFE for feature selection:"
      ]
    },
    {
      "cell_type": "code",
      "metadata": {
        "id": "boB5x5bbU2_i",
        "colab_type": "code",
        "colab": {
          "base_uri": "https://localhost:8080/",
          "height": 170
        },
        "outputId": "ce826fbe-08d6-4b75-fe76-9e8fec1e2091"
      },
      "source": [
        "X_train_rfe = select.transform(X_train) \n",
        "X_test_rfe = select.transform(X_test)\n",
        "score = LogisticRegression().fit(X_train_rfe, y_train).score(X_test_rfe, y_test) \n",
        "print(\"Test score: {:.3f}\".format(score))\n"
      ],
      "execution_count": 11,
      "outputs": [
        {
          "output_type": "stream",
          "text": [
            "Test score: 0.930\n"
          ],
          "name": "stdout"
        },
        {
          "output_type": "stream",
          "text": [
            "/usr/local/lib/python3.6/dist-packages/sklearn/linear_model/_logistic.py:940: ConvergenceWarning: lbfgs failed to converge (status=1):\n",
            "STOP: TOTAL NO. of ITERATIONS REACHED LIMIT.\n",
            "\n",
            "Increase the number of iterations (max_iter) or scale the data as shown in:\n",
            "    https://scikit-learn.org/stable/modules/preprocessing.html\n",
            "Please also refer to the documentation for alternative solver options:\n",
            "    https://scikit-learn.org/stable/modules/linear_model.html#logistic-regression\n",
            "  extra_warning_msg=_LOGISTIC_SOLVER_CONVERGENCE_MSG)\n"
          ],
          "name": "stderr"
        }
      ]
    },
    {
      "cell_type": "markdown",
      "metadata": {
        "id": "e3zsi7aEU2Y3",
        "colab_type": "text"
      },
      "source": [
        "We can also use the model used inside the RFE to make predictions. This uses only the feature set that was selected:\n"
      ]
    },
    {
      "cell_type": "code",
      "metadata": {
        "id": "Ohexh3RiVBKp",
        "colab_type": "code",
        "colab": {
          "base_uri": "https://localhost:8080/",
          "height": 34
        },
        "outputId": "181429c3-01df-46a4-d2d2-85a2ae8f4a2f"
      },
      "source": [
        "print(\"Test score: {:.3f}\".format(select.score(X_test, y_test)))"
      ],
      "execution_count": 12,
      "outputs": [
        {
          "output_type": "stream",
          "text": [
            "Test score: 0.951\n"
          ],
          "name": "stdout"
        }
      ]
    },
    {
      "cell_type": "markdown",
      "metadata": {
        "id": "wde4WHfQVNNm",
        "colab_type": "text"
      },
      "source": [
        "If you are unsure when selecting what to use as input to your machine learning algo‐ rithms, automatic feature selection can be quite helpful. It is also great for reducing the amount of features needed—for example, to speed up prediction or to allow for more interpretable models. In most real-world cases, applying feature selection is unlikely to provide large gains in performance. However, it is still a valuable tool in the toolbox of the feature engineer."
      ]
    }
  ]
}