{
  "nbformat": 4,
  "nbformat_minor": 0,
  "metadata": {
    "colab": {
      "name": "4.1 - Supervised Learning - kNearestNeighbors.ipynb",
      "provenance": [],
      "authorship_tag": "ABX9TyNQbkt5d91KhIj2c22kwRck",
      "include_colab_link": true
    },
    "kernelspec": {
      "name": "python3",
      "display_name": "Python 3"
    }
  },
  "cells": [
    {
      "cell_type": "markdown",
      "metadata": {
        "id": "view-in-github",
        "colab_type": "text"
      },
      "source": [
        "<a href=\"https://colab.research.google.com/github/chaurasiauttkarsh/Machine-Learning/blob/master/4_1_Supervised_Learning_kNearestNeighbors.ipynb\" target=\"_parent\"><img src=\"https://colab.research.google.com/assets/colab-badge.svg\" alt=\"Open In Colab\"/></a>"
      ]
    },
    {
      "cell_type": "markdown",
      "metadata": {
        "id": "wyV5RhZGPSKP",
        "colab_type": "text"
      },
      "source": [
        "**k-Nearest Neighbors**"
      ]
    },
    {
      "cell_type": "markdown",
      "metadata": {
        "id": "iSr6D8dCVvtP",
        "colab_type": "text"
      },
      "source": [
        "The k-NN algorithm is arguably the simplest machine learning algorithm. Building the model consists only of storing the training dataset. To make a prediction for a new data point, the algorithm finds the closest data points in the training dataset—its “nearest neighbors.”"
      ]
    },
    {
      "cell_type": "markdown",
      "metadata": {
        "id": "4ZEwGwFqV0mY",
        "colab_type": "text"
      },
      "source": [
        "**k-Neighbors classification**"
      ]
    },
    {
      "cell_type": "markdown",
      "metadata": {
        "id": "DoBiy_xlWITg",
        "colab_type": "text"
      },
      "source": [
        "In its simplest version, the k-NN algorithm only considers exactly one nearest neigh‐ bor, which is the closest training data point to the point we want to make a prediction for. The prediction is then simply the known output for this training point. Figure illustrates this for the case of classification on the forge dataset:"
      ]
    },
    {
      "cell_type": "code",
      "metadata": {
        "id": "6MNc7wS8OO6H",
        "colab_type": "code",
        "colab": {
          "base_uri": "https://localhost:8080/",
          "height": 289
        },
        "outputId": "c65c25fd-4449-4ff9-c457-6dfe56bb814f"
      },
      "source": [
        "!pip install mglearn"
      ],
      "execution_count": 1,
      "outputs": [
        {
          "output_type": "stream",
          "text": [
            "Requirement already satisfied: mglearn in /usr/local/lib/python3.6/dist-packages (0.1.7)\n",
            "Requirement already satisfied: scikit-learn in /usr/local/lib/python3.6/dist-packages (from mglearn) (0.22.2.post1)\n",
            "Requirement already satisfied: cycler in /usr/local/lib/python3.6/dist-packages (from mglearn) (0.10.0)\n",
            "Requirement already satisfied: numpy in /usr/local/lib/python3.6/dist-packages (from mglearn) (1.18.2)\n",
            "Requirement already satisfied: pandas in /usr/local/lib/python3.6/dist-packages (from mglearn) (0.25.3)\n",
            "Requirement already satisfied: pillow in /usr/local/lib/python3.6/dist-packages (from mglearn) (7.0.0)\n",
            "Requirement already satisfied: imageio in /usr/local/lib/python3.6/dist-packages (from mglearn) (2.4.1)\n",
            "Requirement already satisfied: matplotlib in /usr/local/lib/python3.6/dist-packages (from mglearn) (3.2.1)\n",
            "Requirement already satisfied: scipy>=0.17.0 in /usr/local/lib/python3.6/dist-packages (from scikit-learn->mglearn) (1.4.1)\n",
            "Requirement already satisfied: joblib>=0.11 in /usr/local/lib/python3.6/dist-packages (from scikit-learn->mglearn) (0.14.1)\n",
            "Requirement already satisfied: six in /usr/local/lib/python3.6/dist-packages (from cycler->mglearn) (1.12.0)\n",
            "Requirement already satisfied: python-dateutil>=2.6.1 in /usr/local/lib/python3.6/dist-packages (from pandas->mglearn) (2.8.1)\n",
            "Requirement already satisfied: pytz>=2017.2 in /usr/local/lib/python3.6/dist-packages (from pandas->mglearn) (2018.9)\n",
            "Requirement already satisfied: pyparsing!=2.0.4,!=2.1.2,!=2.1.6,>=2.0.1 in /usr/local/lib/python3.6/dist-packages (from matplotlib->mglearn) (2.4.6)\n",
            "Requirement already satisfied: kiwisolver>=1.0.1 in /usr/local/lib/python3.6/dist-packages (from matplotlib->mglearn) (1.1.0)\n",
            "Requirement already satisfied: setuptools in /usr/local/lib/python3.6/dist-packages (from kiwisolver>=1.0.1->matplotlib->mglearn) (46.0.0)\n"
          ],
          "name": "stdout"
        }
      ]
    },
    {
      "cell_type": "code",
      "metadata": {
        "id": "QahC263GWO3m",
        "colab_type": "code",
        "colab": {
          "base_uri": "https://localhost:8080/",
          "height": 387
        },
        "outputId": "9eb0d785-0ffb-4108-cd05-e9fc73892fc1"
      },
      "source": [
        "import mglearn\n",
        "mglearn.plots.plot_knn_classification(n_neighbors=1)"
      ],
      "execution_count": 2,
      "outputs": [
        {
          "output_type": "stream",
          "text": [
            "/usr/local/lib/python3.6/dist-packages/sklearn/externals/six.py:31: FutureWarning: The module is deprecated in version 0.21 and will be removed in version 0.23 since we've dropped support for Python 2.7. Please rely on the official version of six (https://pypi.org/project/six/).\n",
            "  \"(https://pypi.org/project/six/).\", FutureWarning)\n",
            "/usr/local/lib/python3.6/dist-packages/sklearn/externals/joblib/__init__.py:15: FutureWarning: sklearn.externals.joblib is deprecated in 0.21 and will be removed in 0.23. Please import this functionality directly from joblib, which can be installed with: pip install joblib. If this warning is raised when loading pickled models, you may need to re-serialize those models with scikit-learn 0.21+.\n",
            "  warnings.warn(msg, category=FutureWarning)\n",
            "/usr/local/lib/python3.6/dist-packages/sklearn/utils/deprecation.py:87: FutureWarning: Function make_blobs is deprecated; Please import make_blobs directly from scikit-learn\n",
            "  warnings.warn(msg, category=FutureWarning)\n"
          ],
          "name": "stderr"
        },
        {
          "output_type": "display_data",
          "data": {
            "image/png": "[encoded data removed]",
            "text/plain": [
              "<Figure size 432x288 with 1 Axes>"
            ]
          },
          "metadata": {
            "tags": []
          }
        }
      ]
    },
    {
      "cell_type": "markdown",
      "metadata": {
        "id": "8L_8egChWePe",
        "colab_type": "text"
      },
      "source": [
        "Here, we added three new data points, shown as stars. For each of them, we marked the closest point in the training set. The prediction of the one-nearest-neighbor algo‐ rithm is the label of that point (shown by the color of the cross)."
      ]
    },
    {
      "cell_type": "markdown",
      "metadata": {
        "id": "kGuEdj7HWgCQ",
        "colab_type": "text"
      },
      "source": [
        "Instead of considering only the closest neighbor, we can also consider an arbitrary number, k, of neighbors. This is where the name of the k-nearest neighbors algorithm comes from. When considering more than one neighbor, we use voting to assign a label. This means that for each test point, we count how many neighbors belong to class 0 and how many neighbors belong to class 1. We then assign the class that is more frequent: in other words, the majority class among the k-nearest neighbors. "
      ]
    },
    {
      "cell_type": "code",
      "metadata": {
        "id": "AipUbl29WjFN",
        "colab_type": "code",
        "colab": {
          "base_uri": "https://localhost:8080/",
          "height": 319
        },
        "outputId": "023808f8-8c61-4f50-a218-f78aca4c8325"
      },
      "source": [
        "mglearn.plots.plot_knn_classification(n_neighbors=3)"
      ],
      "execution_count": 3,
      "outputs": [
        {
          "output_type": "stream",
          "text": [
            "/usr/local/lib/python3.6/dist-packages/sklearn/utils/deprecation.py:87: FutureWarning: Function make_blobs is deprecated; Please import make_blobs directly from scikit-learn\n",
            "  warnings.warn(msg, category=FutureWarning)\n"
          ],
          "name": "stderr"
        },
        {
          "output_type": "display_data",
          "data": {
            "image/png": "[encoded data removed]",
            "text/plain": [
              "<Figure size 432x288 with 1 Axes>"
            ]
          },
          "metadata": {
            "tags": []
          }
        }
      ]
    },
    {
      "cell_type": "markdown",
      "metadata": {
        "id": "EE34IcevWyj1",
        "colab_type": "text"
      },
      "source": [
        "Again, the prediction is shown as the color of the cross. You can see that the predic‐ tion for the new data point at the top left is not the same as the prediction when we used only one neighbor.\n",
        "While this illustration is for a binary classification problem, this method can be applied to datasets with any number of classes. For more classes, we count how many neighbors belong to each class and again predict the most common class."
      ]
    },
    {
      "cell_type": "markdown",
      "metadata": {
        "id": "Aq7NatbLW0zX",
        "colab_type": "text"
      },
      "source": [
        "**Hands-On Application**"
      ]
    },
    {
      "cell_type": "markdown",
      "metadata": {
        "id": "Zk4IIMmV5Auc",
        "colab_type": "text"
      },
      "source": [
        "K-NN over forge dataset\n"
      ]
    },
    {
      "cell_type": "markdown",
      "metadata": {
        "id": "WyVd2yJN5LXC",
        "colab_type": "text"
      },
      "source": [
        "**Step 1 - Loading the data**"
      ]
    },
    {
      "cell_type": "code",
      "metadata": {
        "id": "2jj37h_95KYn",
        "colab_type": "code",
        "colab": {
          "base_uri": "https://localhost:8080/",
          "height": 71
        },
        "outputId": "4a395537-c4f5-4a7a-8955-8f3e2de26e96"
      },
      "source": [
        "X, y = mglearn.datasets.make_forge()"
      ],
      "execution_count": 4,
      "outputs": [
        {
          "output_type": "stream",
          "text": [
            "/usr/local/lib/python3.6/dist-packages/sklearn/utils/deprecation.py:87: FutureWarning: Function make_blobs is deprecated; Please import make_blobs directly from scikit-learn\n",
            "  warnings.warn(msg, category=FutureWarning)\n"
          ],
          "name": "stderr"
        }
      ]
    },
    {
      "cell_type": "markdown",
      "metadata": {
        "id": "5oJaoVsA5kT1",
        "colab_type": "text"
      },
      "source": [
        "**Step 2 - Train-Test Split**"
      ]
    },
    {
      "cell_type": "code",
      "metadata": {
        "id": "Y0YruEKX5q55",
        "colab_type": "code",
        "colab": {}
      },
      "source": [
        "from sklearn.model_selection import train_test_split\n",
        "X_train, X_test, y_train, y_test = train_test_split(X, y, random_state=0)"
      ],
      "execution_count": 0,
      "outputs": []
    },
    {
      "cell_type": "markdown",
      "metadata": {
        "id": "m8NGj7N-5-jg",
        "colab_type": "text"
      },
      "source": [
        "**Step 3 - Building the Model**"
      ]
    },
    {
      "cell_type": "markdown",
      "metadata": {
        "id": "eImqd6VZ6LRy",
        "colab_type": "text"
      },
      "source": [
        "Next, we import and instantiate the class. This is when we can set parameters, like the number of neighbors to use. "
      ]
    },
    {
      "cell_type": "code",
      "metadata": {
        "id": "qYKUSJUS6Gui",
        "colab_type": "code",
        "colab": {}
      },
      "source": [
        "from sklearn.neighbors import KNeighborsClassifier\n",
        "clf = KNeighborsClassifier(n_neighbors = 3)"
      ],
      "execution_count": 0,
      "outputs": []
    },
    {
      "cell_type": "markdown",
      "metadata": {
        "id": "ohUdbave6fJe",
        "colab_type": "text"
      },
      "source": [
        "**Step 4 - Training the model**"
      ]
    },
    {
      "cell_type": "markdown",
      "metadata": {
        "id": "gQSZRjws6mm6",
        "colab_type": "text"
      },
      "source": [
        "Now, we fit the classifier using the training set. For KNeighborsClassifier this means storing the dataset, so we can compute neighbors during prediction:"
      ]
    },
    {
      "cell_type": "code",
      "metadata": {
        "id": "2xnyzGFv6nPq",
        "colab_type": "code",
        "colab": {
          "base_uri": "https://localhost:8080/",
          "height": 68
        },
        "outputId": "42888a89-f8d5-4240-8cc6-43dfaa1edfc5"
      },
      "source": [
        "clf.fit(X_train, y_train)"
      ],
      "execution_count": 7,
      "outputs": [
        {
          "output_type": "execute_result",
          "data": {
            "text/plain": [
              "KNeighborsClassifier(algorithm='auto', leaf_size=30, metric='minkowski',\n",
              "                     metric_params=None, n_jobs=None, n_neighbors=3, p=2,\n",
              "                     weights='uniform')"
            ]
          },
          "metadata": {
            "tags": []
          },
          "execution_count": 7
        }
      ]
    },
    {
      "cell_type": "markdown",
      "metadata": {
        "id": "SVKEHoID60B9",
        "colab_type": "text"
      },
      "source": [
        "**Step 5 - Making the predictions**"
      ]
    },
    {
      "cell_type": "markdown",
      "metadata": {
        "id": "W4i8FtR36-5e",
        "colab_type": "text"
      },
      "source": [
        "To make predictions on the test data, we call the predict method. For each data point in the test set, this computes its nearest neighbors in the training set and finds the most common class among these:"
      ]
    },
    {
      "cell_type": "code",
      "metadata": {
        "id": "ugyVaYoi7AlJ",
        "colab_type": "code",
        "colab": {
          "base_uri": "https://localhost:8080/",
          "height": 34
        },
        "outputId": "bbd90d39-2e48-42f3-f9df-68b2cca762fd"
      },
      "source": [
        "print(\"Test set prediction {}\".format(clf.predict(X_test)))"
      ],
      "execution_count": 8,
      "outputs": [
        {
          "output_type": "stream",
          "text": [
            "Test set prediction [1 0 1 0 1 0 0]\n"
          ],
          "name": "stdout"
        }
      ]
    },
    {
      "cell_type": "markdown",
      "metadata": {
        "id": "9hlsziIz7Nuh",
        "colab_type": "text"
      },
      "source": [
        "**Step 6 - Evaluating the model**"
      ]
    },
    {
      "cell_type": "code",
      "metadata": {
        "id": "uVVNVmHb7SHr",
        "colab_type": "code",
        "colab": {
          "base_uri": "https://localhost:8080/",
          "height": 34
        },
        "outputId": "e71a37f2-68e5-4b81-9ef7-5d5459b9ec95"
      },
      "source": [
        "print(\"Test set accuracy : {}\".format(clf.score(X_test, y_test)))"
      ],
      "execution_count": 9,
      "outputs": [
        {
          "output_type": "stream",
          "text": [
            "Test set accuracy : 0.8571428571428571\n"
          ],
          "name": "stdout"
        }
      ]
    },
    {
      "cell_type": "markdown",
      "metadata": {
        "id": "rITtNeUw9JEV",
        "colab_type": "text"
      },
      "source": [
        "**Analysing k-neighbors classifier**"
      ]
    },
    {
      "cell_type": "markdown",
      "metadata": {
        "id": "OrnDoMi_9MTC",
        "colab_type": "text"
      },
      "source": [
        "For two-dimensional datasets, we can also illustrate the prediction for all possible test points in the xy-plane. We color the plane according to the class that would be assigned to a point in this region. This lets us view the decision boundary, which is the divide between where the algorithm assigns class 0 versus where it assigns class 1."
      ]
    },
    {
      "cell_type": "code",
      "metadata": {
        "id": "GvMqL8Bt9ReH",
        "colab_type": "code",
        "colab": {
          "base_uri": "https://localhost:8080/",
          "height": 241
        },
        "outputId": "9c9bd814-34bd-42b9-d45f-f72d0f04cd4e"
      },
      "source": [
        "import matplotlib.pyplot as plt\n",
        "fig, axes = plt.subplots(1, 3, figsize=(10, 3))\n",
        "for n_neighbors, ax in zip([1, 3, 9], axes):\n",
        "  # the fit method returns the object self, so we can instantiate\n",
        "  # and fit in one line\n",
        "  clf = KNeighborsClassifier(n_neighbors=n_neighbors).fit(X, y) \n",
        "  mglearn.plots.plot_2d_separator(clf, X, fill=True, eps=0.5, ax=ax, alpha=.4) \n",
        "  mglearn.discrete_scatter(X[:, 0], X[:, 1], y, ax=ax)\n",
        "  ax.set_title(\"{} neighbor(s)\".format(n_neighbors))\n",
        "  ax.set_xlabel(\"feature 0\")\n",
        "  ax.set_ylabel(\"feature 1\")\n",
        "axes[0].legend(loc=3)"
      ],
      "execution_count": 11,
      "outputs": [
        {
          "output_type": "execute_result",
          "data": {
            "text/plain": [
              "<matplotlib.legend.Legend at 0x7f961fbb12e8>"
            ]
          },
          "metadata": {
            "tags": []
          },
          "execution_count": 11
        },
        {
          "output_type": "display_data",
          "data": {
            "image/png": "[encoded data removed]",
            "text/plain": [
              "<Figure size 720x216 with 3 Axes>"
            ]
          },
          "metadata": {
            "tags": []
          }
        }
      ]
    },
    {
      "cell_type": "markdown",
      "metadata": {
        "id": "TbhOBhv09_G4",
        "colab_type": "text"
      },
      "source": [
        "As you can see on the left in the figure, using a single neighbor results in a decision boundary that follows the training data closely. Considering more and more neighbors leads to a smoother decision boundary. A smoother boundary corresponds to a simpler model. In other words, using few neighbors corresponds to high model complexity, and using many neighbors corresponds to low model complexity. If you consider the extreme case where the number of neighbors is the number of all data points in the training set, each test point would have exactly the same neighbors (all training points) and all predictions would be the same: the class that is most frequent in the training set."
      ]
    },
    {
      "cell_type": "markdown",
      "metadata": {
        "id": "3nMHi7rR-So9",
        "colab_type": "text"
      },
      "source": [
        "Let’s investigate whether we can confirm the connection between model complexity and generalization that we discussed earlier. We will do this on the real-world Breast Cancer dataset. We begin by splitting the dataset into a training and a test set. Then we evaluate training and test set performance with different numbers of neighbors."
      ]
    },
    {
      "cell_type": "code",
      "metadata": {
        "id": "pPHaNnCU-aIC",
        "colab_type": "code",
        "colab": {
          "base_uri": "https://localhost:8080/",
          "height": 297
        },
        "outputId": "028e126e-65ad-4917-f2d9-5a18c11e84d8"
      },
      "source": [
        "from sklearn.datasets import load_breast_cancer\n",
        "cancer = load_breast_cancer()\n",
        "X_train, X_test, y_train, y_test = train_test_split(cancer.data, cancer.target, stratify=cancer.target, random_state=66)\n",
        "training_accuracy = [] \n",
        "test_accuracy = []\n",
        "# try n_neighbors from 1 to 10 \n",
        "neighbors_settings = range(1, 11)\n",
        "for n_neighbors in neighbors_settings:\n",
        "  # build the model\n",
        "  clf = KNeighborsClassifier(n_neighbors=n_neighbors) \n",
        "  clf.fit(X_train, y_train)\n",
        "  # record training set accuracy \n",
        "  training_accuracy.append(clf.score(X_train, y_train)) \n",
        "  # record generalization accuracy \n",
        "  test_accuracy.append(clf.score(X_test, y_test))\n",
        "plt.plot(neighbors_settings, training_accuracy, label=\"training accuracy\") \n",
        "plt.plot(neighbors_settings, test_accuracy, label=\"test accuracy\") \n",
        "plt.ylabel(\"Accuracy\")\n",
        "plt.xlabel(\"n_neighbors\")\n",
        "plt.legend()"
      ],
      "execution_count": 12,
      "outputs": [
        {
          "output_type": "execute_result",
          "data": {
            "text/plain": [
              "<matplotlib.legend.Legend at 0x7f961f851eb8>"
            ]
          },
          "metadata": {
            "tags": []
          },
          "execution_count": 12
        },
        {
          "output_type": "display_data",
          "data": {
            "image/png": "[encoded data removed]",
            "text/plain": [
              "<Figure size 432x288 with 1 Axes>"
            ]
          },
          "metadata": {
            "tags": []
          }
        }
      ]
    },
    {
      "cell_type": "markdown",
      "metadata": {
        "id": "pGjRjepg-72l",
        "colab_type": "text"
      },
      "source": [
        "The plot shows the training and test set accuracy on the y-axis against the setting of n_neighbors on the x-axis. While real-world plots are rarely very smooth, we can still recognize some of the characteristics of overfitting and underfitting (note that because considering fewer neighbors corresponds to a more complex model, the plot is horizontally flipped relative to the illustration). Considering a single nearest neighbor, the prediction on the training set is perfect. But when more neighbors are considered, the model becomes simpler and the training accuracy drops. The test set accuracy for using a single neighbor is lower than when using more neighbors, indicating that using the single nearest neighbor leads to a model that is too complex. On the other hand, when considering 10 neighbors, the model is too simple and performance is even worse. The best performance is somewhere in the middle, using around six neighbors. Still, it is good to keep the scale of the plot in mind. The worst performance is around 88% accuracy, which might still be acceptable."
      ]
    },
    {
      "cell_type": "markdown",
      "metadata": {
        "id": "-bNQn_dH_Mi5",
        "colab_type": "text"
      },
      "source": [
        "**k-Neighbors Regression**"
      ]
    },
    {
      "cell_type": "markdown",
      "metadata": {
        "id": "sg8KkcM2_Wiv",
        "colab_type": "text"
      },
      "source": [
        "There is also a regression variant of the k-nearest neighbors algorithm. Again, let’s start by using the single nearest neighbor, this time using the wave dataset. We’ve added three test data points as green stars on the x-axis. The prediction using a single neighbor is just the target value of the nearest neighbor. These are shown as blue stars in figure."
      ]
    },
    {
      "cell_type": "code",
      "metadata": {
        "id": "r0p6bHpd_emL",
        "colab_type": "code",
        "colab": {
          "base_uri": "https://localhost:8080/",
          "height": 414
        },
        "outputId": "f10962ce-ac05-4d6d-89ef-d513b22dff5d"
      },
      "source": [
        "mglearn.plots.plot_knn_regression(n_neighbors=1)"
      ],
      "execution_count": 13,
      "outputs": [
        {
          "output_type": "display_data",
          "data": {
            "image/png": "[encoded data removed]",
            "text/plain": [
              "<Figure size 720x432 with 1 Axes>"
            ]
          },
          "metadata": {
            "tags": []
          }
        }
      ]
    },
    {
      "cell_type": "markdown",
      "metadata": {
        "id": "9sCC9z6e_vn9",
        "colab_type": "text"
      },
      "source": [
        "Again, we can use more than the single closest neighbor for regression. When using multiple nearest neighbors, the prediction is the average, or mean, of the relevant neighbors"
      ]
    },
    {
      "cell_type": "code",
      "metadata": {
        "id": "EIig6MCD_wo_",
        "colab_type": "code",
        "colab": {
          "base_uri": "https://localhost:8080/",
          "height": 414
        },
        "outputId": "2ef62b13-9c2c-4fb4-eb85-664f9d8564fc"
      },
      "source": [
        "mglearn.plots.plot_knn_regression(n_neighbors=3)"
      ],
      "execution_count": 14,
      "outputs": [
        {
          "output_type": "display_data",
          "data": {
            "image/png": "[encoded data removed]",
            "text/plain": [
              "<Figure size 720x432 with 1 Axes>"
            ]
          },
          "metadata": {
            "tags": []
          }
        }
      ]
    },
    {
      "cell_type": "markdown",
      "metadata": {
        "id": "etcI5FVX_7pL",
        "colab_type": "text"
      },
      "source": [
        "**Hands-On Application**"
      ]
    },
    {
      "cell_type": "markdown",
      "metadata": {
        "id": "ppGev5GGAA0V",
        "colab_type": "text"
      },
      "source": [
        "**Step 1 - Loading the data**"
      ]
    },
    {
      "cell_type": "code",
      "metadata": {
        "id": "eabgGp-ZAGAe",
        "colab_type": "code",
        "colab": {}
      },
      "source": [
        "X, y = mglearn.datasets.make_wave(n_samples=40)"
      ],
      "execution_count": 0,
      "outputs": []
    },
    {
      "cell_type": "markdown",
      "metadata": {
        "id": "Cg-REQbhARYo",
        "colab_type": "text"
      },
      "source": [
        "**Step 2 - Train-Test Split**"
      ]
    },
    {
      "cell_type": "code",
      "metadata": {
        "id": "mq-foOmYAe0R",
        "colab_type": "code",
        "colab": {}
      },
      "source": [
        "from sklearn.model_selection import train_test_split\n",
        "X_train, X_test, y_train, y_test = train_test_split(X, y, random_state=60)"
      ],
      "execution_count": 0,
      "outputs": []
    },
    {
      "cell_type": "markdown",
      "metadata": {
        "id": "XsHsn3gQAzHU",
        "colab_type": "text"
      },
      "source": [
        "**Step 3 - Building the Model**"
      ]
    },
    {
      "cell_type": "markdown",
      "metadata": {
        "id": "qMxzlJVHA44n",
        "colab_type": "text"
      },
      "source": [
        "The k-nearest neighbors algorithm for regression is implemented in the KNeighborsRegressor class in scikit-learn. It’s used similarly to KNeighborsClassifier:"
      ]
    },
    {
      "cell_type": "code",
      "metadata": {
        "id": "AkCQzWW2A9gr",
        "colab_type": "code",
        "colab": {}
      },
      "source": [
        "from sklearn.neighbors import KNeighborsRegressor\n",
        "reg = KNeighborsRegressor(n_neighbors=3)"
      ],
      "execution_count": 0,
      "outputs": []
    },
    {
      "cell_type": "markdown",
      "metadata": {
        "id": "1jUdyKbDBRPM",
        "colab_type": "text"
      },
      "source": [
        "**Step 4 - Training the Model**"
      ]
    },
    {
      "cell_type": "code",
      "metadata": {
        "id": "5S_guMsFBZhe",
        "colab_type": "code",
        "colab": {
          "base_uri": "https://localhost:8080/",
          "height": 68
        },
        "outputId": "15bc4099-6fc8-414b-9aea-3241331a288c"
      },
      "source": [
        "reg.fit(X_train, y_train)"
      ],
      "execution_count": 18,
      "outputs": [
        {
          "output_type": "execute_result",
          "data": {
            "text/plain": [
              "KNeighborsRegressor(algorithm='auto', leaf_size=30, metric='minkowski',\n",
              "                    metric_params=None, n_jobs=None, n_neighbors=3, p=2,\n",
              "                    weights='uniform')"
            ]
          },
          "metadata": {
            "tags": []
          },
          "execution_count": 18
        }
      ]
    },
    {
      "cell_type": "markdown",
      "metadata": {
        "id": "qoZKoLMhBeX-",
        "colab_type": "text"
      },
      "source": [
        "**Step 5 - Making the Predictions**"
      ]
    },
    {
      "cell_type": "code",
      "metadata": {
        "id": "7CbTF4D_Bmdg",
        "colab_type": "code",
        "colab": {
          "base_uri": "https://localhost:8080/",
          "height": 51
        },
        "outputId": "e50f0371-0d55-4453-835c-3d49760dc36a"
      },
      "source": [
        "print(\"Test set prediction {}\".format(reg.predict(X_test)))"
      ],
      "execution_count": 20,
      "outputs": [
        {
          "output_type": "stream",
          "text": [
            "Test set prediction [ 1.38930649 -1.45950779  0.34412716  0.18836016 -1.50149481  0.18836016\n",
            " -0.47317977  1.13671923 -1.53274815  0.95791719]\n"
          ],
          "name": "stdout"
        }
      ]
    },
    {
      "cell_type": "markdown",
      "metadata": {
        "id": "PBqk0T4tByBd",
        "colab_type": "text"
      },
      "source": [
        "**Step 6 - Evaluating the Model**"
      ]
    },
    {
      "cell_type": "code",
      "metadata": {
        "id": "A74k1yVXB12s",
        "colab_type": "code",
        "colab": {
          "base_uri": "https://localhost:8080/",
          "height": 34
        },
        "outputId": "2595903e-07c3-4e41-f30a-96a48d5deaec"
      },
      "source": [
        "print(\"Test score : {}\".format(reg.score(X_test, y_test)))"
      ],
      "execution_count": 21,
      "outputs": [
        {
          "output_type": "stream",
          "text": [
            "Test score : 0.7594822313629138\n"
          ],
          "name": "stdout"
        }
      ]
    },
    {
      "cell_type": "markdown",
      "metadata": {
        "id": "TCTyynBCCGbN",
        "colab_type": "text"
      },
      "source": [
        "**Analyzing k-Neighbors Regressor**"
      ]
    },
    {
      "cell_type": "markdown",
      "metadata": {
        "id": "i5p2kcuTCOlu",
        "colab_type": "text"
      },
      "source": [
        "For our one-dimensional dataset, we can see what the predictions look like for all possible feature values. To do this, we create a test dataset consisting of many points on the x-axis, which corresponds to the single feature"
      ]
    },
    {
      "cell_type": "code",
      "metadata": {
        "id": "n78AUAdBCS5o",
        "colab_type": "code",
        "colab": {
          "base_uri": "https://localhost:8080/",
          "height": 327
        },
        "outputId": "4e305766-3741-45f4-fcae-703e152d5d23"
      },
      "source": [
        "import numpy as np\n",
        "\n",
        "fig, axes = plt.subplots(1, 3, figsize=(15, 4))\n",
        "# create 1,000 data points, evenly spaced between -3 and 3 \n",
        "line = np.linspace(-3, 3, 1000).reshape(-1, 1)\n",
        "for n_neighbors, ax in zip([1, 3, 9], axes):\n",
        "  # make predictions using 1, 3, or 9 neighbors\n",
        "  reg = KNeighborsRegressor(n_neighbors=n_neighbors) \n",
        "  reg.fit(X_train, y_train)\n",
        "  ax.plot(line, reg.predict(line))\n",
        "  ax.plot(X_train, y_train, '^', c=mglearn.cm2(0), markersize=8) \n",
        "  ax.plot(X_test, y_test, 'v', c=mglearn.cm2(1), markersize=8)\n",
        "  ax.set_title(\"{} neighbor(s)\\n train score: {:.2f} test score: {:.2f}\".format(n_neighbors, reg.score(X_train, y_train),reg.score(X_test, y_test))) \n",
        "  ax.set_xlabel(\"Feature\")\n",
        "  ax.set_ylabel(\"Target\")\n",
        "axes[0].legend([\"Model predictions\", \"Training data/target\",\"Test data/target\"], loc=\"best\")"
      ],
      "execution_count": 23,
      "outputs": [
        {
          "output_type": "execute_result",
          "data": {
            "text/plain": [
              "<matplotlib.legend.Legend at 0x7f961f523630>"
            ]
          },
          "metadata": {
            "tags": []
          },
          "execution_count": 23
        },
        {
          "output_type": "display_data",
          "data": {
            "image/png": "[encoded data removed]",
            "text/plain": [
              "<Figure size 1080x288 with 3 Axes>"
            ]
          },
          "metadata": {
            "tags": []
          }
        }
      ]
    },
    {
      "cell_type": "markdown",
      "metadata": {
        "id": "rmpLOJKuC2J3",
        "colab_type": "text"
      },
      "source": [
        "As we can see from the plot, using only a single neighbor, each point in the training set has an obvious influence on the predictions, and the predicted values go through all of the data points. This leads to a very unsteady prediction. Considering more neighbors leads to smoother predictions, but these do not fit the training data as well."
      ]
    },
    {
      "cell_type": "markdown",
      "metadata": {
        "id": "ZZQag8fMC7Pq",
        "colab_type": "text"
      },
      "source": [
        "**Strengths, weakness and parameters kNearestNeighbors(Classifier and Regressor)**"
      ]
    },
    {
      "cell_type": "markdown",
      "metadata": {
        "id": "pej8GcdZDLrK",
        "colab_type": "text"
      },
      "source": [
        "In principle, there are two important parameters to the KNeighbors classifier: the number of neighbors and how you measure distance between data points. In practice, using a small number of neighbors like three or five often works well, but you should certainly adjust this parameter. Choosing the right distance measure is somewhat beyond the scope of this book. By default, Euclidean distance is used, which works well in many settings."
      ]
    },
    {
      "cell_type": "markdown",
      "metadata": {
        "id": "mPV8HEzmDVab",
        "colab_type": "text"
      },
      "source": [
        "One of the strengths of k-NN is that the model is very easy to understand, and often gives reasonable performance without a lot of adjustments. Using this algorithm is a good baseline method to try before considering more advanced techniques. Building the nearest neighbors model is usually very fast, but when your training set is very large (either in number of features or in number of samples) prediction can be slow. When using the k-NN algorithm, it’s important to preprocess your data(Preprocessing will be taught in coming tutorials). This approach often does not perform well on datasets with many features (hundreds or more), and it does particularly badly with datasets where most features are 0 most of the time (so-called sparse datasets)."
      ]
    }
  ]
}