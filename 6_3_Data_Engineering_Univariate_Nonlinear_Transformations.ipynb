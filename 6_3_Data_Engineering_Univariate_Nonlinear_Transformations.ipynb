{
  "nbformat": 4,
  "nbformat_minor": 0,
  "metadata": {
    "colab": {
      "name": "6.3 - Data Engineering - Univariate Nonlinear Transformations.ipynb",
      "provenance": [],
      "authorship_tag": "ABX9TyP4BCXElxNvbPKqW+m3bPzs",
      "include_colab_link": true
    },
    "kernelspec": {
      "name": "python3",
      "display_name": "Python 3"
    }
  },
  "cells": [
    {
      "cell_type": "markdown",
      "metadata": {
        "id": "view-in-github",
        "colab_type": "text"
      },
      "source": [
        "<a href=\"https://colab.research.google.com/github/chaurasiauttkarsh/Machine-Learning/blob/master/6_3_Data_Engineering_Univariate_Nonlinear_Transformations.ipynb\" target=\"_parent\"><img src=\"https://colab.research.google.com/assets/colab-badge.svg\" alt=\"Open In Colab\"/></a>"
      ]
    },
    {
      "cell_type": "markdown",
      "metadata": {
        "id": "B37VoC0sNHhf",
        "colab_type": "text"
      },
      "source": [
        "We just saw that adding squared or cubed features can help linear models for regression. There are other transformations that often prove useful for transforming certain features: in particular, applying mathematical functions like log, exp, or sin. While tree-based models only care about the ordering of the features, linear models and neural networks are very tied to the scale and distribution of each feature, and if there is a nonlinear relation between the feature and the target, that becomes hard to model particularly in regression. The functions log and exp can help by adjusting the relative scales in the data so that they can be captured better by a linear model or neural network. The sin and cos functions can come in handy when dealing with data that encodes periodic patterns."
      ]
    },
    {
      "cell_type": "markdown",
      "metadata": {
        "id": "y--YSUxDOSlv",
        "colab_type": "text"
      },
      "source": [
        "Most models work best when each feature (and in regression also the target) is loosely Gaussian distributed—that is, a histogram of each feature should have something resembling the familiar “bell curve” shape. Using transformations like log and exp is a hacky but simple and efficient way to achieve this. A particularly common case when such a transformation can be helpful is when dealing with integer count data. By count data, we mean features like “how often did user A log in?” Counts are never negative, and often follow particular statistical patterns. We are using a synthetic dataset of counts here that has properties similar to those you can find in the wild. The features are all integer-valued, while the response is continuous:"
      ]
    },
    {
      "cell_type": "code",
      "metadata": {
        "id": "mERBiEHdM3ma",
        "colab_type": "code",
        "colab": {
          "base_uri": "https://localhost:8080/",
          "height": 296
        },
        "outputId": "59db0aab-8d3f-42aa-e712-e29488f18fad"
      },
      "source": [
        "import numpy as np\n",
        "rnd = np.random.RandomState(0) \n",
        "X_org = rnd.normal(size=(1000, 3)) \n",
        "w = rnd.normal(size=3)\n",
        "X = rnd.poisson(10 * np.exp(X_org)) \n",
        "y = np.dot(X_org, w)\n",
        "bins = np.bincount(X[:, 0]) \n",
        "import matplotlib.pyplot as plt\n",
        "plt.bar(range(len(bins)), bins, color='b') \n",
        "plt.ylabel(\"Number of appearances\") \n",
        "plt.xlabel(\"Value\")"
      ],
      "execution_count": 3,
      "outputs": [
        {
          "output_type": "execute_result",
          "data": {
            "text/plain": [
              "Text(0.5, 0, 'Value')"
            ]
          },
          "metadata": {
            "tags": []
          },
          "execution_count": 3
        },
        {
          "output_type": "display_data",
          "data": {
            "image/png": "[encoded data removed]",
            "text/plain": [
              "<Figure size 432x288 with 1 Axes>"
            ]
          },
          "metadata": {
            "tags": [],
            "needs_background": "light"
          }
        }
      ]
    },
    {
      "cell_type": "code",
      "metadata": {
        "id": "bmUAKX3XPrpB",
        "colab_type": "code",
        "colab": {
          "base_uri": "https://localhost:8080/",
          "height": 136
        },
        "outputId": "8c02caed-7b71-4463-a4d1-f3924b6e5dc3"
      },
      "source": [
        "print(\"Number of feature appearances:\\n{}\".format(np.bincount(X[:, 0])))"
      ],
      "execution_count": 4,
      "outputs": [
        {
          "output_type": "stream",
          "text": [
            "Number of feature appearances:\n",
            "[28 38 68 48 61 59 45 56 37 40 35 34 36 26 23 26 27 21 23 23 18 21 10  9\n",
            " 17  9  7 14 12  7  3  8  4  5  5  3  4  2  4  1  1  3  2  5  3  8  2  5\n",
            "  2  1  2  3  3  2  2  3  3  0  1  2  1  0  0  3  1  0  0  0  1  3  0  1\n",
            "  0  2  0  1  1  0  0  0  0  1  0  0  2  2  0  1  1  0  0  0  0  1  1  0\n",
            "  0  0  0  0  0  0  1  0  0  0  0  0  1  1  0  0  1  0  0  0  0  0  0  0\n",
            "  1  0  0  0  0  1  0  0  0  0  0  0  0  0  0  0  0  0  0  0  1]\n"
          ],
          "name": "stdout"
        }
      ]
    },
    {
      "cell_type": "markdown",
      "metadata": {
        "id": "Z6MfdtTwPt9j",
        "colab_type": "text"
      },
      "source": [
        "The value 2 seems to be the most common, with 68 appearances (bincount always starts at 0), and the counts for higher values fall quickly. However, there are some very high values, like 84 and 85, that are appearing twice."
      ]
    },
    {
      "cell_type": "markdown",
      "metadata": {
        "id": "P_VxEoxTDphs",
        "colab_type": "text"
      },
      "source": [
        "Features X[:, 1] and X[:, 2] have similar properties. This kind of distribution of values (many small ones and a few very large ones) is very common in practice. However, it is something most linear models can’t handle very well. Let’s try to fit a ridge regression to this model:"
      ]
    },
    {
      "cell_type": "code",
      "metadata": {
        "id": "DXT8znW-Dxgf",
        "colab_type": "code",
        "colab": {
          "base_uri": "https://localhost:8080/",
          "height": 34
        },
        "outputId": "1a207048-1242-436d-f7be-0a6ec1766d6f"
      },
      "source": [
        "from sklearn.linear_model import Ridge\n",
        "from sklearn.model_selection import train_test_split\n",
        "X_train, X_test, y_train, y_test = train_test_split(X, y, random_state=0) \n",
        "score = Ridge().fit(X_train, y_train).score(X_test, y_test)\n",
        "print(\"Test score: {:.3f}\".format(score))\n"
      ],
      "execution_count": 5,
      "outputs": [
        {
          "output_type": "stream",
          "text": [
            "Test score: 0.622\n"
          ],
          "name": "stdout"
        }
      ]
    },
    {
      "cell_type": "markdown",
      "metadata": {
        "id": "kxyIv0H9EExI",
        "colab_type": "text"
      },
      "source": [
        "As you can see from the relatively low R2 score, Ridge was not able to really capture the relationship between X and y. Applying a logarithmic transformation can help, though. Because the value 0 appears in the data (and the logarithm is not defined at 0), we can’t actually just apply log, but we have to compute log(X + 1):"
      ]
    },
    {
      "cell_type": "code",
      "metadata": {
        "id": "GgPpeaM8ELLL",
        "colab_type": "code",
        "colab": {}
      },
      "source": [
        "X_train_log = np.log(X_train + 1) \n",
        "X_test_log = np.log(X_test + 1)"
      ],
      "execution_count": 0,
      "outputs": []
    },
    {
      "cell_type": "markdown",
      "metadata": {
        "id": "yTOUP1T2ERQe",
        "colab_type": "text"
      },
      "source": [
        "After the transformation, the distribution of the data is less asymmetrical and doesn’t have very large outliers anymore."
      ]
    },
    {
      "cell_type": "code",
      "metadata": {
        "id": "NWqoCMf8ESWI",
        "colab_type": "code",
        "colab": {
          "base_uri": "https://localhost:8080/",
          "height": 296
        },
        "outputId": "09773ee6-5587-4272-d5e9-c8d7b3af0dc7"
      },
      "source": [
        "plt.hist(X_train_log[:, 0], bins=25, color='gray') \n",
        "plt.ylabel(\"Number of appearances\") \n",
        "plt.xlabel(\"Value\")"
      ],
      "execution_count": 7,
      "outputs": [
        {
          "output_type": "execute_result",
          "data": {
            "text/plain": [
              "Text(0.5, 0, 'Value')"
            ]
          },
          "metadata": {
            "tags": []
          },
          "execution_count": 7
        },
        {
          "output_type": "display_data",
          "data": {
            "image/png": "[encoded data removed]",
            "text/plain": [
              "<Figure size 432x288 with 1 Axes>"
            ]
          },
          "metadata": {
            "tags": [],
            "needs_background": "light"
          }
        }
      ]
    },
    {
      "cell_type": "markdown",
      "metadata": {
        "id": "25EgMomyEfdO",
        "colab_type": "text"
      },
      "source": [
        "Building a ridge model on the new data provides a much better fit."
      ]
    },
    {
      "cell_type": "code",
      "metadata": {
        "id": "Qsiz3rbYEg24",
        "colab_type": "code",
        "colab": {
          "base_uri": "https://localhost:8080/",
          "height": 34
        },
        "outputId": "d051f276-0a8c-4c58-ad5f-0b9d6cb7b674"
      },
      "source": [
        "score = Ridge().fit(X_train_log, y_train).score(X_test_log, y_test) \n",
        "print(\"Test score: {:.3f}\".format(score))\n"
      ],
      "execution_count": 8,
      "outputs": [
        {
          "output_type": "stream",
          "text": [
            "Test score: 0.875\n"
          ],
          "name": "stdout"
        }
      ]
    }
  ]
}